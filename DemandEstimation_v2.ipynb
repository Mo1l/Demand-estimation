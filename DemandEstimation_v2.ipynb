{
 "cells": [
  {
   "cell_type": "code",
   "execution_count": 10,
   "id": "8bd01b3d-d610-469b-83a7-22446206e720",
   "metadata": {},
   "outputs": [
    {
     "name": "stdout",
     "output_type": "stream",
     "text": [
      "The autoreload extension is already loaded. To reload it, use:\n",
      "  %reload_ext autoreload\n",
      "The line_profiler extension is already loaded. To reload it, use:\n",
      "  %reload_ext line_profiler\n"
     ]
    }
   ],
   "source": [
    "\n",
    "\n",
    "%load_ext autoreload\n",
    "%autoreload 2\n",
    "%load_ext line_profiler\n",
    "\n",
    "\n",
    "import numpy as np\n",
    "import DemandEstimation_v2 as DE\n",
    "from tqdm.notebook import tqdm\n",
    "from statsmodels.regression.linear_model import OLS \n",
    "import seaborn as sns\n",
    "import pandas as pd\n",
    "import matplotlib.pyplot as plt\n",
    "plt.rcParams.update({\n",
    "  \"text.usetex\": False,\n",
    "  \"font.family\": \"Helvetica\"\n",
    "})\n",
    "\n"
   ]
  },
  {
   "cell_type": "markdown",
   "id": "6ac0eada-e5ab-497f-9a10-b2a2dbf78702",
   "metadata": {},
   "source": [
    "### Doing a simulation study: "
   ]
  },
  {
   "cell_type": "code",
   "execution_count": 36,
   "id": "8a66c8e4-37f2-4448-85b1-fc9e3cee729c",
   "metadata": {},
   "outputs": [],
   "source": [
    "def sim_study(sim_params,cov, Type = \"OLS\", Consts = False, tqdm_off = False):\n",
    "    \"\"\"\n",
    "    Type - options \"OLS\", \"IV\"\n",
    "    \"\"\"\n",
    "    f,j,k,T,Q = sim_params\n",
    "\n",
    "    # No. of Firms, products and traits: \n",
    "    #f=2 # Firms\n",
    "    #j=3 # Products\n",
    "    #k=3 # Traits (of each product) \n",
    "    \n",
    "    # True Parameters \n",
    "    alpha = -5                      # Price sensitivity\n",
    "    beta= np.array([3,2,1])         # Preference for traits \n",
    "    theta = np.append(alpha,beta)   \n",
    "    gamma = np.array([1,2,3])       # Production costs of traits \n",
    "\n",
    "    #cov = np.array([[1,0.5],[0.5,1]])\n",
    "    T = 100\n",
    "\n",
    "    if Type == \"OLS\":\n",
    "        if Consts == True: \n",
    "            parameters = np.zeros((Q,1 + k*2 + f*j*2)) + np.nan\n",
    "        else:\n",
    "            parameters = np.zeros((Q,k + 1)) + np.nan\n",
    "\n",
    "    elif Type == \"IV\":\n",
    "        parameters = np.zeros((Q, k+1))\n",
    "\n",
    "    for q in tqdm(range(Q),disable = tqdm_off): \n",
    "        try:\n",
    "            \n",
    "            data = DE.endog_data()\n",
    "            X, prod=data.simulate_product_traits(f,j,k, which_type = \"Differentiated\")\n",
    "            H = data.hadamard(f*j,prod)\n",
    "            X = X.reshape(j*f, -1)\n",
    "\n",
    "            # Simulate data \n",
    "            S = np.array(0) \n",
    "            while S.min() == 0.0:\n",
    "                P, S = data.sim_data_T(X, f, j, T, theta, gamma, cov, prod, H, disable = True)\n",
    "            S.min()\n",
    "\n",
    "            S0=(1-np.sum(S,axis=0))\n",
    "\n",
    "            index=np.log(S/S0).reshape(-1,1)\n",
    "\n",
    "            #Estimation: \n",
    "            if Type == \"OLS\": \n",
    "\n",
    "                # OLS with endogenous prices\n",
    "                P1 = P.reshape(-1,1)\n",
    "\n",
    "                if Consts == True: \n",
    "                    j_const = np.identity(f*j).repeat(T, axis=0)\n",
    "                    XX = np.hstack((P1, X.repeat(T, axis=0),j_const))\n",
    "                else: \n",
    "                    XX = np.hstack((P1, X.repeat(T, axis=0)))\n",
    "\n",
    "                resultsp=OLS(index,XX).fit()\n",
    "                results = resultsp.params\n",
    "            \n",
    "                parameters[q,:] = results\n",
    "            \n",
    "            elif Type == \"IV\":\n",
    "                parameters[q,:] = data.blp_regression(index, P, X, prod, [f,j,T])\n",
    "\n",
    "                if np.abs(parameters[q,0]) > 20: \n",
    "                    print(parameters[q,0])\n",
    "                    print(\"P\", P.max(), P.min())\n",
    "                    print(\"S\", S.max(), S.min())\n",
    "                \n",
    "        except np.linalg.LinAlgError: \n",
    "            print(\"linalg error\")\n",
    "            break\n",
    "    return parameters\n",
    "\n",
    "\n",
    "\n",
    "\n",
    "    "
   ]
  },
  {
   "cell_type": "markdown",
   "id": "d5ad6aa3",
   "metadata": {},
   "source": [
    "\n",
    "#### BLP approach. Do the following regression:\n",
    "$\\delta_{jm} =\\beta V(X, p_{jm} ) + \\psi_{jm}$ \n",
    "\n",
    "This regression is intractable so instead estimate by IV. "
   ]
  },
  {
   "cell_type": "markdown",
   "id": "1e49a315",
   "metadata": {},
   "source": [
    "##### Comment: I do not need to simulate new data. I can just run the two approaches on the same data"
   ]
  },
  {
   "cell_type": "markdown",
   "id": "f1372038",
   "metadata": {},
   "source": [
    "#### Simulating data"
   ]
  },
  {
   "cell_type": "code",
   "execution_count": 11,
   "id": "d17168c1-e37c-42a0-ac69-2be08db15f68",
   "metadata": {},
   "outputs": [
    {
     "data": {
      "application/vnd.jupyter.widget-view+json": {
       "model_id": "0a7f129195f547c88e11022521f0788e",
       "version_major": 2,
       "version_minor": 0
      },
      "text/plain": [
       "  0%|          | 0/100 [00:00<?, ?it/s]"
      ]
     },
     "metadata": {},
     "output_type": "display_data"
    },
    {
     "data": {
      "application/vnd.jupyter.widget-view+json": {
       "model_id": "342bbf44e9814f3ea34e6027fa8e2a87",
       "version_major": 2,
       "version_minor": 0
      },
      "text/plain": [
       "  0%|          | 0/100 [00:00<?, ?it/s]"
      ]
     },
     "metadata": {},
     "output_type": "display_data"
    }
   ],
   "source": [
    "\n",
    "f,j,k,T,Q = 2,3,3,10,100\n",
    "\n",
    "sim_params = [f,j,k,T,Q]\n",
    "\n",
    "cov = np.array([[1,0.50],[0.50,1]])\n",
    "corr=sim_study(sim_params, cov, Type = \"OLS\", Consts = False)\n",
    "corr_IV = sim_study(sim_params, cov, Type = \"IV\")\n",
    "\n",
    "cov = np.array([[1,0.0],[0.0,1]])\n",
    "wo_corr = sim_study(sim_params,cov, Type = \"OLS\", Consts = False)\n",
    "wo_corr_IV = sim_study(sim_params,cov, Type = \"IV\")\n"
   ]
  },
  {
   "cell_type": "code",
   "execution_count": 15,
   "id": "ef3912f6",
   "metadata": {},
   "outputs": [],
   "source": [
    "wo_corr_pd = pd.DataFrame(wo_corr)\n",
    "wo_corr_pd_IV = pd.DataFrame(wo_corr_IV)\n",
    "corr_pd = pd.DataFrame(corr)\n",
    "corr_pd_IV = pd.DataFrame(corr_IV)\n"
   ]
  },
  {
   "cell_type": "code",
   "execution_count": 16,
   "id": "4241fec9",
   "metadata": {},
   "outputs": [
    {
     "data": {
      "text/html": [
       "<div>\n",
       "<style scoped>\n",
       "    .dataframe tbody tr th:only-of-type {\n",
       "        vertical-align: middle;\n",
       "    }\n",
       "\n",
       "    .dataframe tbody tr th {\n",
       "        vertical-align: top;\n",
       "    }\n",
       "\n",
       "    .dataframe thead th {\n",
       "        text-align: right;\n",
       "    }\n",
       "</style>\n",
       "<table border=\"1\" class=\"dataframe\">\n",
       "  <thead>\n",
       "    <tr style=\"text-align: right;\">\n",
       "      <th></th>\n",
       "      <th>0</th>\n",
       "      <th>1</th>\n",
       "      <th>2</th>\n",
       "      <th>3</th>\n",
       "    </tr>\n",
       "  </thead>\n",
       "  <tbody>\n",
       "    <tr>\n",
       "      <th>0</th>\n",
       "      <td>-5.003933</td>\n",
       "      <td>2.986312</td>\n",
       "      <td>2.018430</td>\n",
       "      <td>0.998066</td>\n",
       "    </tr>\n",
       "    <tr>\n",
       "      <th>1</th>\n",
       "      <td>-5.014658</td>\n",
       "      <td>3.039104</td>\n",
       "      <td>2.016862</td>\n",
       "      <td>1.044204</td>\n",
       "    </tr>\n",
       "    <tr>\n",
       "      <th>2</th>\n",
       "      <td>-4.721040</td>\n",
       "      <td>2.627487</td>\n",
       "      <td>1.404934</td>\n",
       "      <td>0.140019</td>\n",
       "    </tr>\n",
       "    <tr>\n",
       "      <th>3</th>\n",
       "      <td>-4.965846</td>\n",
       "      <td>2.992709</td>\n",
       "      <td>1.949084</td>\n",
       "      <td>0.861684</td>\n",
       "    </tr>\n",
       "  </tbody>\n",
       "</table>\n",
       "</div>"
      ],
      "text/plain": [
       "          0         1         2         3\n",
       "0 -5.003933  2.986312  2.018430  0.998066\n",
       "1 -5.014658  3.039104  2.016862  1.044204\n",
       "2 -4.721040  2.627487  1.404934  0.140019\n",
       "3 -4.965846  2.992709  1.949084  0.861684"
      ]
     },
     "execution_count": 16,
     "metadata": {},
     "output_type": "execute_result"
    }
   ],
   "source": [
    "pd.DataFrame([wo_corr_pd.mean(axis=0),wo_corr_pd_IV.mean(axis=0), corr_pd.mean(axis=0), corr_pd_IV.mean(axis=0)])"
   ]
  },
  {
   "cell_type": "code",
   "execution_count": 9,
   "id": "f8f3ec13",
   "metadata": {},
   "outputs": [
    {
     "data": {
      "text/html": [
       "<div>\n",
       "<style scoped>\n",
       "    .dataframe tbody tr th:only-of-type {\n",
       "        vertical-align: middle;\n",
       "    }\n",
       "\n",
       "    .dataframe tbody tr th {\n",
       "        vertical-align: top;\n",
       "    }\n",
       "\n",
       "    .dataframe thead th {\n",
       "        text-align: right;\n",
       "    }\n",
       "</style>\n",
       "<table border=\"1\" class=\"dataframe\">\n",
       "  <thead>\n",
       "    <tr style=\"text-align: right;\">\n",
       "      <th></th>\n",
       "      <th>0</th>\n",
       "      <th>1</th>\n",
       "      <th>2</th>\n",
       "      <th>3</th>\n",
       "    </tr>\n",
       "  </thead>\n",
       "  <tbody>\n",
       "    <tr>\n",
       "      <th>0</th>\n",
       "      <td>-4.999633</td>\n",
       "      <td>2.986026</td>\n",
       "      <td>2.003665</td>\n",
       "      <td>1.008292</td>\n",
       "    </tr>\n",
       "    <tr>\n",
       "      <th>1</th>\n",
       "      <td>-5.013714</td>\n",
       "      <td>3.038539</td>\n",
       "      <td>2.028530</td>\n",
       "      <td>0.984123</td>\n",
       "    </tr>\n",
       "    <tr>\n",
       "      <th>2</th>\n",
       "      <td>-4.715158</td>\n",
       "      <td>2.644176</td>\n",
       "      <td>1.320423</td>\n",
       "      <td>0.099978</td>\n",
       "    </tr>\n",
       "    <tr>\n",
       "      <th>3</th>\n",
       "      <td>-4.954651</td>\n",
       "      <td>2.894434</td>\n",
       "      <td>1.864687</td>\n",
       "      <td>0.765891</td>\n",
       "    </tr>\n",
       "  </tbody>\n",
       "</table>\n",
       "</div>"
      ],
      "text/plain": [
       "          0         1         2         3\n",
       "0 -4.999633  2.986026  2.003665  1.008292\n",
       "1 -5.013714  3.038539  2.028530  0.984123\n",
       "2 -4.715158  2.644176  1.320423  0.099978\n",
       "3 -4.954651  2.894434  1.864687  0.765891"
      ]
     },
     "execution_count": 9,
     "metadata": {},
     "output_type": "execute_result"
    }
   ],
   "source": [
    "pd.DataFrame([wo_corr_pd.median(axis=0),wo_corr_pd_IV.median(axis=0), corr_pd.median(axis=0), corr_pd_IV.median(axis=0)])"
   ]
  },
  {
   "cell_type": "markdown",
   "id": "538a0251",
   "metadata": {},
   "source": [
    "Results so far: \n",
    "\n",
    "With parameters \n",
    "\n",
    "0\t1\t2\t3\n",
    "0\t-3.000049\t1.004966\t0.994198\t1.995436\n",
    "1\t-2.992413\t0.999941\t0.978292\t1.976096\n",
    "2\t-2.994373\t0.978406\t0.996163\t2.002496\n",
    "3\t-3.002868\t1.007717\t0.992143\t2.007656\n",
    "\n",
    "\n"
   ]
  },
  {
   "cell_type": "code",
   "execution_count": null,
   "id": "de4079e2-3538-4959-9952-6e37b21d3559",
   "metadata": {},
   "outputs": [],
   "source": [
    "#corr_pd = corr_pd.loc[~(corr_pd==0).all(axis=1)]\n",
    "\n",
    "\n",
    "fig, ax =plt.subplots(1,3)\n",
    "sns.histplot(wo_corr_pd[0], ax=ax[0])\n",
    "sns.histplot(wo_corr_pd[1], ax=ax[1]).set(title='OLS without Correlation')\n",
    "sns.histplot(wo_corr_pd[2], ax=ax[2])\n",
    "\n",
    "\n",
    "fig.show()"
   ]
  },
  {
   "cell_type": "code",
   "execution_count": null,
   "id": "05baa90a",
   "metadata": {},
   "outputs": [],
   "source": [
    "#corr_pd = corr_pd.loc[~(corr_pd==0).all(axis=1)]\n",
    "\n",
    "\n",
    "fig, ax =plt.subplots(1,3)\n",
    "sns.histplot(corr_pd_IV[0], ax=ax[0])\n",
    "sns.histplot(corr_pd_IV[1], ax=ax[1]).set(title='IV without Correlation')\n",
    "sns.histplot(corr_pd_IV[2], ax=ax[2])\n",
    "\n",
    "\n",
    "fig.show()"
   ]
  },
  {
   "cell_type": "code",
   "execution_count": null,
   "id": "3bf4e904-428c-4ca4-85eb-b5794b30eaab",
   "metadata": {},
   "outputs": [],
   "source": [
    "#corr_pd = corr_pd.loc[~(corr_pd==0).all(axis=1)]\n",
    "\n",
    "fig, ax =plt.subplots(1,3)\n",
    "sns.histplot(corr_pd[0], ax=ax[0])\n",
    "sns.histplot(corr_pd[1], ax=ax[1]).set(title='OLS with Correlation')\n",
    "sns.histplot(corr_pd[2], ax=ax[2])\n",
    "\n",
    "fig.show()"
   ]
  },
  {
   "cell_type": "code",
   "execution_count": null,
   "id": "5dffa8f4",
   "metadata": {},
   "outputs": [],
   "source": [
    "wo_corr_pd.mean()"
   ]
  },
  {
   "cell_type": "code",
   "execution_count": null,
   "id": "40e7acdf",
   "metadata": {},
   "outputs": [],
   "source": [
    "#corr_pd = corr_pd.loc[~(corr_pd==0).all(axis=1)]\n",
    "\n",
    "fig, ax =plt.subplots(1,3)\n",
    "sns.histplot(corr_pd_IV[0], ax=ax[0])\n",
    "sns.histplot(corr_pd_IV[1], ax=ax[1]).set(title='IV with Correlation')\n",
    "sns.histplot(corr_pd_IV[2], ax=ax[2])\n",
    "\n",
    "fig.show()"
   ]
  },
  {
   "cell_type": "code",
   "execution_count": null,
   "id": "d265ef07-65b3-493d-b655-54a27141dd7f",
   "metadata": {},
   "outputs": [],
   "source": [
    "corr_pd_IV.mean()"
   ]
  },
  {
   "cell_type": "code",
   "execution_count": null,
   "id": "f5e3cfcc-f74e-46b9-bc8c-8b321aaf2862",
   "metadata": {
    "tags": []
   },
   "outputs": [],
   "source": [
    "corr_pd = pd.DataFrame(corr_IV)\n",
    "corr_pd = corr_pd.loc[~(corr_pd==0).all(axis=1)]\n",
    "\n",
    "fig, ax =plt.subplots(1,3)\n",
    "sns.histplot(corr_pd[0], ax=ax[0])\n",
    "sns.histplot(corr_pd[1], ax=ax[1])\n",
    "sns.histplot(corr_pd[2], ax=ax[2])\n",
    "\n",
    "fig.show()"
   ]
  },
  {
   "cell_type": "markdown",
   "id": "c340dc5d",
   "metadata": {},
   "source": [
    "#### Consistency study"
   ]
  },
  {
   "cell_type": "code",
   "execution_count": 42,
   "id": "29a6fd89",
   "metadata": {},
   "outputs": [
    {
     "data": {
      "application/vnd.jupyter.widget-view+json": {
       "model_id": "61bc8268447a450180ef3b7af42e198b",
       "version_major": 2,
       "version_minor": 0
      },
      "text/plain": [
       "  0%|          | 0/20 [00:00<?, ?it/s]"
      ]
     },
     "metadata": {},
     "output_type": "display_data"
    }
   ],
   "source": [
    "N = 20\n",
    "skip = 20\n",
    "price_param = np.zeros((N,4)) + np.nan\n",
    "price_param_med = np.zeros((N,4)) + np.nan\n",
    "\n",
    "for n in tqdm(range(N)):\n",
    "    T=(n+1)*skip \n",
    "\n",
    "    f,j,k,T,Q = 2,3,3,T,100\n",
    "\n",
    "    sim_params = [f,j,k,T,Q]\n",
    "\n",
    "    cov = np.array([[1,0.50],[0.50,1]])\n",
    "    corr=sim_study(sim_params, cov, Type = \"OLS\", Consts = False, tqdm_off=True)\n",
    "    corr_IV = sim_study(sim_params, cov, Type = \"IV\", tqdm_off=True)\n",
    "\n",
    "    cov = np.array([[1,0.0],[0.0,1]])\n",
    "    wo_corr = sim_study(sim_params,cov, Type = \"OLS\", Consts = False, tqdm_off=True)\n",
    "    wo_corr_IV = sim_study(sim_params,cov, Type = \"IV\", tqdm_off=True)\n",
    "\n",
    "    price_param[n,:]=wo_corr[:,0].mean(), wo_corr_IV[:,0].mean(), corr[:,0].mean(), corr_IV[:,0].mean()\n",
    "    price_param_med[n,:] = np.median(wo_corr[:,0]), np.median(wo_corr_IV[:,0]), np.median(corr[:,0]), np.median(corr_IV[:,0])"
   ]
  },
  {
   "cell_type": "code",
   "execution_count": 43,
   "id": "03ad3c3f",
   "metadata": {},
   "outputs": [
    {
     "name": "stderr",
     "output_type": "stream",
     "text": [
      "C:\\Users\\glh287\\AppData\\Local\\Temp/ipykernel_17288/1805616327.py:4: UserWarning: FixedFormatter should only be used together with FixedLocator\n",
      "  ax.set_xticklabels((np.arange(N)+1)*f*j*skip, rotation=-45)\n"
     ]
    },
    {
     "data": {
      "image/png": "[encoded data removed]",
      "text/plain": [
       "<Figure size 432x288 with 1 Axes>"
      ]
     },
     "metadata": {
      "needs_background": "light"
     },
     "output_type": "display_data"
    }
   ],
   "source": [
    "sim_data=pd.DataFrame(data =price_param + 5, columns = [\"OLS without corr\", \"IV without corr\", \"OLS with corr\", \"IV with corr.\"])\n",
    "ax = sns.lineplot(data=sim_data)\n",
    "ax.set(xlabel='Obs', ylabel='Bias',)\n",
    "ax.set_xticklabels((np.arange(N)+1)*f*j*skip, rotation=-45)\n",
    "ax.set_xticks(np.arange(N))\n",
    "plt.show()\n"
   ]
  },
  {
   "cell_type": "code",
   "execution_count": 44,
   "id": "3ad7851e",
   "metadata": {},
   "outputs": [
    {
     "name": "stderr",
     "output_type": "stream",
     "text": [
      "C:\\Users\\glh287\\AppData\\Local\\Temp/ipykernel_17288/2038273903.py:4: UserWarning: FixedFormatter should only be used together with FixedLocator\n",
      "  ax.set_xticklabels((np.arange(N)+1)*f*j*skip, rotation=-45)\n"
     ]
    },
    {
     "data": {
      "image/png": "[encoded data removed]",
      "text/plain": [
       "<Figure size 432x288 with 1 Axes>"
      ]
     },
     "metadata": {
      "needs_background": "light"
     },
     "output_type": "display_data"
    }
   ],
   "source": [
    "sim_data_med=pd.DataFrame(data =price_param_med + 5, columns = [\"OLS without corr\", \"IV without corr\", \"OLS with corr\", \"IV with corr.\"])\n",
    "ax = sns.lineplot(data=sim_data_med)\n",
    "ax.set(xlabel='Obs', ylabel='Bias')\n",
    "ax.set_xticklabels((np.arange(N)+1)*f*j*skip, rotation=-45)\n",
    "ax.set_xticks(np.arange(N))\n",
    "plt.show()\n"
   ]
  },
  {
   "cell_type": "markdown",
   "id": "be8de63a",
   "metadata": {},
   "source": [
    "#### Conclusion:\n",
    "Instruments do not seem to be consistent as T goes to inf? "
   ]
  },
  {
   "cell_type": "code",
   "execution_count": null,
   "id": "22c3a632",
   "metadata": {},
   "outputs": [],
   "source": []
  }
 ],
 "metadata": {
  "kernelspec": {
   "display_name": "Python 3 (ipykernel)",
   "language": "python",
   "name": "python3"
  },
  "language_info": {
   "codemirror_mode": {
    "name": "ipython",
    "version": 3
   },
   "file_extension": ".py",
   "mimetype": "text/x-python",
   "name": "python",
   "nbconvert_exporter": "python",
   "pygments_lexer": "ipython3",
   "version": "3.8.11"
  }
 },
 "nbformat": 4,
 "nbformat_minor": 5
}
