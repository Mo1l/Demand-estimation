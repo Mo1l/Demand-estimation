{
 "cells": [
  {
   "cell_type": "code",
   "execution_count": 3,
   "id": "8bd01b3d-d610-469b-83a7-22446206e720",
   "metadata": {},
   "outputs": [],
   "source": [
    "\n",
    "\n",
    "%load_ext autoreload\n",
    "%autoreload 2\n",
    "%load_ext line_profiler\n",
    "\n",
    "\n",
    "import numpy as np\n",
    "import DemandEstimation_v2 as DE\n",
    "from tqdm.notebook import tqdm\n",
    "from statsmodels.regression.linear_model import OLS \n",
    "import seaborn as sns\n",
    "import pandas as pd\n",
    "import matplotlib.pyplot as plt\n",
    "\n"
   ]
  },
  {
   "cell_type": "markdown",
   "id": "6dda1149-41bf-43c7-bc20-a0394067d2f0",
   "metadata": {},
   "source": [
    "#### Setting true parameters and simulating one period market"
   ]
  },
  {
   "cell_type": "code",
   "execution_count": 2,
   "id": "06738d52-6124-42fd-89c9-9e0f246d5b8b",
   "metadata": {},
   "outputs": [
    {
     "ename": "TypeError",
     "evalue": "sim_data() missing 1 required positional argument: 'J'",
     "output_type": "error",
     "traceback": [
      "\u001b[1;31m---------------------------------------------------------------------------\u001b[0m",
      "\u001b[1;31mTypeError\u001b[0m                                 Traceback (most recent call last)",
      "\u001b[1;32m~\\AppData\\Local\\Temp/ipykernel_14280/195560355.py\u001b[0m in \u001b[0;36m<module>\u001b[1;34m\u001b[0m\n\u001b[0;32m     16\u001b[0m \u001b[1;31m# Simulating data:\u001b[0m\u001b[1;33m\u001b[0m\u001b[1;33m\u001b[0m\u001b[1;33m\u001b[0m\u001b[0m\n\u001b[0;32m     17\u001b[0m \u001b[0mP\u001b[0m \u001b[1;33m=\u001b[0m \u001b[0mnp\u001b[0m\u001b[1;33m.\u001b[0m\u001b[0mzeros\u001b[0m\u001b[1;33m(\u001b[0m\u001b[1;33m(\u001b[0m\u001b[0mf\u001b[0m\u001b[1;33m*\u001b[0m\u001b[0mj\u001b[0m\u001b[1;33m)\u001b[0m\u001b[1;33m)\u001b[0m \u001b[1;33m+\u001b[0m\u001b[1;36m1\u001b[0m               \u001b[1;31m#Initital price vector\u001b[0m\u001b[1;33m\u001b[0m\u001b[1;33m\u001b[0m\u001b[0m\n\u001b[1;32m---> 18\u001b[1;33m \u001b[0mdata\u001b[0m\u001b[1;33m.\u001b[0m\u001b[0msim_data\u001b[0m\u001b[1;33m(\u001b[0m\u001b[0mP\u001b[0m\u001b[1;33m,\u001b[0m \u001b[0mtheta\u001b[0m\u001b[1;33m,\u001b[0m \u001b[0mX\u001b[0m\u001b[1;33m,\u001b[0m \u001b[0mmc\u001b[0m\u001b[1;33m,\u001b[0m \u001b[0mprod\u001b[0m\u001b[1;33m,\u001b[0m \u001b[0mf\u001b[0m\u001b[1;33m,\u001b[0m \u001b[0mj\u001b[0m\u001b[1;33m)\u001b[0m\u001b[1;33m\u001b[0m\u001b[1;33m\u001b[0m\u001b[0m\n\u001b[0m",
      "\u001b[1;31mTypeError\u001b[0m: sim_data() missing 1 required positional argument: 'J'"
     ]
    }
   ],
   "source": [
    "# setting parameters \n",
    "\n",
    "f=2 # Firms\n",
    "j=2# Products\n",
    "k=2 # Traits (of each product) \n",
    "data = DE.endog_data()\n",
    "X, prod=data.simulate_product_traits(f,j,k, which_type = \"Identical\")\n",
    "X = X.reshape(j*f, -1)\n",
    "\n",
    "# True Parameters \n",
    "alpha = -0.02                # Price sensitivity\n",
    "beta= np.array([1,2])        # Preference for traits \n",
    "mc = np.array([60,60, 70 ,40])           # Marginal costs of producing each product\n",
    "theta = np.append(alpha,beta)  \n",
    "\n",
    "# Simulating data: \n",
    "P = np.zeros((f*j)) +1               #Initital price vector\n",
    "data.sim_data(P, theta, X, mc, prod, f, j)\n"
   ]
  },
  {
   "cell_type": "code",
   "execution_count": null,
   "id": "42f509c1-12ee-496d-9edb-264adfbf28c8",
   "metadata": {},
   "outputs": [],
   "source": [
    "# I could add shocks to production costs over time (ar(1) + noise). That would induce variation over time in prices. \n",
    "# I think when MC is perfectly known we lose one dimension of noise. Hence what is left is noise wrt. to demand. But the distribution is known and hence create the logit demand system. "
   ]
  },
  {
   "cell_type": "markdown",
   "id": "6539aa56-5b80-43c8-8ab6-afba37f89398",
   "metadata": {},
   "source": [
    "#### Simulating multiple markets"
   ]
  },
  {
   "cell_type": "code",
   "execution_count": 54,
   "id": "dd1d813d-6873-48ef-b60b-d6cd6f5e4924",
   "metadata": {},
   "outputs": [],
   "source": [
    "# setting parameters \n",
    "\n",
    "f=2 # Firms\n",
    "j=2# Products\n",
    "k=2 # Traits (of each product) \n",
    "\n",
    "data = DE.endog_data()\n",
    "X, prod=data.simulate_product_traits(f,j,k, which_type = \"Differentiated\")\n",
    "X = X.reshape(j*f, -1)\n",
    "\n",
    "# True Parameters \n",
    "alpha = -2                # Price sensitivity\n",
    "beta= np.array([2,2])        # Preference for traits \n",
    "theta = np.append(alpha,beta)  \n",
    "cov = np.array([[1,0.5],[0.5,1]])\n",
    "#cov = np.array([[1,0.0],[0.0,1]])\n",
    "gamma = np.array([1,1])\n",
    "T = 10\n",
    "P0 = np.zeros((f*j)) +1               #Initital price vector\n",
    "\n",
    "#mc=data.mc_sim(X, gamma,T=T, noise_type = \"Triangular\")"
   ]
  },
  {
   "cell_type": "code",
   "execution_count": 55,
   "id": "cacd5dbf-1301-40a0-b0b7-7fb5efb331da",
   "metadata": {
    "tags": []
   },
   "outputs": [
    {
     "ename": "TypeError",
     "evalue": "sim_data_T() missing 1 required positional argument: 'H'",
     "output_type": "error",
     "traceback": [
      "\u001b[1;31m---------------------------------------------------------------------------\u001b[0m",
      "\u001b[1;31mTypeError\u001b[0m                                 Traceback (most recent call last)",
      "\u001b[1;32m~\\AppData\\Local\\Temp/ipykernel_12528/3911275696.py\u001b[0m in \u001b[0;36m<module>\u001b[1;34m\u001b[0m\n\u001b[0;32m      3\u001b[0m \u001b[0mS\u001b[0m \u001b[1;33m=\u001b[0m \u001b[0mnp\u001b[0m\u001b[1;33m.\u001b[0m\u001b[0marray\u001b[0m\u001b[1;33m(\u001b[0m\u001b[1;36m0\u001b[0m\u001b[1;33m)\u001b[0m\u001b[1;33m\u001b[0m\u001b[1;33m\u001b[0m\u001b[0m\n\u001b[0;32m      4\u001b[0m \u001b[1;32mwhile\u001b[0m \u001b[0mS\u001b[0m\u001b[1;33m.\u001b[0m\u001b[0mmin\u001b[0m\u001b[1;33m(\u001b[0m\u001b[1;33m)\u001b[0m \u001b[1;33m==\u001b[0m \u001b[1;36m0.0\u001b[0m\u001b[1;33m:\u001b[0m\u001b[1;33m\u001b[0m\u001b[1;33m\u001b[0m\u001b[0m\n\u001b[1;32m----> 5\u001b[1;33m     \u001b[0mP\u001b[0m\u001b[1;33m,\u001b[0m \u001b[0mS\u001b[0m \u001b[1;33m=\u001b[0m \u001b[0mdata\u001b[0m\u001b[1;33m.\u001b[0m\u001b[0msim_data_T\u001b[0m\u001b[1;33m(\u001b[0m\u001b[0mX\u001b[0m\u001b[1;33m,\u001b[0m \u001b[0mf\u001b[0m\u001b[1;33m,\u001b[0m \u001b[0mj\u001b[0m\u001b[1;33m,\u001b[0m \u001b[0mT\u001b[0m\u001b[1;33m,\u001b[0m \u001b[0mtheta\u001b[0m\u001b[1;33m,\u001b[0m \u001b[0mgamma\u001b[0m\u001b[1;33m,\u001b[0m \u001b[0mcov\u001b[0m\u001b[1;33m,\u001b[0m \u001b[0mprod\u001b[0m\u001b[1;33m)\u001b[0m\u001b[1;33m\u001b[0m\u001b[1;33m\u001b[0m\u001b[0m\n\u001b[0m\u001b[0;32m      6\u001b[0m     \u001b[0mprint\u001b[0m\u001b[1;33m(\u001b[0m\u001b[0mS\u001b[0m\u001b[1;33m.\u001b[0m\u001b[0mmin\u001b[0m\u001b[1;33m(\u001b[0m\u001b[1;33m)\u001b[0m\u001b[1;33m==\u001b[0m\u001b[1;36m0.0\u001b[0m\u001b[1;33m)\u001b[0m\u001b[1;33m\u001b[0m\u001b[1;33m\u001b[0m\u001b[0m\n",
      "\u001b[1;31mTypeError\u001b[0m: sim_data_T() missing 1 required positional argument: 'H'"
     ]
    }
   ],
   "source": [
    "#P, S = data.sim_data_T(X, f, j, T, theta, gamma, cov, prod)\n",
    "#S.min()\n",
    "S = np.array(0) \n",
    "while S.min() == 0.0:\n",
    "    P, S = data.sim_data_T(X, f, j, T, theta, gamma, cov, prod)\n",
    "    print(S.min()==0.0)\n"
   ]
  },
  {
   "cell_type": "markdown",
   "id": "13414c68-129a-412d-ad9f-31de34370f9a",
   "metadata": {},
   "source": [
    "#### Using OLS to solve the system: \n",
    "1) Divide by outside option and Log transform the system. "
   ]
  },
  {
   "cell_type": "code",
   "execution_count": null,
   "id": "ca392f28-99c5-41f1-a323-47282479ef9b",
   "metadata": {},
   "outputs": [
    {
     "ename": "IndexError",
     "evalue": "too many indices for array: array is 1-dimensional, but 2 were indexed",
     "output_type": "error",
     "traceback": [
      "\u001b[1;31m---------------------------------------------------------------------------\u001b[0m",
      "\u001b[1;31mIndexError\u001b[0m                                Traceback (most recent call last)",
      "\u001b[1;32m~\\AppData\\Local\\Temp/ipykernel_7020/3383340592.py\u001b[0m in \u001b[0;36m<module>\u001b[1;34m\u001b[0m\n\u001b[1;32m----> 1\u001b[1;33m \u001b[0mP\u001b[0m\u001b[1;33m[\u001b[0m\u001b[1;33m:\u001b[0m\u001b[1;33m,\u001b[0m\u001b[1;36m9\u001b[0m\u001b[1;33m]\u001b[0m\u001b[1;33m\u001b[0m\u001b[1;33m\u001b[0m\u001b[0m\n\u001b[0m",
      "\u001b[1;31mIndexError\u001b[0m: too many indices for array: array is 1-dimensional, but 2 were indexed"
     ]
    }
   ],
   "source": [
    "P[:,9]"
   ]
  },
  {
   "cell_type": "code",
   "execution_count": 53,
   "id": "b1d7ca4d-0b46-496b-9bd2-9722aa3e43e3",
   "metadata": {},
   "outputs": [
    {
     "ename": "NameError",
     "evalue": "name 'S' is not defined",
     "output_type": "error",
     "traceback": [
      "\u001b[1;31m---------------------------------------------------------------------------\u001b[0m",
      "\u001b[1;31mNameError\u001b[0m                                 Traceback (most recent call last)",
      "\u001b[1;32m~\\AppData\\Local\\Temp/ipykernel_12528/3970718755.py\u001b[0m in \u001b[0;36m<module>\u001b[1;34m\u001b[0m\n\u001b[0;32m      1\u001b[0m \u001b[1;31m# OLS:\u001b[0m\u001b[1;33m\u001b[0m\u001b[1;33m\u001b[0m\u001b[1;33m\u001b[0m\u001b[0m\n\u001b[0;32m      2\u001b[0m \u001b[1;31m# But I do not have the outside option in my data... I can construct it easily.\u001b[0m\u001b[1;33m\u001b[0m\u001b[1;33m\u001b[0m\u001b[1;33m\u001b[0m\u001b[0m\n\u001b[1;32m----> 3\u001b[1;33m \u001b[0mS0\u001b[0m\u001b[1;33m=\u001b[0m\u001b[1;33m(\u001b[0m\u001b[1;36m1\u001b[0m\u001b[1;33m-\u001b[0m\u001b[0mnp\u001b[0m\u001b[1;33m.\u001b[0m\u001b[0msum\u001b[0m\u001b[1;33m(\u001b[0m\u001b[0mS\u001b[0m\u001b[1;33m,\u001b[0m\u001b[0maxis\u001b[0m\u001b[1;33m=\u001b[0m\u001b[1;36m0\u001b[0m\u001b[1;33m)\u001b[0m\u001b[1;33m)\u001b[0m\u001b[1;33m\u001b[0m\u001b[1;33m\u001b[0m\u001b[0m\n\u001b[0m\u001b[0;32m      4\u001b[0m \u001b[1;33m\u001b[0m\u001b[0m\n\u001b[0;32m      5\u001b[0m \u001b[0mindex\u001b[0m\u001b[1;33m=\u001b[0m\u001b[0mnp\u001b[0m\u001b[1;33m.\u001b[0m\u001b[0mlog\u001b[0m\u001b[1;33m(\u001b[0m\u001b[0mS\u001b[0m\u001b[1;33m/\u001b[0m\u001b[0mS0\u001b[0m\u001b[1;33m)\u001b[0m\u001b[1;33m.\u001b[0m\u001b[0mreshape\u001b[0m\u001b[1;33m(\u001b[0m\u001b[1;33m-\u001b[0m\u001b[1;36m1\u001b[0m\u001b[1;33m,\u001b[0m\u001b[1;36m1\u001b[0m\u001b[1;33m)\u001b[0m\u001b[1;33m\u001b[0m\u001b[1;33m\u001b[0m\u001b[0m\n",
      "\u001b[1;31mNameError\u001b[0m: name 'S' is not defined"
     ]
    }
   ],
   "source": [
    "# OLS: \n",
    "# But I do not have the outside option in my data... I can construct it easily. \n",
    "S0=(1-np.sum(S,axis=0))\n",
    "\n",
    "index=np.log(S/S0).reshape(-1,1)\n",
    "\n",
    "# OLS with endogenous prices\n",
    "P1 = P.reshape(-1,1)\n",
    "XX = np.hstack((P1, X.repeat(T, axis=0)))\n",
    "#XX = XX[:,0:2]\n",
    "resultsp=OLS(index,XX).fit()\n",
    "resultsp.params\n",
    "\n",
    "# OLS with MC instead\n",
    "\n"
   ]
  },
  {
   "cell_type": "markdown",
   "id": "a0f6f715-6ce1-4a88-9a86-2683ed308566",
   "metadata": {},
   "source": [
    "#### Using 2-step IV: "
   ]
  },
  {
   "cell_type": "code",
   "execution_count": 52,
   "id": "448be06a-3b61-4e93-8a10-360b0e569751",
   "metadata": {},
   "outputs": [
    {
     "ename": "NameError",
     "evalue": "name 'j' is not defined",
     "output_type": "error",
     "traceback": [
      "\u001b[1;31m---------------------------------------------------------------------------\u001b[0m",
      "\u001b[1;31mNameError\u001b[0m                                 Traceback (most recent call last)",
      "\u001b[1;32m~\\AppData\\Local\\Temp/ipykernel_12528/702880816.py\u001b[0m in \u001b[0;36m<module>\u001b[1;34m\u001b[0m\n\u001b[1;32m----> 1\u001b[1;33m \u001b[0mcheck\u001b[0m \u001b[1;33m=\u001b[0m \u001b[0mnp\u001b[0m\u001b[1;33m.\u001b[0m\u001b[0marray\u001b[0m\u001b[1;33m(\u001b[0m\u001b[0mnp\u001b[0m\u001b[1;33m.\u001b[0m\u001b[0marange\u001b[0m\u001b[1;33m(\u001b[0m\u001b[0mj\u001b[0m\u001b[1;33m*\u001b[0m\u001b[0mf\u001b[0m\u001b[1;33m)\u001b[0m\u001b[1;33m)\u001b[0m\u001b[1;33m\u001b[0m\u001b[1;33m\u001b[0m\u001b[0m\n\u001b[0m\u001b[0;32m      2\u001b[0m \u001b[0mZ\u001b[0m \u001b[1;33m=\u001b[0m \u001b[1;33m[\u001b[0m\u001b[1;33m]\u001b[0m\u001b[1;33m\u001b[0m\u001b[1;33m\u001b[0m\u001b[0m\n\u001b[0;32m      3\u001b[0m \u001b[1;32mfor\u001b[0m \u001b[0mfirm\u001b[0m\u001b[1;33m,\u001b[0m \u001b[0mjs\u001b[0m \u001b[1;32min\u001b[0m \u001b[0mprod\u001b[0m\u001b[1;33m.\u001b[0m\u001b[0mitems\u001b[0m\u001b[1;33m(\u001b[0m\u001b[1;33m)\u001b[0m\u001b[1;33m:\u001b[0m\u001b[1;33m\u001b[0m\u001b[1;33m\u001b[0m\u001b[0m\n\u001b[0;32m      4\u001b[0m     \u001b[0mnot_f_prods\u001b[0m\u001b[1;33m=\u001b[0m\u001b[1;33m[\u001b[0m\u001b[0mj\u001b[0m \u001b[1;32mfor\u001b[0m \u001b[0mj\u001b[0m \u001b[1;32min\u001b[0m \u001b[0mcheck\u001b[0m \u001b[1;32mif\u001b[0m \u001b[0mj\u001b[0m \u001b[1;32mnot\u001b[0m \u001b[1;32min\u001b[0m \u001b[0mjs\u001b[0m \u001b[1;33m]\u001b[0m\u001b[1;33m\u001b[0m\u001b[1;33m\u001b[0m\u001b[0m\n\u001b[0;32m      5\u001b[0m \u001b[1;33m\u001b[0m\u001b[0m\n",
      "\u001b[1;31mNameError\u001b[0m: name 'j' is not defined"
     ]
    }
   ],
   "source": [
    "check = np.array(np.arange(j*f))\n",
    "Z = []\n",
    "for firm, js in prod.items():\n",
    "    not_f_prods=[j for j in check if j not in js ]\n",
    "    \n",
    "    Z_i = X[not_f_prods,:].mean(axis=0)\n",
    "    \n",
    "    Z.append(Z_i)\n",
    "    \n",
    "Z = np.array(Z) \n",
    "\n",
    "ZZ = Z.repeat(T, axis=0)\n",
    "Piv1 = P.reshape(-1)\n",
    "\n",
    "\n",
    "results1step=OLS(P1,ZZ).fit()\n",
    "results1step.params\n",
    "\n",
    "EP = (ZZ @ results1step.params).reshape(-1,1)\n",
    "\n",
    "# Step 2 IV: \n",
    "ZX = np.hstack((EP, X.repeat(T, axis=0)))\n",
    "#XX = XX[:,0:2]\n",
    "resultsIV=OLS(index,ZX).fit()\n",
    "resultsIV.params\n",
    "\n"
   ]
  },
  {
   "cell_type": "markdown",
   "id": "6ac0eada-e5ab-497f-9a10-b2a2dbf78702",
   "metadata": {},
   "source": [
    "### Doing a simulation study: "
   ]
  },
  {
   "cell_type": "code",
   "execution_count": 153,
   "id": "8a66c8e4-37f2-4448-85b1-fc9e3cee729c",
   "metadata": {},
   "outputs": [],
   "source": [
    "def sim_study(Q,cov):\n",
    "    parameters = np.zeros((Q,4))#+4*2))\n",
    "    for q in tqdm(range(Q)): \n",
    "        try:\n",
    "            f=10 # Firms\n",
    "            j=2 # Products\n",
    "            k=3 # Traits (of each product) \n",
    "\n",
    "            data = DE.endog_data()\n",
    "            X, prod=data.simulate_product_traits(f,j,k, which_type = \"Differentiated\")\n",
    "            H = data.hadamard(f*j,prod)\n",
    "            X = X.reshape(j*f, -1)\n",
    "\n",
    "            # True Parameters \n",
    "            alpha = -5               # Price sensitivity\n",
    "            beta= np.array([2,2,4])        # Preference for traits \n",
    "            theta = np.append(alpha,beta)  \n",
    "            #cov = np.array([[1,0.5],[0.5,1]])\n",
    "\n",
    "            gamma = np.array([1,1,4])\n",
    "            T = 50\n",
    "\n",
    "            # Simulate data \n",
    "            S = np.array(0) \n",
    "            while S.min() == 0.0:\n",
    "                P, S = data.sim_data_T(X, f, j, T, theta, gamma, cov, prod, H, disable = True)\n",
    "            S.min()\n",
    "            \n",
    "            # constructing instruments: \n",
    "            # Not implemented\n",
    "\n",
    "            #Estimation: \n",
    "            S0=(1-np.sum(S,axis=0))\n",
    "\n",
    "            index=np.log(S/S0).reshape(-1,1)\n",
    "\n",
    "            # OLS with endogenous prices\n",
    "            P1 = P.reshape(-1,1)\n",
    "            j_const = np.identity(f*j).repeat(T, axis=0)\n",
    "            #XX = np.hstack((P1, X[:,:-1].repeat(T, axis=0)))  # This one is relevant for inducing bias through missing variables\n",
    "            XX = np.hstack((P1, X.repeat(T, axis=0)))\n",
    "            #XX = np.hstack((P1, X.repeat(T, axis=0),j_const))\n",
    "            #XX = XX[:,0:2]\n",
    "            resultsp=OLS(index,XX).fit()\n",
    "            results = resultsp.params\n",
    "        \n",
    "            parameters[q,:] = results\n",
    "            \n",
    "        except np.linalg.LinAlgError: \n",
    "            continue\n",
    "    return parameters\n",
    "\n",
    "\n",
    "\n",
    "\n",
    "    "
   ]
  },
  {
   "cell_type": "code",
   "execution_count": 160,
   "id": "d17168c1-e37c-42a0-ac69-2be08db15f68",
   "metadata": {},
   "outputs": [
    {
     "data": {
      "application/vnd.jupyter.widget-view+json": {
       "model_id": "0f239323ca1d4d5a8fcd4e21ce687797",
       "version_major": 2,
       "version_minor": 0
      },
      "text/plain": [
       "  0%|          | 0/2000 [00:00<?, ?it/s]"
      ]
     },
     "metadata": {},
     "output_type": "display_data"
    },
    {
     "name": "stdout",
     "output_type": "stream",
     "text": [
      "P is smaller than 0, drawing new starting values\r"
     ]
    }
   ],
   "source": [
    "\n",
    "P=2000\n",
    "cov = np.array([[1,0.9],[0.9,1]])\n",
    "with_corr=sim_study(P,cov)\n",
    "# = sim_study_IV(P,cov)\n",
    "\n"
   ]
  },
  {
   "cell_type": "code",
   "execution_count": 161,
   "id": "671e5bae-9d0d-4b63-b81a-0ffde931d7de",
   "metadata": {},
   "outputs": [
    {
     "data": {
      "application/vnd.jupyter.widget-view+json": {
       "model_id": "e7f1dfc73e074afe830776ae82bb8f7a",
       "version_major": 2,
       "version_minor": 0
      },
      "text/plain": [
       "  0%|          | 0/2000 [00:00<?, ?it/s]"
      ]
     },
     "metadata": {},
     "output_type": "display_data"
    },
    {
     "name": "stdout",
     "output_type": "stream",
     "text": [
      "P is smaller than 0, drawing new starting values\r"
     ]
    }
   ],
   "source": [
    "\n",
    "cov = np.array([[1,0.0],[0.0,1]])\n",
    "wo_corr = sim_study(P,cov)\n"
   ]
  },
  {
   "cell_type": "code",
   "execution_count": 162,
   "id": "de4079e2-3538-4959-9952-6e37b21d3559",
   "metadata": {},
   "outputs": [
    {
     "name": "stderr",
     "output_type": "stream",
     "text": [
      "C:\\Users\\glh287\\AppData\\Local\\Temp/ipykernel_12528/836686952.py:10: UserWarning: Matplotlib is currently using module://matplotlib_inline.backend_inline, which is a non-GUI backend, so cannot show the figure.\n",
      "  fig.show()\n"
     ]
    },
    {
     "data": {
      "image/png": "[encoded data removed]",
      "text/plain": [
       "<Figure size 432x288 with 3 Axes>"
      ]
     },
     "metadata": {
      "needs_background": "light"
     },
     "output_type": "display_data"
    }
   ],
   "source": [
    "corr_pd = pd.DataFrame(wo_corr)\n",
    "#corr_pd = corr_pd.loc[~(corr_pd==0).all(axis=1)]\n",
    "\n",
    "\n",
    "fig, ax =plt.subplots(1,3)\n",
    "sns.histplot(corr_pd[0], ax=ax[0])\n",
    "sns.histplot(corr_pd[1], ax=ax[1])\n",
    "sns.histplot(corr_pd[2], ax=ax[2])\n",
    "\n",
    "fig.show()"
   ]
  },
  {
   "cell_type": "code",
   "execution_count": 163,
   "id": "57cf89ee-137e-42e1-9107-573ae3c05426",
   "metadata": {},
   "outputs": [
    {
     "data": {
      "text/plain": [
       "0   -4.999492\n",
       "1    1.995053\n",
       "2    2.001204\n",
       "3    3.998495\n",
       "dtype: float64"
      ]
     },
     "execution_count": 163,
     "metadata": {},
     "output_type": "execute_result"
    }
   ],
   "source": [
    "corr_pd.mean()"
   ]
  },
  {
   "cell_type": "code",
   "execution_count": 164,
   "id": "3bf4e904-428c-4ca4-85eb-b5794b30eaab",
   "metadata": {},
   "outputs": [
    {
     "name": "stderr",
     "output_type": "stream",
     "text": [
      "C:\\Users\\glh287\\AppData\\Local\\Temp/ipykernel_12528/1130882005.py:9: UserWarning: Matplotlib is currently using module://matplotlib_inline.backend_inline, which is a non-GUI backend, so cannot show the figure.\n",
      "  fig.show()\n"
     ]
    },
    {
     "data": {
      "image/png": "[encoded data removed]",
      "text/plain": [
       "<Figure size 432x288 with 3 Axes>"
      ]
     },
     "metadata": {
      "needs_background": "light"
     },
     "output_type": "display_data"
    }
   ],
   "source": [
    "corr_pd = pd.DataFrame(with_corr)\n",
    "#corr_pd = corr_pd.loc[~(corr_pd==0).all(axis=1)]\n",
    "\n",
    "fig, ax =plt.subplots(1,3)\n",
    "sns.histplot(corr_pd[0], ax=ax[0])\n",
    "sns.histplot(corr_pd[1], ax=ax[1])\n",
    "sns.histplot(corr_pd[2], ax=ax[2])\n",
    "\n",
    "fig.show()"
   ]
  },
  {
   "cell_type": "code",
   "execution_count": 165,
   "id": "d265ef07-65b3-493d-b655-54a27141dd7f",
   "metadata": {},
   "outputs": [
    {
     "data": {
      "text/plain": [
       "0   -4.837289\n",
       "1    1.749702\n",
       "2    1.753092\n",
       "3    3.367022\n",
       "dtype: float64"
      ]
     },
     "execution_count": 165,
     "metadata": {},
     "output_type": "execute_result"
    }
   ],
   "source": [
    "corr_pd.mean()"
   ]
  },
  {
   "cell_type": "code",
   "execution_count": 143,
   "id": "f5e3cfcc-f74e-46b9-bc8c-8b321aaf2862",
   "metadata": {
    "tags": []
   },
   "outputs": [
    {
     "ename": "NameError",
     "evalue": "name 'with_corr_IV' is not defined",
     "output_type": "error",
     "traceback": [
      "\u001b[1;31m---------------------------------------------------------------------------\u001b[0m",
      "\u001b[1;31mNameError\u001b[0m                                 Traceback (most recent call last)",
      "\u001b[1;32m~\\AppData\\Local\\Temp/ipykernel_12528/1060665037.py\u001b[0m in \u001b[0;36m<module>\u001b[1;34m\u001b[0m\n\u001b[1;32m----> 1\u001b[1;33m \u001b[0mcorr_pd\u001b[0m \u001b[1;33m=\u001b[0m \u001b[0mpd\u001b[0m\u001b[1;33m.\u001b[0m\u001b[0mDataFrame\u001b[0m\u001b[1;33m(\u001b[0m\u001b[0mwith_corr_IV\u001b[0m\u001b[1;33m)\u001b[0m\u001b[1;33m\u001b[0m\u001b[1;33m\u001b[0m\u001b[0m\n\u001b[0m\u001b[0;32m      2\u001b[0m \u001b[0mcorr_pd\u001b[0m \u001b[1;33m=\u001b[0m \u001b[0mcorr_pd\u001b[0m\u001b[1;33m.\u001b[0m\u001b[0mloc\u001b[0m\u001b[1;33m[\u001b[0m\u001b[1;33m~\u001b[0m\u001b[1;33m(\u001b[0m\u001b[0mcorr_pd\u001b[0m\u001b[1;33m==\u001b[0m\u001b[1;36m0\u001b[0m\u001b[1;33m)\u001b[0m\u001b[1;33m.\u001b[0m\u001b[0mall\u001b[0m\u001b[1;33m(\u001b[0m\u001b[0maxis\u001b[0m\u001b[1;33m=\u001b[0m\u001b[1;36m1\u001b[0m\u001b[1;33m)\u001b[0m\u001b[1;33m]\u001b[0m\u001b[1;33m\u001b[0m\u001b[1;33m\u001b[0m\u001b[0m\n\u001b[0;32m      3\u001b[0m \u001b[1;33m\u001b[0m\u001b[0m\n\u001b[0;32m      4\u001b[0m \u001b[0mfig\u001b[0m\u001b[1;33m,\u001b[0m \u001b[0max\u001b[0m \u001b[1;33m=\u001b[0m\u001b[0mplt\u001b[0m\u001b[1;33m.\u001b[0m\u001b[0msubplots\u001b[0m\u001b[1;33m(\u001b[0m\u001b[1;36m1\u001b[0m\u001b[1;33m,\u001b[0m\u001b[1;36m3\u001b[0m\u001b[1;33m)\u001b[0m\u001b[1;33m\u001b[0m\u001b[1;33m\u001b[0m\u001b[0m\n\u001b[0;32m      5\u001b[0m \u001b[0msns\u001b[0m\u001b[1;33m.\u001b[0m\u001b[0mhistplot\u001b[0m\u001b[1;33m(\u001b[0m\u001b[0mcorr_pd\u001b[0m\u001b[1;33m[\u001b[0m\u001b[1;36m0\u001b[0m\u001b[1;33m]\u001b[0m\u001b[1;33m,\u001b[0m \u001b[0max\u001b[0m\u001b[1;33m=\u001b[0m\u001b[0max\u001b[0m\u001b[1;33m[\u001b[0m\u001b[1;36m0\u001b[0m\u001b[1;33m]\u001b[0m\u001b[1;33m)\u001b[0m\u001b[1;33m\u001b[0m\u001b[1;33m\u001b[0m\u001b[0m\n",
      "\u001b[1;31mNameError\u001b[0m: name 'with_corr_IV' is not defined"
     ]
    }
   ],
   "source": [
    "corr_pd = pd.DataFrame(with_corr_IV)\n",
    "corr_pd = corr_pd.loc[~(corr_pd==0).all(axis=1)]\n",
    "\n",
    "fig, ax =plt.subplots(1,3)\n",
    "sns.histplot(corr_pd[0], ax=ax[0])\n",
    "sns.histplot(corr_pd[1], ax=ax[1])\n",
    "sns.histplot(corr_pd[2], ax=ax[2])\n",
    "\n",
    "fig.show()"
   ]
  },
  {
   "cell_type": "code",
   "execution_count": null,
   "id": "6f4391f8-95b9-4f9f-a829-7751d9a0a5bc",
   "metadata": {},
   "outputs": [
    {
     "data": {
      "text/plain": [
       "0   -0.710496\n",
       "1    0.405550\n",
       "2    0.415301\n",
       "dtype: float64"
      ]
     },
     "execution_count": 686,
     "metadata": {},
     "output_type": "execute_result"
    }
   ],
   "source": [
    "corr_pd.mean()"
   ]
  },
  {
   "cell_type": "code",
   "execution_count": 768,
   "id": "5dc887e2-b7b3-4b5d-800a-78c36c6f484f",
   "metadata": {},
   "outputs": [
    {
     "data": {
      "text/plain": [
       "(4, 10)"
      ]
     },
     "execution_count": 768,
     "metadata": {},
     "output_type": "execute_result"
    }
   ],
   "source": [
    "omega.shape"
   ]
  },
  {
   "cell_type": "code",
   "execution_count": 779,
   "id": "aa03a83f-d1a9-4810-959a-617f624177e6",
   "metadata": {},
   "outputs": [],
   "source": [
    "cov = np.array([[1,0.8],[0.8,1]])"
   ]
  },
  {
   "cell_type": "code",
   "execution_count": 780,
   "id": "6eb9534d-1135-4c29-af6f-460a26c36d90",
   "metadata": {},
   "outputs": [
    {
     "data": {
      "text/plain": [
       "array([[1.        , 0.85872036],\n",
       "       [0.85872036, 1.        ]])"
      ]
     },
     "execution_count": 780,
     "metadata": {},
     "output_type": "execute_result"
    }
   ],
   "source": [
    "omega, sigma=data.cov_term(f,j,T, cov = cov)\n",
    "\n",
    "np.corrcoef(omega.reshape(-1),sigma.reshape(-1))"
   ]
  },
  {
   "cell_type": "markdown",
   "id": "ed096a85-1307-474f-9826-91e243369735",
   "metadata": {
    "jp-MarkdownHeadingCollapsed": true,
    "tags": []
   },
   "source": [
    "### Solved: I think the problem is negative marginal costs. \n",
    "Some combinations of parameters and data end up leading to corner solutions and hence the model become non-estimatable "
   ]
  },
  {
   "cell_type": "markdown",
   "id": "9054e570-aaf0-4d56-8140-d854a1268348",
   "metadata": {},
   "source": [
    "### Adding Instruments: \n",
    "BLP Instruments consist of: \n",
    " - average attributes of own firm other products characteristics (if j = 1, then this instrument is invalid)\n",
    " - average attributes of other firm product characteristics.     \n"
   ]
  },
  {
   "cell_type": "code",
   "execution_count": 29,
   "id": "6f13bf63-1aff-4133-8039-26272c55ebe0",
   "metadata": {},
   "outputs": [
    {
     "ename": "NameError",
     "evalue": "name 'X' is not defined",
     "output_type": "error",
     "traceback": [
      "\u001b[1;31m---------------------------------------------------------------------------\u001b[0m",
      "\u001b[1;31mNameError\u001b[0m                                 Traceback (most recent call last)",
      "\u001b[1;32m~\\AppData\\Local\\Temp/ipykernel_11192/3777217377.py\u001b[0m in \u001b[0;36m<module>\u001b[1;34m\u001b[0m\n\u001b[1;32m----> 1\u001b[1;33m \u001b[0mX\u001b[0m\u001b[1;33m\u001b[0m\u001b[1;33m\u001b[0m\u001b[0m\n\u001b[0m",
      "\u001b[1;31mNameError\u001b[0m: name 'X' is not defined"
     ]
    }
   ],
   "source": []
  },
  {
   "cell_type": "code",
   "execution_count": null,
   "id": "c89adef1-8f13-4607-b85a-7f1c028a0ccc",
   "metadata": {},
   "outputs": [],
   "source": []
  },
  {
   "cell_type": "markdown",
   "id": "056c880d-6b87-46b7-bf54-ed21e3bb3643",
   "metadata": {
    "tags": []
   },
   "source": [
    "### Results\n",
    "Unexpected result since OLS is able to recover the parameters of the model exactly. Right now the model is estimated Must be because pr"
   ]
  },
  {
   "cell_type": "code",
   "execution_count": null,
   "id": "b3bf96eb-c7e7-46c5-9068-44e65b794c27",
   "metadata": {},
   "outputs": [],
   "source": []
  },
  {
   "cell_type": "code",
   "execution_count": 242,
   "id": "b290d12c-94fb-4b45-b803-9da680dad332",
   "metadata": {},
   "outputs": [
    {
     "data": {
      "text/plain": [
       "(1600, 2)"
      ]
     },
     "execution_count": 242,
     "metadata": {},
     "output_type": "execute_result"
    }
   ],
   "source": [
    "X.repeat(200, axis=0).shape"
   ]
  },
  {
   "cell_type": "code",
   "execution_count": 106,
   "id": "5a4b4152-f454-411b-9a51-8a5caf6db222",
   "metadata": {},
   "outputs": [
    {
     "data": {
      "text/plain": [
       "(800, 2)"
      ]
     },
     "execution_count": 106,
     "metadata": {},
     "output_type": "execute_result"
    }
   ],
   "source": [
    "X.repeat(200, axis=0).shape\n"
   ]
  },
  {
   "cell_type": "code",
   "execution_count": 26,
   "id": "5eec7111-2035-4c33-940a-cee66015dd53",
   "metadata": {},
   "outputs": [
    {
     "data": {
      "text/plain": [
       "(5, 5, 2)"
      ]
     },
     "execution_count": 26,
     "metadata": {},
     "output_type": "execute_result"
    }
   ],
   "source": [
    "mean = [0,0]\n",
    "cov  = np.array([[1,0.1],[0.1,1]])\n",
    "test=np.random.multivariate_normal(mean,cov,size = (f,j) )\n",
    "test.shape"
   ]
  },
  {
   "cell_type": "code",
   "execution_count": 27,
   "id": "81290509-74a9-40cb-9c70-e8e2d6265adf",
   "metadata": {},
   "outputs": [
    {
     "data": {
      "text/plain": [
       "array([[1. , 0.1],\n",
       "       [0.1, 1. ]])"
      ]
     },
     "execution_count": 27,
     "metadata": {},
     "output_type": "execute_result"
    }
   ],
   "source": [
    "cov"
   ]
  },
  {
   "cell_type": "code",
   "execution_count": 154,
   "id": "3b5f8a7f-6f70-402d-9c4b-28aef5f9b133",
   "metadata": {},
   "outputs": [
    {
     "data": {
      "text/plain": [
       "(50, 2)"
      ]
     },
     "execution_count": 154,
     "metadata": {},
     "output_type": "execute_result"
    }
   ],
   "source": [
    "np.random.multivariate_normal([0,0],cov, size = (f*j)).shape"
   ]
  },
  {
   "cell_type": "code",
   "execution_count": 24,
   "id": "4ff872b1-0bd4-4ae0-871c-b254799a0898",
   "metadata": {},
   "outputs": [
    {
     "data": {
      "text/plain": [
       "array([1. , 1. , 1. , 0.5])"
      ]
     },
     "execution_count": 24,
     "metadata": {},
     "output_type": "execute_result"
    }
   ],
   "source": [
    "x = np.array([1,1,1,0])\n",
    "np.maximum(x, 0.5)"
   ]
  },
  {
   "cell_type": "code",
   "execution_count": null,
   "id": "129306df",
   "metadata": {},
   "outputs": [],
   "source": [
    "\n",
    "\n",
    "\n",
    "def sim_study_IV(Q,cov):\n",
    "    parameters = np.zeros((Q,3))#+4*2))\n",
    "    for q in tqdm(range(Q)): \n",
    "        try:\n",
    "            f=2 # Firms\n",
    "            j=3 # Products\n",
    "            k=2 # Traits (of each product) \n",
    "\n",
    "            data = DE.endog_data()\n",
    "            X, prod=data.simulate_product_traits(f,j,k, which_type = \"Differentiated\")\n",
    "            X = X.reshape(j*f, -1)\n",
    "            H = data.hadamard(f*j,prod)\n",
    "\n",
    "            # True Parameters \n",
    "            alpha = -1                # Price sensitivity\n",
    "            beta= np.array([1,1])        # Preference for traits \n",
    "            theta = np.append(alpha,beta)  \n",
    "            #cov = np.array([[1,0.5],[0.5,1]])\n",
    "\n",
    "            gamma = -np.array([1,1,1])\n",
    "            T = 20\n",
    "            P0 = np.zeros((f*j)) +1               #Initital price vector\n",
    "\n",
    "            # Simulate data \n",
    "            S = np.array(0) \n",
    "            while S.min() == 0.0:\n",
    "                P, S = data.sim_data_T(X, f, j, T, theta, gamma, cov, prod, H, disable = True)\n",
    "            S.min()\n",
    "            \n",
    "            # constructing instruments: \n",
    "            # Not implemented\n",
    "\n",
    "            #Estimation: \n",
    "            S0=(1-np.sum(S,axis=0))\n",
    "\n",
    "            index=np.log(S/S0).reshape(-1,1)\n",
    "            \n",
    "\n",
    "            check = np.array(np.arange(j*f))\n",
    "            Z = []\n",
    "            for firm, js in prod.items():\n",
    "                not_f_prods=[j for j in check if j not in js ]\n",
    "\n",
    "                Z_i = X[not_f_prods,:].mean(axis=0)\n",
    "\n",
    "                Z.append(Z_i)\n",
    "\n",
    "            Z = np.array(Z) \n",
    "\n",
    "            ZZ = Z.repeat(T, axis=0)\n",
    "            Piv1 = P.reshape(-1)\n",
    "\n",
    "\n",
    "            results1step=OLS(Piv1,ZZ).fit()\n",
    "            results1step.params\n",
    "\n",
    "            EP = (ZZ @ results1step.params).reshape(-1,1)\n",
    "\n",
    "            # Step 2 IV: \n",
    "            ZX = np.hstack((EP, X.repeat(T, axis=0)))\n",
    "            #XX = XX[:,0:2]\n",
    "            resultsIV=OLS(index,ZX).fit()\n",
    "        \n",
    "            parameters[q,:] = resultsIV.params\n",
    "            \n",
    "        except np.linalg.LinAlgError: \n",
    "            continue\n",
    "    return parameters\n",
    "\n",
    "\n",
    "\n",
    "\n",
    "    "
   ]
  }
 ],
 "metadata": {
  "kernelspec": {
   "display_name": "Python 3 (ipykernel)",
   "language": "python",
   "name": "python3"
  },
  "language_info": {
   "codemirror_mode": {
    "name": "ipython",
    "version": 3
   },
   "file_extension": ".py",
   "mimetype": "text/x-python",
   "name": "python",
   "nbconvert_exporter": "python",
   "pygments_lexer": "ipython3",
   "version": "3.8.11"
  }
 },
 "nbformat": 4,
 "nbformat_minor": 5
}
