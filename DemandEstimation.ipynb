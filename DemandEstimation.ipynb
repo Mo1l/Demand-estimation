{
 "cells": [
  {
   "cell_type": "code",
   "execution_count": 2,
   "id": "8bd01b3d-d610-469b-83a7-22446206e720",
   "metadata": {},
   "outputs": [],
   "source": [
    "\n",
    "\n",
    "%load_ext autoreload\n",
    "%autoreload 2\n",
    "%load_ext line_profiler\n",
    "\n",
    "\n",
    "import numpy as np\n",
    "import DemandEstimation_v2 as DE\n",
    "from tqdm.notebook import tqdm\n",
    "from statsmodels.regression.linear_model import OLS \n",
    "import seaborn as sns\n",
    "import pandas as pd\n",
    "import matplotlib.pyplot as plt\n",
    "\n"
   ]
  },
  {
   "cell_type": "markdown",
   "id": "6dda1149-41bf-43c7-bc20-a0394067d2f0",
   "metadata": {},
   "source": [
    "#### Setting true parameters and simulating one period market"
   ]
  },
  {
   "cell_type": "code",
   "execution_count": 4,
   "id": "06738d52-6124-42fd-89c9-9e0f246d5b8b",
   "metadata": {},
   "outputs": [
    {
     "ename": "TypeError",
     "evalue": "sim_data() missing 1 required positional argument: 'J'",
     "output_type": "error",
     "traceback": [
      "\u001b[1;31m---------------------------------------------------------------------------\u001b[0m",
      "\u001b[1;31mTypeError\u001b[0m                                 Traceback (most recent call last)",
      "\u001b[1;32m~\\AppData\\Local\\Temp/ipykernel_13756/195560355.py\u001b[0m in \u001b[0;36m<module>\u001b[1;34m\u001b[0m\n\u001b[0;32m     16\u001b[0m \u001b[1;31m# Simulating data:\u001b[0m\u001b[1;33m\u001b[0m\u001b[1;33m\u001b[0m\u001b[1;33m\u001b[0m\u001b[0m\n\u001b[0;32m     17\u001b[0m \u001b[0mP\u001b[0m \u001b[1;33m=\u001b[0m \u001b[0mnp\u001b[0m\u001b[1;33m.\u001b[0m\u001b[0mzeros\u001b[0m\u001b[1;33m(\u001b[0m\u001b[1;33m(\u001b[0m\u001b[0mf\u001b[0m\u001b[1;33m*\u001b[0m\u001b[0mj\u001b[0m\u001b[1;33m)\u001b[0m\u001b[1;33m)\u001b[0m \u001b[1;33m+\u001b[0m\u001b[1;36m1\u001b[0m               \u001b[1;31m#Initital price vector\u001b[0m\u001b[1;33m\u001b[0m\u001b[1;33m\u001b[0m\u001b[0m\n\u001b[1;32m---> 18\u001b[1;33m \u001b[0mdata\u001b[0m\u001b[1;33m.\u001b[0m\u001b[0msim_data\u001b[0m\u001b[1;33m(\u001b[0m\u001b[0mP\u001b[0m\u001b[1;33m,\u001b[0m \u001b[0mtheta\u001b[0m\u001b[1;33m,\u001b[0m \u001b[0mX\u001b[0m\u001b[1;33m,\u001b[0m \u001b[0mmc\u001b[0m\u001b[1;33m,\u001b[0m \u001b[0mprod\u001b[0m\u001b[1;33m,\u001b[0m \u001b[0mf\u001b[0m\u001b[1;33m,\u001b[0m \u001b[0mj\u001b[0m\u001b[1;33m)\u001b[0m\u001b[1;33m\u001b[0m\u001b[1;33m\u001b[0m\u001b[0m\n\u001b[0m",
      "\u001b[1;31mTypeError\u001b[0m: sim_data() missing 1 required positional argument: 'J'"
     ]
    }
   ],
   "source": [
    "# setting parameters \n",
    "\n",
    "f=2 # Firms\n",
    "j=2# Products\n",
    "k=2 # Traits (of each product) \n",
    "data = DE.endog_data()\n",
    "X, prod=data.simulate_product_traits(f,j,k, which_type = \"Identical\")\n",
    "X = X.reshape(j*f, -1)\n",
    "\n",
    "# True Parameters \n",
    "alpha = -0.02                # Price sensitivity\n",
    "beta= np.array([1,2])        # Preference for traits \n",
    "mc = np.array([60,60, 70 ,40])           # Marginal costs of producing each product\n",
    "theta = np.append(alpha,beta)  \n",
    "\n",
    "# Simulating data: \n",
    "P = np.zeros((f*j)) +1               #Initital price vector\n",
    "data.sim_data(P, theta, X, mc, prod, f, j)\n"
   ]
  },
  {
   "cell_type": "code",
   "execution_count": 5,
   "id": "42f509c1-12ee-496d-9edb-264adfbf28c8",
   "metadata": {},
   "outputs": [],
   "source": [
    "# I could add shocks to production costs over time (ar(1) + noise). That would induce variation over time in prices. \n",
    "# I think when MC is perfectly known we lose one dimension of noise. Hence what is left is noise wrt. to demand. But the distribution is known and hence create the logit demand system. "
   ]
  },
  {
   "cell_type": "markdown",
   "id": "6539aa56-5b80-43c8-8ab6-afba37f89398",
   "metadata": {},
   "source": [
    "#### Simulating multiple markets"
   ]
  },
  {
   "cell_type": "code",
   "execution_count": 6,
   "id": "dd1d813d-6873-48ef-b60b-d6cd6f5e4924",
   "metadata": {},
   "outputs": [],
   "source": [
    "# setting parameters \n",
    "\n",
    "f=2 # Firms\n",
    "j=2# Products\n",
    "k=2 # Traits (of each product) \n",
    "\n",
    "data = DE.endog_data()\n",
    "X, prod=data.simulate_product_traits(f,j,k, which_type = \"Differentiated\")\n",
    "X = X.reshape(j*f, -1)\n",
    "\n",
    "# True Parameters \n",
    "alpha = -2                # Price sensitivity\n",
    "beta= np.array([2,2])        # Preference for traits \n",
    "theta = np.append(alpha,beta)  \n",
    "cov = np.array([[1,0.5],[0.5,1]])\n",
    "#cov = np.array([[1,0.0],[0.0,1]])\n",
    "gamma = np.array([1,1])\n",
    "T = 10\n",
    "P0 = np.zeros((f*j)) +1               #Initital price vector\n",
    "\n",
    "#mc=data.mc_sim(X, gamma,T=T, noise_type = \"Triangular\")"
   ]
  },
  {
   "cell_type": "code",
   "execution_count": 7,
   "id": "cacd5dbf-1301-40a0-b0b7-7fb5efb331da",
   "metadata": {
    "tags": []
   },
   "outputs": [
    {
     "ename": "TypeError",
     "evalue": "sim_data_T() missing 1 required positional argument: 'H'",
     "output_type": "error",
     "traceback": [
      "\u001b[1;31m---------------------------------------------------------------------------\u001b[0m",
      "\u001b[1;31mTypeError\u001b[0m                                 Traceback (most recent call last)",
      "\u001b[1;32m~\\AppData\\Local\\Temp/ipykernel_13756/3911275696.py\u001b[0m in \u001b[0;36m<module>\u001b[1;34m\u001b[0m\n\u001b[0;32m      3\u001b[0m \u001b[0mS\u001b[0m \u001b[1;33m=\u001b[0m \u001b[0mnp\u001b[0m\u001b[1;33m.\u001b[0m\u001b[0marray\u001b[0m\u001b[1;33m(\u001b[0m\u001b[1;36m0\u001b[0m\u001b[1;33m)\u001b[0m\u001b[1;33m\u001b[0m\u001b[1;33m\u001b[0m\u001b[0m\n\u001b[0;32m      4\u001b[0m \u001b[1;32mwhile\u001b[0m \u001b[0mS\u001b[0m\u001b[1;33m.\u001b[0m\u001b[0mmin\u001b[0m\u001b[1;33m(\u001b[0m\u001b[1;33m)\u001b[0m \u001b[1;33m==\u001b[0m \u001b[1;36m0.0\u001b[0m\u001b[1;33m:\u001b[0m\u001b[1;33m\u001b[0m\u001b[1;33m\u001b[0m\u001b[0m\n\u001b[1;32m----> 5\u001b[1;33m     \u001b[0mP\u001b[0m\u001b[1;33m,\u001b[0m \u001b[0mS\u001b[0m \u001b[1;33m=\u001b[0m \u001b[0mdata\u001b[0m\u001b[1;33m.\u001b[0m\u001b[0msim_data_T\u001b[0m\u001b[1;33m(\u001b[0m\u001b[0mX\u001b[0m\u001b[1;33m,\u001b[0m \u001b[0mf\u001b[0m\u001b[1;33m,\u001b[0m \u001b[0mj\u001b[0m\u001b[1;33m,\u001b[0m \u001b[0mT\u001b[0m\u001b[1;33m,\u001b[0m \u001b[0mtheta\u001b[0m\u001b[1;33m,\u001b[0m \u001b[0mgamma\u001b[0m\u001b[1;33m,\u001b[0m \u001b[0mcov\u001b[0m\u001b[1;33m,\u001b[0m \u001b[0mprod\u001b[0m\u001b[1;33m)\u001b[0m\u001b[1;33m\u001b[0m\u001b[1;33m\u001b[0m\u001b[0m\n\u001b[0m\u001b[0;32m      6\u001b[0m     \u001b[0mprint\u001b[0m\u001b[1;33m(\u001b[0m\u001b[0mS\u001b[0m\u001b[1;33m.\u001b[0m\u001b[0mmin\u001b[0m\u001b[1;33m(\u001b[0m\u001b[1;33m)\u001b[0m\u001b[1;33m==\u001b[0m\u001b[1;36m0.0\u001b[0m\u001b[1;33m)\u001b[0m\u001b[1;33m\u001b[0m\u001b[1;33m\u001b[0m\u001b[0m\n",
      "\u001b[1;31mTypeError\u001b[0m: sim_data_T() missing 1 required positional argument: 'H'"
     ]
    }
   ],
   "source": [
    "#P, S = data.sim_data_T(X, f, j, T, theta, gamma, cov, prod)\n",
    "#S.min()\n",
    "S = np.array(0) \n",
    "while S.min() == 0.0:\n",
    "    P, S = data.sim_data_T(X, f, j, T, theta, gamma, cov, prod)\n",
    "    print(S.min()==0.0)\n"
   ]
  },
  {
   "cell_type": "markdown",
   "id": "13414c68-129a-412d-ad9f-31de34370f9a",
   "metadata": {},
   "source": [
    "#### Using OLS to solve the system: \n",
    "1) Divide by outside option and Log transform the system. "
   ]
  },
  {
   "cell_type": "code",
   "execution_count": 8,
   "id": "ca392f28-99c5-41f1-a323-47282479ef9b",
   "metadata": {},
   "outputs": [
    {
     "ename": "IndexError",
     "evalue": "too many indices for array: array is 1-dimensional, but 2 were indexed",
     "output_type": "error",
     "traceback": [
      "\u001b[1;31m---------------------------------------------------------------------------\u001b[0m",
      "\u001b[1;31mIndexError\u001b[0m                                Traceback (most recent call last)",
      "\u001b[1;32m~\\AppData\\Local\\Temp/ipykernel_13756/3383340592.py\u001b[0m in \u001b[0;36m<module>\u001b[1;34m\u001b[0m\n\u001b[1;32m----> 1\u001b[1;33m \u001b[0mP\u001b[0m\u001b[1;33m[\u001b[0m\u001b[1;33m:\u001b[0m\u001b[1;33m,\u001b[0m\u001b[1;36m9\u001b[0m\u001b[1;33m]\u001b[0m\u001b[1;33m\u001b[0m\u001b[1;33m\u001b[0m\u001b[0m\n\u001b[0m",
      "\u001b[1;31mIndexError\u001b[0m: too many indices for array: array is 1-dimensional, but 2 were indexed"
     ]
    }
   ],
   "source": [
    "P[:,9]"
   ]
  },
  {
   "cell_type": "code",
   "execution_count": 9,
   "id": "b1d7ca4d-0b46-496b-9bd2-9722aa3e43e3",
   "metadata": {},
   "outputs": [
    {
     "name": "stderr",
     "output_type": "stream",
     "text": [
      "C:\\Users\\glh287\\AppData\\Local\\Temp/ipykernel_13756/3970718755.py:5: RuntimeWarning: divide by zero encountered in log\n",
      "  index=np.log(S/S0).reshape(-1,1)\n"
     ]
    },
    {
     "ename": "ValueError",
     "evalue": "all the input array dimensions for the concatenation axis must match exactly, but along dimension 0, the array at index 0 has size 4 and the array at index 1 has size 40",
     "output_type": "error",
     "traceback": [
      "\u001b[1;31m---------------------------------------------------------------------------\u001b[0m",
      "\u001b[1;31mValueError\u001b[0m                                Traceback (most recent call last)",
      "\u001b[1;32m~\\AppData\\Local\\Temp/ipykernel_13756/3970718755.py\u001b[0m in \u001b[0;36m<module>\u001b[1;34m\u001b[0m\n\u001b[0;32m      7\u001b[0m \u001b[1;31m# OLS with endogenous prices\u001b[0m\u001b[1;33m\u001b[0m\u001b[1;33m\u001b[0m\u001b[1;33m\u001b[0m\u001b[0m\n\u001b[0;32m      8\u001b[0m \u001b[0mP1\u001b[0m \u001b[1;33m=\u001b[0m \u001b[0mP\u001b[0m\u001b[1;33m.\u001b[0m\u001b[0mreshape\u001b[0m\u001b[1;33m(\u001b[0m\u001b[1;33m-\u001b[0m\u001b[1;36m1\u001b[0m\u001b[1;33m,\u001b[0m\u001b[1;36m1\u001b[0m\u001b[1;33m)\u001b[0m\u001b[1;33m\u001b[0m\u001b[1;33m\u001b[0m\u001b[0m\n\u001b[1;32m----> 9\u001b[1;33m \u001b[0mXX\u001b[0m \u001b[1;33m=\u001b[0m \u001b[0mnp\u001b[0m\u001b[1;33m.\u001b[0m\u001b[0mhstack\u001b[0m\u001b[1;33m(\u001b[0m\u001b[1;33m(\u001b[0m\u001b[0mP1\u001b[0m\u001b[1;33m,\u001b[0m \u001b[0mX\u001b[0m\u001b[1;33m.\u001b[0m\u001b[0mrepeat\u001b[0m\u001b[1;33m(\u001b[0m\u001b[0mT\u001b[0m\u001b[1;33m,\u001b[0m \u001b[0maxis\u001b[0m\u001b[1;33m=\u001b[0m\u001b[1;36m0\u001b[0m\u001b[1;33m)\u001b[0m\u001b[1;33m)\u001b[0m\u001b[1;33m)\u001b[0m\u001b[1;33m\u001b[0m\u001b[1;33m\u001b[0m\u001b[0m\n\u001b[0m\u001b[0;32m     10\u001b[0m \u001b[1;31m#XX = XX[:,0:2]\u001b[0m\u001b[1;33m\u001b[0m\u001b[1;33m\u001b[0m\u001b[1;33m\u001b[0m\u001b[0m\n\u001b[0;32m     11\u001b[0m \u001b[0mresultsp\u001b[0m\u001b[1;33m=\u001b[0m\u001b[0mOLS\u001b[0m\u001b[1;33m(\u001b[0m\u001b[0mindex\u001b[0m\u001b[1;33m,\u001b[0m\u001b[0mXX\u001b[0m\u001b[1;33m)\u001b[0m\u001b[1;33m.\u001b[0m\u001b[0mfit\u001b[0m\u001b[1;33m(\u001b[0m\u001b[1;33m)\u001b[0m\u001b[1;33m\u001b[0m\u001b[1;33m\u001b[0m\u001b[0m\n",
      "\u001b[1;32m<__array_function__ internals>\u001b[0m in \u001b[0;36mhstack\u001b[1;34m(*args, **kwargs)\u001b[0m\n",
      "\u001b[1;32m~\\Anaconda3\\lib\\site-packages\\numpy\\core\\shape_base.py\u001b[0m in \u001b[0;36mhstack\u001b[1;34m(tup)\u001b[0m\n\u001b[0;32m    344\u001b[0m         \u001b[1;32mreturn\u001b[0m \u001b[0m_nx\u001b[0m\u001b[1;33m.\u001b[0m\u001b[0mconcatenate\u001b[0m\u001b[1;33m(\u001b[0m\u001b[0marrs\u001b[0m\u001b[1;33m,\u001b[0m \u001b[1;36m0\u001b[0m\u001b[1;33m)\u001b[0m\u001b[1;33m\u001b[0m\u001b[1;33m\u001b[0m\u001b[0m\n\u001b[0;32m    345\u001b[0m     \u001b[1;32melse\u001b[0m\u001b[1;33m:\u001b[0m\u001b[1;33m\u001b[0m\u001b[1;33m\u001b[0m\u001b[0m\n\u001b[1;32m--> 346\u001b[1;33m         \u001b[1;32mreturn\u001b[0m \u001b[0m_nx\u001b[0m\u001b[1;33m.\u001b[0m\u001b[0mconcatenate\u001b[0m\u001b[1;33m(\u001b[0m\u001b[0marrs\u001b[0m\u001b[1;33m,\u001b[0m \u001b[1;36m1\u001b[0m\u001b[1;33m)\u001b[0m\u001b[1;33m\u001b[0m\u001b[1;33m\u001b[0m\u001b[0m\n\u001b[0m\u001b[0;32m    347\u001b[0m \u001b[1;33m\u001b[0m\u001b[0m\n\u001b[0;32m    348\u001b[0m \u001b[1;33m\u001b[0m\u001b[0m\n",
      "\u001b[1;32m<__array_function__ internals>\u001b[0m in \u001b[0;36mconcatenate\u001b[1;34m(*args, **kwargs)\u001b[0m\n",
      "\u001b[1;31mValueError\u001b[0m: all the input array dimensions for the concatenation axis must match exactly, but along dimension 0, the array at index 0 has size 4 and the array at index 1 has size 40"
     ]
    }
   ],
   "source": [
    "# OLS: \n",
    "# But I do not have the outside option in my data... I can construct it easily. \n",
    "S0=(1-np.sum(S,axis=0))\n",
    "\n",
    "index=np.log(S/S0).reshape(-1,1)\n",
    "\n",
    "# OLS with endogenous prices\n",
    "P1 = P.reshape(-1,1)\n",
    "XX = np.hstack((P1, X.repeat(T, axis=0)))\n",
    "#XX = XX[:,0:2]\n",
    "resultsp=OLS(index,XX).fit()\n",
    "resultsp.params\n",
    "\n",
    "# OLS with MC instead\n",
    "\n"
   ]
  },
  {
   "cell_type": "markdown",
   "id": "a0f6f715-6ce1-4a88-9a86-2683ed308566",
   "metadata": {},
   "source": [
    "#### Using 2-step IV: "
   ]
  },
  {
   "cell_type": "code",
   "execution_count": 10,
   "id": "448be06a-3b61-4e93-8a10-360b0e569751",
   "metadata": {},
   "outputs": [
    {
     "ename": "ValueError",
     "evalue": "endog and exog matrices are different sizes",
     "output_type": "error",
     "traceback": [
      "\u001b[1;31m---------------------------------------------------------------------------\u001b[0m",
      "\u001b[1;31mValueError\u001b[0m                                Traceback (most recent call last)",
      "\u001b[1;32m~\\AppData\\Local\\Temp/ipykernel_13756/702880816.py\u001b[0m in \u001b[0;36m<module>\u001b[1;34m\u001b[0m\n\u001b[0;32m     14\u001b[0m \u001b[1;33m\u001b[0m\u001b[0m\n\u001b[0;32m     15\u001b[0m \u001b[1;33m\u001b[0m\u001b[0m\n\u001b[1;32m---> 16\u001b[1;33m \u001b[0mresults1step\u001b[0m\u001b[1;33m=\u001b[0m\u001b[0mOLS\u001b[0m\u001b[1;33m(\u001b[0m\u001b[0mP1\u001b[0m\u001b[1;33m,\u001b[0m\u001b[0mZZ\u001b[0m\u001b[1;33m)\u001b[0m\u001b[1;33m.\u001b[0m\u001b[0mfit\u001b[0m\u001b[1;33m(\u001b[0m\u001b[1;33m)\u001b[0m\u001b[1;33m\u001b[0m\u001b[1;33m\u001b[0m\u001b[0m\n\u001b[0m\u001b[0;32m     17\u001b[0m \u001b[0mresults1step\u001b[0m\u001b[1;33m.\u001b[0m\u001b[0mparams\u001b[0m\u001b[1;33m\u001b[0m\u001b[1;33m\u001b[0m\u001b[0m\n\u001b[0;32m     18\u001b[0m \u001b[1;33m\u001b[0m\u001b[0m\n",
      "\u001b[1;32m~\\Anaconda3\\lib\\site-packages\\statsmodels\\regression\\linear_model.py\u001b[0m in \u001b[0;36m__init__\u001b[1;34m(self, endog, exog, missing, hasconst, **kwargs)\u001b[0m\n\u001b[0;32m    870\u001b[0m     def __init__(self, endog, exog=None, missing='none', hasconst=None,\n\u001b[0;32m    871\u001b[0m                  **kwargs):\n\u001b[1;32m--> 872\u001b[1;33m         super(OLS, self).__init__(endog, exog, missing=missing,\n\u001b[0m\u001b[0;32m    873\u001b[0m                                   hasconst=hasconst, **kwargs)\n\u001b[0;32m    874\u001b[0m         \u001b[1;32mif\u001b[0m \u001b[1;34m\"weights\"\u001b[0m \u001b[1;32min\u001b[0m \u001b[0mself\u001b[0m\u001b[1;33m.\u001b[0m\u001b[0m_init_keys\u001b[0m\u001b[1;33m:\u001b[0m\u001b[1;33m\u001b[0m\u001b[1;33m\u001b[0m\u001b[0m\n",
      "\u001b[1;32m~\\Anaconda3\\lib\\site-packages\\statsmodels\\regression\\linear_model.py\u001b[0m in \u001b[0;36m__init__\u001b[1;34m(self, endog, exog, weights, missing, hasconst, **kwargs)\u001b[0m\n\u001b[0;32m    701\u001b[0m         \u001b[1;32melse\u001b[0m\u001b[1;33m:\u001b[0m\u001b[1;33m\u001b[0m\u001b[1;33m\u001b[0m\u001b[0m\n\u001b[0;32m    702\u001b[0m             \u001b[0mweights\u001b[0m \u001b[1;33m=\u001b[0m \u001b[0mweights\u001b[0m\u001b[1;33m.\u001b[0m\u001b[0msqueeze\u001b[0m\u001b[1;33m(\u001b[0m\u001b[1;33m)\u001b[0m\u001b[1;33m\u001b[0m\u001b[1;33m\u001b[0m\u001b[0m\n\u001b[1;32m--> 703\u001b[1;33m         super(WLS, self).__init__(endog, exog, missing=missing,\n\u001b[0m\u001b[0;32m    704\u001b[0m                                   weights=weights, hasconst=hasconst, **kwargs)\n\u001b[0;32m    705\u001b[0m         \u001b[0mnobs\u001b[0m \u001b[1;33m=\u001b[0m \u001b[0mself\u001b[0m\u001b[1;33m.\u001b[0m\u001b[0mexog\u001b[0m\u001b[1;33m.\u001b[0m\u001b[0mshape\u001b[0m\u001b[1;33m[\u001b[0m\u001b[1;36m0\u001b[0m\u001b[1;33m]\u001b[0m\u001b[1;33m\u001b[0m\u001b[1;33m\u001b[0m\u001b[0m\n",
      "\u001b[1;32m~\\Anaconda3\\lib\\site-packages\\statsmodels\\regression\\linear_model.py\u001b[0m in \u001b[0;36m__init__\u001b[1;34m(self, endog, exog, **kwargs)\u001b[0m\n\u001b[0;32m    188\u001b[0m     \"\"\"\n\u001b[0;32m    189\u001b[0m     \u001b[1;32mdef\u001b[0m \u001b[0m__init__\u001b[0m\u001b[1;33m(\u001b[0m\u001b[0mself\u001b[0m\u001b[1;33m,\u001b[0m \u001b[0mendog\u001b[0m\u001b[1;33m,\u001b[0m \u001b[0mexog\u001b[0m\u001b[1;33m,\u001b[0m \u001b[1;33m**\u001b[0m\u001b[0mkwargs\u001b[0m\u001b[1;33m)\u001b[0m\u001b[1;33m:\u001b[0m\u001b[1;33m\u001b[0m\u001b[1;33m\u001b[0m\u001b[0m\n\u001b[1;32m--> 190\u001b[1;33m         \u001b[0msuper\u001b[0m\u001b[1;33m(\u001b[0m\u001b[0mRegressionModel\u001b[0m\u001b[1;33m,\u001b[0m \u001b[0mself\u001b[0m\u001b[1;33m)\u001b[0m\u001b[1;33m.\u001b[0m\u001b[0m__init__\u001b[0m\u001b[1;33m(\u001b[0m\u001b[0mendog\u001b[0m\u001b[1;33m,\u001b[0m \u001b[0mexog\u001b[0m\u001b[1;33m,\u001b[0m \u001b[1;33m**\u001b[0m\u001b[0mkwargs\u001b[0m\u001b[1;33m)\u001b[0m\u001b[1;33m\u001b[0m\u001b[1;33m\u001b[0m\u001b[0m\n\u001b[0m\u001b[0;32m    191\u001b[0m         \u001b[0mself\u001b[0m\u001b[1;33m.\u001b[0m\u001b[0m_data_attr\u001b[0m\u001b[1;33m.\u001b[0m\u001b[0mextend\u001b[0m\u001b[1;33m(\u001b[0m\u001b[1;33m[\u001b[0m\u001b[1;34m'pinv_wexog'\u001b[0m\u001b[1;33m,\u001b[0m \u001b[1;34m'weights'\u001b[0m\u001b[1;33m]\u001b[0m\u001b[1;33m)\u001b[0m\u001b[1;33m\u001b[0m\u001b[1;33m\u001b[0m\u001b[0m\n\u001b[0;32m    192\u001b[0m \u001b[1;33m\u001b[0m\u001b[0m\n",
      "\u001b[1;32m~\\Anaconda3\\lib\\site-packages\\statsmodels\\base\\model.py\u001b[0m in \u001b[0;36m__init__\u001b[1;34m(self, endog, exog, **kwargs)\u001b[0m\n\u001b[0;32m    235\u001b[0m \u001b[1;33m\u001b[0m\u001b[0m\n\u001b[0;32m    236\u001b[0m     \u001b[1;32mdef\u001b[0m \u001b[0m__init__\u001b[0m\u001b[1;33m(\u001b[0m\u001b[0mself\u001b[0m\u001b[1;33m,\u001b[0m \u001b[0mendog\u001b[0m\u001b[1;33m,\u001b[0m \u001b[0mexog\u001b[0m\u001b[1;33m=\u001b[0m\u001b[1;32mNone\u001b[0m\u001b[1;33m,\u001b[0m \u001b[1;33m**\u001b[0m\u001b[0mkwargs\u001b[0m\u001b[1;33m)\u001b[0m\u001b[1;33m:\u001b[0m\u001b[1;33m\u001b[0m\u001b[1;33m\u001b[0m\u001b[0m\n\u001b[1;32m--> 237\u001b[1;33m         \u001b[0msuper\u001b[0m\u001b[1;33m(\u001b[0m\u001b[0mLikelihoodModel\u001b[0m\u001b[1;33m,\u001b[0m \u001b[0mself\u001b[0m\u001b[1;33m)\u001b[0m\u001b[1;33m.\u001b[0m\u001b[0m__init__\u001b[0m\u001b[1;33m(\u001b[0m\u001b[0mendog\u001b[0m\u001b[1;33m,\u001b[0m \u001b[0mexog\u001b[0m\u001b[1;33m,\u001b[0m \u001b[1;33m**\u001b[0m\u001b[0mkwargs\u001b[0m\u001b[1;33m)\u001b[0m\u001b[1;33m\u001b[0m\u001b[1;33m\u001b[0m\u001b[0m\n\u001b[0m\u001b[0;32m    238\u001b[0m         \u001b[0mself\u001b[0m\u001b[1;33m.\u001b[0m\u001b[0minitialize\u001b[0m\u001b[1;33m(\u001b[0m\u001b[1;33m)\u001b[0m\u001b[1;33m\u001b[0m\u001b[1;33m\u001b[0m\u001b[0m\n\u001b[0;32m    239\u001b[0m \u001b[1;33m\u001b[0m\u001b[0m\n",
      "\u001b[1;32m~\\Anaconda3\\lib\\site-packages\\statsmodels\\base\\model.py\u001b[0m in \u001b[0;36m__init__\u001b[1;34m(self, endog, exog, **kwargs)\u001b[0m\n\u001b[0;32m     75\u001b[0m         \u001b[0mmissing\u001b[0m \u001b[1;33m=\u001b[0m \u001b[0mkwargs\u001b[0m\u001b[1;33m.\u001b[0m\u001b[0mpop\u001b[0m\u001b[1;33m(\u001b[0m\u001b[1;34m'missing'\u001b[0m\u001b[1;33m,\u001b[0m \u001b[1;34m'none'\u001b[0m\u001b[1;33m)\u001b[0m\u001b[1;33m\u001b[0m\u001b[1;33m\u001b[0m\u001b[0m\n\u001b[0;32m     76\u001b[0m         \u001b[0mhasconst\u001b[0m \u001b[1;33m=\u001b[0m \u001b[0mkwargs\u001b[0m\u001b[1;33m.\u001b[0m\u001b[0mpop\u001b[0m\u001b[1;33m(\u001b[0m\u001b[1;34m'hasconst'\u001b[0m\u001b[1;33m,\u001b[0m \u001b[1;32mNone\u001b[0m\u001b[1;33m)\u001b[0m\u001b[1;33m\u001b[0m\u001b[1;33m\u001b[0m\u001b[0m\n\u001b[1;32m---> 77\u001b[1;33m         self.data = self._handle_data(endog, exog, missing, hasconst,\n\u001b[0m\u001b[0;32m     78\u001b[0m                                       **kwargs)\n\u001b[0;32m     79\u001b[0m         \u001b[0mself\u001b[0m\u001b[1;33m.\u001b[0m\u001b[0mk_constant\u001b[0m \u001b[1;33m=\u001b[0m \u001b[0mself\u001b[0m\u001b[1;33m.\u001b[0m\u001b[0mdata\u001b[0m\u001b[1;33m.\u001b[0m\u001b[0mk_constant\u001b[0m\u001b[1;33m\u001b[0m\u001b[1;33m\u001b[0m\u001b[0m\n",
      "\u001b[1;32m~\\Anaconda3\\lib\\site-packages\\statsmodels\\base\\model.py\u001b[0m in \u001b[0;36m_handle_data\u001b[1;34m(self, endog, exog, missing, hasconst, **kwargs)\u001b[0m\n\u001b[0;32m     99\u001b[0m \u001b[1;33m\u001b[0m\u001b[0m\n\u001b[0;32m    100\u001b[0m     \u001b[1;32mdef\u001b[0m \u001b[0m_handle_data\u001b[0m\u001b[1;33m(\u001b[0m\u001b[0mself\u001b[0m\u001b[1;33m,\u001b[0m \u001b[0mendog\u001b[0m\u001b[1;33m,\u001b[0m \u001b[0mexog\u001b[0m\u001b[1;33m,\u001b[0m \u001b[0mmissing\u001b[0m\u001b[1;33m,\u001b[0m \u001b[0mhasconst\u001b[0m\u001b[1;33m,\u001b[0m \u001b[1;33m**\u001b[0m\u001b[0mkwargs\u001b[0m\u001b[1;33m)\u001b[0m\u001b[1;33m:\u001b[0m\u001b[1;33m\u001b[0m\u001b[1;33m\u001b[0m\u001b[0m\n\u001b[1;32m--> 101\u001b[1;33m         \u001b[0mdata\u001b[0m \u001b[1;33m=\u001b[0m \u001b[0mhandle_data\u001b[0m\u001b[1;33m(\u001b[0m\u001b[0mendog\u001b[0m\u001b[1;33m,\u001b[0m \u001b[0mexog\u001b[0m\u001b[1;33m,\u001b[0m \u001b[0mmissing\u001b[0m\u001b[1;33m,\u001b[0m \u001b[0mhasconst\u001b[0m\u001b[1;33m,\u001b[0m \u001b[1;33m**\u001b[0m\u001b[0mkwargs\u001b[0m\u001b[1;33m)\u001b[0m\u001b[1;33m\u001b[0m\u001b[1;33m\u001b[0m\u001b[0m\n\u001b[0m\u001b[0;32m    102\u001b[0m         \u001b[1;31m# kwargs arrays could have changed, easier to just attach here\u001b[0m\u001b[1;33m\u001b[0m\u001b[1;33m\u001b[0m\u001b[1;33m\u001b[0m\u001b[0m\n\u001b[0;32m    103\u001b[0m         \u001b[1;32mfor\u001b[0m \u001b[0mkey\u001b[0m \u001b[1;32min\u001b[0m \u001b[0mkwargs\u001b[0m\u001b[1;33m:\u001b[0m\u001b[1;33m\u001b[0m\u001b[1;33m\u001b[0m\u001b[0m\n",
      "\u001b[1;32m~\\Anaconda3\\lib\\site-packages\\statsmodels\\base\\data.py\u001b[0m in \u001b[0;36mhandle_data\u001b[1;34m(endog, exog, missing, hasconst, **kwargs)\u001b[0m\n\u001b[0;32m    670\u001b[0m \u001b[1;33m\u001b[0m\u001b[0m\n\u001b[0;32m    671\u001b[0m     \u001b[0mklass\u001b[0m \u001b[1;33m=\u001b[0m \u001b[0mhandle_data_class_factory\u001b[0m\u001b[1;33m(\u001b[0m\u001b[0mendog\u001b[0m\u001b[1;33m,\u001b[0m \u001b[0mexog\u001b[0m\u001b[1;33m)\u001b[0m\u001b[1;33m\u001b[0m\u001b[1;33m\u001b[0m\u001b[0m\n\u001b[1;32m--> 672\u001b[1;33m     return klass(endog, exog=exog, missing=missing, hasconst=hasconst,\n\u001b[0m\u001b[0;32m    673\u001b[0m                  **kwargs)\n",
      "\u001b[1;32m~\\Anaconda3\\lib\\site-packages\\statsmodels\\base\\data.py\u001b[0m in \u001b[0;36m__init__\u001b[1;34m(self, endog, exog, missing, hasconst, **kwargs)\u001b[0m\n\u001b[0;32m     86\u001b[0m         \u001b[0mself\u001b[0m\u001b[1;33m.\u001b[0m\u001b[0mk_constant\u001b[0m \u001b[1;33m=\u001b[0m \u001b[1;36m0\u001b[0m\u001b[1;33m\u001b[0m\u001b[1;33m\u001b[0m\u001b[0m\n\u001b[0;32m     87\u001b[0m         \u001b[0mself\u001b[0m\u001b[1;33m.\u001b[0m\u001b[0m_handle_constant\u001b[0m\u001b[1;33m(\u001b[0m\u001b[0mhasconst\u001b[0m\u001b[1;33m)\u001b[0m\u001b[1;33m\u001b[0m\u001b[1;33m\u001b[0m\u001b[0m\n\u001b[1;32m---> 88\u001b[1;33m         \u001b[0mself\u001b[0m\u001b[1;33m.\u001b[0m\u001b[0m_check_integrity\u001b[0m\u001b[1;33m(\u001b[0m\u001b[1;33m)\u001b[0m\u001b[1;33m\u001b[0m\u001b[1;33m\u001b[0m\u001b[0m\n\u001b[0m\u001b[0;32m     89\u001b[0m         \u001b[0mself\u001b[0m\u001b[1;33m.\u001b[0m\u001b[0m_cache\u001b[0m \u001b[1;33m=\u001b[0m \u001b[1;33m{\u001b[0m\u001b[1;33m}\u001b[0m\u001b[1;33m\u001b[0m\u001b[1;33m\u001b[0m\u001b[0m\n\u001b[0;32m     90\u001b[0m \u001b[1;33m\u001b[0m\u001b[0m\n",
      "\u001b[1;32m~\\Anaconda3\\lib\\site-packages\\statsmodels\\base\\data.py\u001b[0m in \u001b[0;36m_check_integrity\u001b[1;34m(self)\u001b[0m\n\u001b[0;32m    433\u001b[0m         \u001b[1;32mif\u001b[0m \u001b[0mself\u001b[0m\u001b[1;33m.\u001b[0m\u001b[0mexog\u001b[0m \u001b[1;32mis\u001b[0m \u001b[1;32mnot\u001b[0m \u001b[1;32mNone\u001b[0m\u001b[1;33m:\u001b[0m\u001b[1;33m\u001b[0m\u001b[1;33m\u001b[0m\u001b[0m\n\u001b[0;32m    434\u001b[0m             \u001b[1;32mif\u001b[0m \u001b[0mlen\u001b[0m\u001b[1;33m(\u001b[0m\u001b[0mself\u001b[0m\u001b[1;33m.\u001b[0m\u001b[0mexog\u001b[0m\u001b[1;33m)\u001b[0m \u001b[1;33m!=\u001b[0m \u001b[0mlen\u001b[0m\u001b[1;33m(\u001b[0m\u001b[0mself\u001b[0m\u001b[1;33m.\u001b[0m\u001b[0mendog\u001b[0m\u001b[1;33m)\u001b[0m\u001b[1;33m:\u001b[0m\u001b[1;33m\u001b[0m\u001b[1;33m\u001b[0m\u001b[0m\n\u001b[1;32m--> 435\u001b[1;33m                 \u001b[1;32mraise\u001b[0m \u001b[0mValueError\u001b[0m\u001b[1;33m(\u001b[0m\u001b[1;34m\"endog and exog matrices are different sizes\"\u001b[0m\u001b[1;33m)\u001b[0m\u001b[1;33m\u001b[0m\u001b[1;33m\u001b[0m\u001b[0m\n\u001b[0m\u001b[0;32m    436\u001b[0m \u001b[1;33m\u001b[0m\u001b[0m\n\u001b[0;32m    437\u001b[0m     \u001b[1;32mdef\u001b[0m \u001b[0mwrap_output\u001b[0m\u001b[1;33m(\u001b[0m\u001b[0mself\u001b[0m\u001b[1;33m,\u001b[0m \u001b[0mobj\u001b[0m\u001b[1;33m,\u001b[0m \u001b[0mhow\u001b[0m\u001b[1;33m=\u001b[0m\u001b[1;34m'columns'\u001b[0m\u001b[1;33m,\u001b[0m \u001b[0mnames\u001b[0m\u001b[1;33m=\u001b[0m\u001b[1;32mNone\u001b[0m\u001b[1;33m)\u001b[0m\u001b[1;33m:\u001b[0m\u001b[1;33m\u001b[0m\u001b[1;33m\u001b[0m\u001b[0m\n",
      "\u001b[1;31mValueError\u001b[0m: endog and exog matrices are different sizes"
     ]
    }
   ],
   "source": [
    "check = np.array(np.arange(j*f))\n",
    "Z = []\n",
    "for firm, js in prod.items():\n",
    "    not_f_prods=[j for j in check if j not in js ]\n",
    "    \n",
    "    Z_i = X[not_f_prods,:].mean(axis=0)\n",
    "    \n",
    "    Z.append(Z_i)\n",
    "    \n",
    "Z = np.array(Z) \n",
    "\n",
    "ZZ = Z.repeat(T, axis=0)\n",
    "Piv1 = P.reshape(-1)\n",
    "\n",
    "\n",
    "results1step=OLS(P1,ZZ).fit()\n",
    "results1step.params\n",
    "\n",
    "EP = (ZZ @ results1step.params).reshape(-1,1)\n",
    "\n",
    "# Step 2 IV: \n",
    "ZX = np.hstack((EP, X.repeat(T, axis=0)))\n",
    "#XX = XX[:,0:2]\n",
    "resultsIV=OLS(index,ZX).fit()\n",
    "resultsIV.params\n",
    "\n"
   ]
  },
  {
   "cell_type": "markdown",
   "id": "6ac0eada-e5ab-497f-9a10-b2a2dbf78702",
   "metadata": {},
   "source": [
    "### Doing a simulation study: "
   ]
  },
  {
   "cell_type": "code",
   "execution_count": 42,
   "id": "8a66c8e4-37f2-4448-85b1-fc9e3cee729c",
   "metadata": {},
   "outputs": [],
   "source": [
    "def sim_study(Q,cov, Type = \"OLS\", Consts = False):\n",
    "    \"\"\"\n",
    "    Type - options \"OLS\", \"IV\"\n",
    "    \"\"\"\n",
    "\n",
    "    # No. of Firms, products and traits: \n",
    "    f=2 # Firms\n",
    "    j=2 # Products\n",
    "    k=3 # Traits (of each product) \n",
    "    \n",
    "    # True Parameters \n",
    "    alpha = -5                      # Price sensitivity\n",
    "    beta= np.array([2,2,4])         # Preference for traits \n",
    "    theta = np.append(alpha,beta)   \n",
    "    gamma = np.array([1,1,4])       # Production costs of traits \n",
    "\n",
    "    #cov = np.array([[1,0.5],[0.5,1]])\n",
    "    T = 50\n",
    "\n",
    "    if Type == \"OLS\":\n",
    "        if Consts == True: \n",
    "            parameters = np.zeros((Q,1 + k*2 + f*j*2)) + np.nan\n",
    "        else:\n",
    "            parameters = np.zeros((Q,k + 1)) + np.nan\n",
    "\n",
    "    elif Type == \"IV\":\n",
    "        parameters = np.zeros((Q, k+1))\n",
    "\n",
    "    for q in tqdm(range(Q)): \n",
    "        try:\n",
    "            \n",
    "            data = DE.endog_data()\n",
    "            X, prod=data.simulate_product_traits(f,j,k, which_type = \"Differentiated\")\n",
    "            H = data.hadamard(f*j,prod)\n",
    "            X = X.reshape(j*f, -1)\n",
    "\n",
    "            # Simulate data \n",
    "            S = np.array(0) \n",
    "            while S.min() == 0.0:\n",
    "                P, S = data.sim_data_T(X, f, j, T, theta, gamma, cov, prod, H, disable = True)\n",
    "            S.min()\n",
    "            \n",
    "            # constructing instruments: \n",
    "            # Not implemented\n",
    "\n",
    "            #Estimation: \n",
    "            if Type == \"OLS\": \n",
    "                S0=(1-np.sum(S,axis=0))\n",
    "\n",
    "                index=np.log(S/S0).reshape(-1,1)\n",
    "\n",
    "                # OLS with endogenous prices\n",
    "                P1 = P.reshape(-1,1)\n",
    "\n",
    "                if Consts == True: \n",
    "                    j_const = np.identity(f*j).repeat(T, axis=0)\n",
    "                    XX = np.hstack((P1, X.repeat(T, axis=0),j_const))\n",
    "                else: \n",
    "                    XX = np.hstack((P1, X.repeat(T, axis=0)))\n",
    "\n",
    "                resultsp=OLS(index,XX).fit()\n",
    "                results = resultsp.params\n",
    "            \n",
    "                parameters[q,:] = results\n",
    "            \n",
    "            elif Type == \"IV\":\n",
    "                S0=(1-np.sum(S,axis=0))\n",
    "\n",
    "                index=np.log(S/S0).reshape(-1,1)\n",
    "                \n",
    "\n",
    "                check = np.array(np.arange(j*f))\n",
    "                Z = []\n",
    "                for firm, js in prod.items():\n",
    "                    not_f_prods=[j for j in check if j not in js ]\n",
    "\n",
    "                    Z_i = X[not_f_prods,:].mean(axis=0)   #(k,)\n",
    "                    #print(\"shape of Z_i\",Z_i.shape)\n",
    "\n",
    "                    Z.append(Z_i)\n",
    "\n",
    "                Z = np.array(Z)                            #(f,k)\n",
    "                #print(\"shape of Z:\", Z.shape)\n",
    "                ZZ = Z.repeat(T*j, axis=0)                 #(T*f*j,k)\n",
    "                Piv1 = P.reshape(-1)\n",
    "\n",
    "                # This will not work since it is looking at a firm level. But I need to create j instruments for each firm. \n",
    "                S = []\n",
    "                for firm, cs in prod.items():\n",
    "                    for c in cs: \n",
    "                        same_firm_not_j_prods=[i for i in cs if i != c]\n",
    "                        S_i=X[same_firm_not_j_prods,:].mean(axis=0)\n",
    "\n",
    "                        S.append(S_i)\n",
    "                S =np.array(S)\n",
    "                SS = S.repeat(T, axis=0)\n",
    "                #print(S)\n",
    "                #print(\"shape of S:\",SS.shape, \"shape of Z\", ZZ.shape)\n",
    "\n",
    "                ZS = np.hstack((ZZ, ZZ**2, SS, SS**2))\n",
    "                #print(ZS.shape)\n",
    "                \n",
    "                results1step=OLS(Piv1,ZZ).fit()\n",
    "                results1step.params\n",
    "\n",
    "                EP = (ZZ @ results1step.params).reshape(-1,1)\n",
    "\n",
    "                # Step 2 IV: \n",
    "                ZX = np.hstack((EP, X.repeat(T, axis=0)))\n",
    "                #XX = XX[:,0:2]\n",
    "                resultsIV=OLS(index,ZX).fit()\n",
    "            \n",
    "                parameters[q,:] = resultsIV.params\n",
    "                \n",
    "\n",
    "        except np.linalg.LinAlgError: \n",
    "            break\n",
    "    return parameters\n",
    "\n",
    "\n",
    "\n",
    "\n",
    "    "
   ]
  },
  {
   "cell_type": "code",
   "execution_count": 43,
   "id": "d17168c1-e37c-42a0-ac69-2be08db15f68",
   "metadata": {},
   "outputs": [
    {
     "data": {
      "application/vnd.jupyter.widget-view+json": {
       "model_id": "f0ac13566e9441dd999bbb168d09d13b",
       "version_major": 2,
       "version_minor": 0
      },
      "text/plain": [
       "  0%|          | 0/2000 [00:00<?, ?it/s]"
      ]
     },
     "metadata": {},
     "output_type": "display_data"
    },
    {
     "name": "stdout",
     "output_type": "stream",
     "text": [
      "P is smaller than 0, drawing new starting values\r"
     ]
    },
    {
     "data": {
      "application/vnd.jupyter.widget-view+json": {
       "model_id": "7cf0a42749a542c1a98fff2d39b144b2",
       "version_major": 2,
       "version_minor": 0
      },
      "text/plain": [
       "  0%|          | 0/2000 [00:00<?, ?it/s]"
      ]
     },
     "metadata": {},
     "output_type": "display_data"
    },
    {
     "name": "stdout",
     "output_type": "stream",
     "text": [
      "P is smaller than 0, drawing new starting values\r"
     ]
    }
   ],
   "source": [
    "\n",
    "P=2000\n",
    "cov = np.array([[1,0.8],[0.8,1]])\n",
    "corr=sim_study(P,cov, Type = \"OLS\", Consts = False)\n",
    "corr_IV = sim_study(P, cov, Type = \"IV\")\n"
   ]
  },
  {
   "cell_type": "code",
   "execution_count": 44,
   "id": "671e5bae-9d0d-4b63-b81a-0ffde931d7de",
   "metadata": {},
   "outputs": [
    {
     "data": {
      "application/vnd.jupyter.widget-view+json": {
       "model_id": "a1d44e5375024ef79863bd371d5dbde1",
       "version_major": 2,
       "version_minor": 0
      },
      "text/plain": [
       "  0%|          | 0/2000 [00:00<?, ?it/s]"
      ]
     },
     "metadata": {},
     "output_type": "display_data"
    },
    {
     "name": "stdout",
     "output_type": "stream",
     "text": [
      "P is smaller than 0, drawing new starting values\r"
     ]
    },
    {
     "data": {
      "application/vnd.jupyter.widget-view+json": {
       "model_id": "747da73518c740b7808e7928c6d0da62",
       "version_major": 2,
       "version_minor": 0
      },
      "text/plain": [
       "  0%|          | 0/2000 [00:00<?, ?it/s]"
      ]
     },
     "metadata": {},
     "output_type": "display_data"
    },
    {
     "name": "stdout",
     "output_type": "stream",
     "text": [
      "P is smaller than 0, drawing new starting values\r"
     ]
    }
   ],
   "source": [
    "\n",
    "cov = np.array([[1,0.0],[0.0,1]])\n",
    "wo_corr = sim_study(P,cov, Type = \"OLS\", Consts = False)\n",
    "wo_corr_IV = sim_study(P,cov, Type = \"IV\")\n"
   ]
  },
  {
   "cell_type": "code",
   "execution_count": 45,
   "id": "ef3912f6",
   "metadata": {},
   "outputs": [],
   "source": [
    "wo_corr_pd = pd.DataFrame(wo_corr)\n",
    "wo_corr_pd_IV = pd.DataFrame(wo_corr_IV)\n",
    "corr_pd = pd.DataFrame(corr)\n",
    "corr_pd_IV = pd.DataFrame(corr_IV)\n"
   ]
  },
  {
   "cell_type": "code",
   "execution_count": 46,
   "id": "4241fec9",
   "metadata": {},
   "outputs": [
    {
     "data": {
      "text/html": [
       "<div>\n",
       "<style scoped>\n",
       "    .dataframe tbody tr th:only-of-type {\n",
       "        vertical-align: middle;\n",
       "    }\n",
       "\n",
       "    .dataframe tbody tr th {\n",
       "        vertical-align: top;\n",
       "    }\n",
       "\n",
       "    .dataframe thead th {\n",
       "        text-align: right;\n",
       "    }\n",
       "</style>\n",
       "<table border=\"1\" class=\"dataframe\">\n",
       "  <thead>\n",
       "    <tr style=\"text-align: right;\">\n",
       "      <th></th>\n",
       "      <th>0</th>\n",
       "      <th>1</th>\n",
       "      <th>2</th>\n",
       "      <th>3</th>\n",
       "    </tr>\n",
       "  </thead>\n",
       "  <tbody>\n",
       "    <tr>\n",
       "      <th>0</th>\n",
       "      <td>-5.001026</td>\n",
       "      <td>2.018575</td>\n",
       "      <td>2.030955</td>\n",
       "      <td>3.981454</td>\n",
       "    </tr>\n",
       "    <tr>\n",
       "      <th>1</th>\n",
       "      <td>-2.617204</td>\n",
       "      <td>-1.697677</td>\n",
       "      <td>-1.936883</td>\n",
       "      <td>-5.436798</td>\n",
       "    </tr>\n",
       "    <tr>\n",
       "      <th>2</th>\n",
       "      <td>-4.522590</td>\n",
       "      <td>1.420865</td>\n",
       "      <td>1.412941</td>\n",
       "      <td>2.056116</td>\n",
       "    </tr>\n",
       "    <tr>\n",
       "      <th>3</th>\n",
       "      <td>2.133435</td>\n",
       "      <td>-36.954088</td>\n",
       "      <td>-0.318548</td>\n",
       "      <td>-13.040739</td>\n",
       "    </tr>\n",
       "  </tbody>\n",
       "</table>\n",
       "</div>"
      ],
      "text/plain": [
       "          0          1         2          3\n",
       "0 -5.001026   2.018575  2.030955   3.981454\n",
       "1 -2.617204  -1.697677 -1.936883  -5.436798\n",
       "2 -4.522590   1.420865  1.412941   2.056116\n",
       "3  2.133435 -36.954088 -0.318548 -13.040739"
      ]
     },
     "execution_count": 46,
     "metadata": {},
     "output_type": "execute_result"
    }
   ],
   "source": [
    "pd.DataFrame([wo_corr_pd.mean(axis=0),wo_corr_pd_IV.mean(axis=0), corr_pd.mean(axis=0), corr_pd_IV.mean(axis=0)])"
   ]
  },
  {
   "cell_type": "code",
   "execution_count": 40,
   "id": "de4079e2-3538-4959-9952-6e37b21d3559",
   "metadata": {},
   "outputs": [
    {
     "name": "stderr",
     "output_type": "stream",
     "text": [
      "C:\\Users\\glh287\\AppData\\Local\\Temp/ipykernel_13576/2011577078.py:10: UserWarning: Matplotlib is currently using module://matplotlib_inline.backend_inline, which is a non-GUI backend, so cannot show the figure.\n",
      "  fig.show()\n"
     ]
    },
    {
     "data": {
      "image/png": "[encoded data removed]",
      "text/plain": [
       "<Figure size 432x288 with 3 Axes>"
      ]
     },
     "metadata": {
      "needs_background": "light"
     },
     "output_type": "display_data"
    }
   ],
   "source": [
    "#corr_pd = corr_pd.loc[~(corr_pd==0).all(axis=1)]\n",
    "\n",
    "\n",
    "fig, ax =plt.subplots(1,3)\n",
    "sns.histplot(wo_corr_pd[0], ax=ax[0])\n",
    "sns.histplot(wo_corr_pd[1], ax=ax[1]).set(title='OLS without Correlation')\n",
    "sns.histplot(wo_corr_pd[2], ax=ax[2])\n",
    "\n",
    "\n",
    "fig.show()"
   ]
  },
  {
   "cell_type": "code",
   "execution_count": 47,
   "id": "05baa90a",
   "metadata": {},
   "outputs": [
    {
     "name": "stderr",
     "output_type": "stream",
     "text": [
      "C:\\Users\\glh287\\AppData\\Local\\Temp/ipykernel_13576/2755507471.py:10: UserWarning: Matplotlib is currently using module://matplotlib_inline.backend_inline, which is a non-GUI backend, so cannot show the figure.\n",
      "  fig.show()\n"
     ]
    },
    {
     "data": {
      "image/png": "[encoded data removed]",
      "text/plain": [
       "<Figure size 432x288 with 3 Axes>"
      ]
     },
     "metadata": {
      "needs_background": "light"
     },
     "output_type": "display_data"
    }
   ],
   "source": [
    "#corr_pd = corr_pd.loc[~(corr_pd==0).all(axis=1)]\n",
    "\n",
    "\n",
    "fig, ax =plt.subplots(1,3)\n",
    "sns.histplot(corr_pd_IV[0], ax=ax[0])\n",
    "sns.histplot(corr_pd_IV[1], ax=ax[1]).set(title='IV without Correlation')\n",
    "sns.histplot(corr_pd_IV[2], ax=ax[2])\n",
    "\n",
    "\n",
    "fig.show()"
   ]
  },
  {
   "cell_type": "code",
   "execution_count": 22,
   "id": "3bf4e904-428c-4ca4-85eb-b5794b30eaab",
   "metadata": {},
   "outputs": [
    {
     "name": "stderr",
     "output_type": "stream",
     "text": [
      "C:\\Users\\glh287\\AppData\\Local\\Temp/ipykernel_13576/373389710.py:8: UserWarning: Matplotlib is currently using module://matplotlib_inline.backend_inline, which is a non-GUI backend, so cannot show the figure.\n",
      "  fig.show()\n"
     ]
    },
    {
     "data": {
      "image/png": "[encoded data removed]",
      "text/plain": [
       "<Figure size 432x288 with 3 Axes>"
      ]
     },
     "metadata": {
      "needs_background": "light"
     },
     "output_type": "display_data"
    }
   ],
   "source": [
    "#corr_pd = corr_pd.loc[~(corr_pd==0).all(axis=1)]\n",
    "\n",
    "fig, ax =plt.subplots(1,3)\n",
    "sns.histplot(corr_pd[0], ax=ax[0])\n",
    "sns.histplot(corr_pd[1], ax=ax[1]).set(title='OLS with Correlation')\n",
    "sns.histplot(corr_pd[2], ax=ax[2])\n",
    "\n",
    "fig.show()"
   ]
  },
  {
   "cell_type": "code",
   "execution_count": 31,
   "id": "5dffa8f4",
   "metadata": {},
   "outputs": [
    {
     "data": {
      "text/plain": [
       "0   -4.999780\n",
       "1    1.989975\n",
       "2    2.007524\n",
       "3    3.994368\n",
       "dtype: float64"
      ]
     },
     "execution_count": 31,
     "metadata": {},
     "output_type": "execute_result"
    }
   ],
   "source": [
    "wo_corr_pd.mean()"
   ]
  },
  {
   "cell_type": "code",
   "execution_count": 23,
   "id": "40e7acdf",
   "metadata": {},
   "outputs": [
    {
     "name": "stderr",
     "output_type": "stream",
     "text": [
      "C:\\Users\\glh287\\AppData\\Local\\Temp/ipykernel_13576/1024738073.py:8: UserWarning: Matplotlib is currently using module://matplotlib_inline.backend_inline, which is a non-GUI backend, so cannot show the figure.\n",
      "  fig.show()\n"
     ]
    },
    {
     "data": {
      "image/png": "[encoded data removed]",
      "text/plain": [
       "<Figure size 432x288 with 3 Axes>"
      ]
     },
     "metadata": {
      "needs_background": "light"
     },
     "output_type": "display_data"
    }
   ],
   "source": [
    "#corr_pd = corr_pd.loc[~(corr_pd==0).all(axis=1)]\n",
    "\n",
    "fig, ax =plt.subplots(1,3)\n",
    "sns.histplot(corr_pd_IV[0], ax=ax[0])\n",
    "sns.histplot(corr_pd_IV[1], ax=ax[1]).set(title='IV with Correlation')\n",
    "sns.histplot(corr_pd_IV[2], ax=ax[2])\n",
    "\n",
    "fig.show()"
   ]
  },
  {
   "cell_type": "code",
   "execution_count": 99,
   "id": "d265ef07-65b3-493d-b655-54a27141dd7f",
   "metadata": {},
   "outputs": [
    {
     "data": {
      "text/plain": [
       "0    -1.941582\n",
       "1     1.834832\n",
       "2    -5.530314\n",
       "3   -12.204213\n",
       "dtype: float64"
      ]
     },
     "execution_count": 99,
     "metadata": {},
     "output_type": "execute_result"
    }
   ],
   "source": [
    "corr_pd_IV.mean()"
   ]
  },
  {
   "cell_type": "code",
   "execution_count": 60,
   "id": "f5e3cfcc-f74e-46b9-bc8c-8b321aaf2862",
   "metadata": {
    "tags": []
   },
   "outputs": [
    {
     "name": "stderr",
     "output_type": "stream",
     "text": [
      "C:\\Users\\glh287\\AppData\\Local\\Temp/ipykernel_13756/1170351877.py:9: UserWarning: Matplotlib is currently using module://matplotlib_inline.backend_inline, which is a non-GUI backend, so cannot show the figure.\n",
      "  fig.show()\n"
     ]
    },
    {
     "data": {
      "image/png": "[encoded data removed]",
      "text/plain": [
       "<Figure size 432x288 with 3 Axes>"
      ]
     },
     "metadata": {
      "needs_background": "light"
     },
     "output_type": "display_data"
    }
   ],
   "source": [
    "corr_pd = pd.DataFrame(corr_IV)\n",
    "corr_pd = corr_pd.loc[~(corr_pd==0).all(axis=1)]\n",
    "\n",
    "fig, ax =plt.subplots(1,3)\n",
    "sns.histplot(corr_pd[0], ax=ax[0])\n",
    "sns.histplot(corr_pd[1], ax=ax[1])\n",
    "sns.histplot(corr_pd[2], ax=ax[2])\n",
    "\n",
    "fig.show()"
   ]
  },
  {
   "cell_type": "code",
   "execution_count": 61,
   "id": "6f4391f8-95b9-4f9f-a829-7751d9a0a5bc",
   "metadata": {},
   "outputs": [
    {
     "data": {
      "text/plain": [
       "0    -1.328259\n",
       "1    -6.079788\n",
       "2    -6.126337\n",
       "3   -12.989173\n",
       "dtype: float64"
      ]
     },
     "execution_count": 61,
     "metadata": {},
     "output_type": "execute_result"
    }
   ],
   "source": [
    "corr_pd.mean()"
   ]
  },
  {
   "cell_type": "code",
   "execution_count": 768,
   "id": "5dc887e2-b7b3-4b5d-800a-78c36c6f484f",
   "metadata": {},
   "outputs": [
    {
     "data": {
      "text/plain": [
       "(4, 10)"
      ]
     },
     "execution_count": 768,
     "metadata": {},
     "output_type": "execute_result"
    }
   ],
   "source": [
    "omega.shape"
   ]
  },
  {
   "cell_type": "code",
   "execution_count": 779,
   "id": "aa03a83f-d1a9-4810-959a-617f624177e6",
   "metadata": {},
   "outputs": [],
   "source": [
    "cov = np.array([[1,0.8],[0.8,1]])"
   ]
  },
  {
   "cell_type": "code",
   "execution_count": 780,
   "id": "6eb9534d-1135-4c29-af6f-460a26c36d90",
   "metadata": {},
   "outputs": [
    {
     "data": {
      "text/plain": [
       "array([[1.        , 0.85872036],\n",
       "       [0.85872036, 1.        ]])"
      ]
     },
     "execution_count": 780,
     "metadata": {},
     "output_type": "execute_result"
    }
   ],
   "source": [
    "omega, sigma=data.cov_term(f,j,T, cov = cov)\n",
    "\n",
    "np.corrcoef(omega.reshape(-1),sigma.reshape(-1))"
   ]
  },
  {
   "cell_type": "markdown",
   "id": "9054e570-aaf0-4d56-8140-d854a1268348",
   "metadata": {},
   "source": [
    "### Adding Instruments: \n",
    "BLP Instruments consist of: \n",
    " - average attributes of own firm other products characteristics (if j = 1, then this instrument is invalid)\n",
    " - average attributes of other firm product characteristics.     \n"
   ]
  },
  {
   "cell_type": "code",
   "execution_count": 29,
   "id": "6f13bf63-1aff-4133-8039-26272c55ebe0",
   "metadata": {},
   "outputs": [
    {
     "ename": "NameError",
     "evalue": "name 'X' is not defined",
     "output_type": "error",
     "traceback": [
      "\u001b[1;31m---------------------------------------------------------------------------\u001b[0m",
      "\u001b[1;31mNameError\u001b[0m                                 Traceback (most recent call last)",
      "\u001b[1;32m~\\AppData\\Local\\Temp/ipykernel_11192/3777217377.py\u001b[0m in \u001b[0;36m<module>\u001b[1;34m\u001b[0m\n\u001b[1;32m----> 1\u001b[1;33m \u001b[0mX\u001b[0m\u001b[1;33m\u001b[0m\u001b[1;33m\u001b[0m\u001b[0m\n\u001b[0m",
      "\u001b[1;31mNameError\u001b[0m: name 'X' is not defined"
     ]
    }
   ],
   "source": []
  },
  {
   "cell_type": "code",
   "execution_count": null,
   "id": "c89adef1-8f13-4607-b85a-7f1c028a0ccc",
   "metadata": {},
   "outputs": [],
   "source": []
  },
  {
   "cell_type": "markdown",
   "id": "056c880d-6b87-46b7-bf54-ed21e3bb3643",
   "metadata": {
    "tags": []
   },
   "source": [
    "### Results\n",
    "Unexpected result since OLS is able to recover the parameters of the model exactly. Right now the model is estimated Must be because pr"
   ]
  },
  {
   "cell_type": "code",
   "execution_count": null,
   "id": "b3bf96eb-c7e7-46c5-9068-44e65b794c27",
   "metadata": {},
   "outputs": [],
   "source": []
  },
  {
   "cell_type": "code",
   "execution_count": 242,
   "id": "b290d12c-94fb-4b45-b803-9da680dad332",
   "metadata": {},
   "outputs": [
    {
     "data": {
      "text/plain": [
       "(1600, 2)"
      ]
     },
     "execution_count": 242,
     "metadata": {},
     "output_type": "execute_result"
    }
   ],
   "source": [
    "X.repeat(200, axis=0).shape"
   ]
  },
  {
   "cell_type": "code",
   "execution_count": 106,
   "id": "5a4b4152-f454-411b-9a51-8a5caf6db222",
   "metadata": {},
   "outputs": [
    {
     "data": {
      "text/plain": [
       "(800, 2)"
      ]
     },
     "execution_count": 106,
     "metadata": {},
     "output_type": "execute_result"
    }
   ],
   "source": [
    "X.repeat(200, axis=0).shape\n"
   ]
  },
  {
   "cell_type": "code",
   "execution_count": 26,
   "id": "5eec7111-2035-4c33-940a-cee66015dd53",
   "metadata": {},
   "outputs": [
    {
     "data": {
      "text/plain": [
       "(5, 5, 2)"
      ]
     },
     "execution_count": 26,
     "metadata": {},
     "output_type": "execute_result"
    }
   ],
   "source": [
    "mean = [0,0]\n",
    "cov  = np.array([[1,0.1],[0.1,1]])\n",
    "test=np.random.multivariate_normal(mean,cov,size = (f,j) )\n",
    "test.shape"
   ]
  },
  {
   "cell_type": "code",
   "execution_count": 27,
   "id": "81290509-74a9-40cb-9c70-e8e2d6265adf",
   "metadata": {},
   "outputs": [
    {
     "data": {
      "text/plain": [
       "array([[1. , 0.1],\n",
       "       [0.1, 1. ]])"
      ]
     },
     "execution_count": 27,
     "metadata": {},
     "output_type": "execute_result"
    }
   ],
   "source": [
    "cov"
   ]
  },
  {
   "cell_type": "code",
   "execution_count": 154,
   "id": "3b5f8a7f-6f70-402d-9c4b-28aef5f9b133",
   "metadata": {},
   "outputs": [
    {
     "data": {
      "text/plain": [
       "(50, 2)"
      ]
     },
     "execution_count": 154,
     "metadata": {},
     "output_type": "execute_result"
    }
   ],
   "source": [
    "np.random.multivariate_normal([0,0],cov, size = (f*j)).shape"
   ]
  },
  {
   "cell_type": "code",
   "execution_count": 24,
   "id": "4ff872b1-0bd4-4ae0-871c-b254799a0898",
   "metadata": {},
   "outputs": [
    {
     "data": {
      "text/plain": [
       "array([1. , 1. , 1. , 0.5])"
      ]
     },
     "execution_count": 24,
     "metadata": {},
     "output_type": "execute_result"
    }
   ],
   "source": [
    "x = np.array([1,1,1,0])\n",
    "np.maximum(x, 0.5)"
   ]
  },
  {
   "cell_type": "code",
   "execution_count": null,
   "id": "129306df",
   "metadata": {},
   "outputs": [],
   "source": [
    "\n",
    "\n",
    "\n",
    "def sim_study_IV(Q,cov):\n",
    "    parameters = np.zeros((Q,3))#+4*2))\n",
    "    for q in tqdm(range(Q)): \n",
    "        try:\n",
    "            f=2 # Firms\n",
    "            j=3 # Products\n",
    "            k=2 # Traits (of each product) \n",
    "\n",
    "            data = DE.endog_data()\n",
    "            X, prod=data.simulate_product_traits(f,j,k, which_type = \"Differentiated\")\n",
    "            X = X.reshape(j*f, -1)\n",
    "            H = data.hadamard(f*j,prod)\n",
    "\n",
    "            # True Parameters \n",
    "            alpha = -1                # Price sensitivity\n",
    "            beta= np.array([1,1])        # Preference for traits \n",
    "            theta = np.append(alpha,beta)  \n",
    "            #cov = np.array([[1,0.5],[0.5,1]])\n",
    "\n",
    "            gamma = -np.array([1,1,1])\n",
    "            T = 20\n",
    "            P0 = np.zeros((f*j)) +1               #Initital price vector\n",
    "\n",
    "            # Simulate data \n",
    "            S = np.array(0) \n",
    "            while S.min() == 0.0:\n",
    "                P, S = data.sim_data_T(X, f, j, T, theta, gamma, cov, prod, H, disable = True)\n",
    "            S.min()\n",
    "            \n",
    "            # constructing instruments: \n",
    "            # Not implemented\n",
    "\n",
    "            #Estimation: \n",
    "            S0=(1-np.sum(S,axis=0))\n",
    "\n",
    "            index=np.log(S/S0).reshape(-1,1)\n",
    "            \n",
    "\n",
    "            check = np.array(np.arange(j*f))\n",
    "            Z = []\n",
    "            for firm, js in prod.items():\n",
    "                not_f_prods=[j for j in check if j not in js ]\n",
    "\n",
    "                Z_i = X[not_f_prods,:].mean(axis=0)\n",
    "\n",
    "                Z.append(Z_i)\n",
    "\n",
    "            Z = np.array(Z) \n",
    "\n",
    "            ZZ = Z.repeat(T, axis=0)\n",
    "            Piv1 = P.reshape(-1)\n",
    "\n",
    "\n",
    "            results1step=OLS(Piv1,ZZ).fit()\n",
    "            results1step.params\n",
    "\n",
    "            EP = (ZZ @ results1step.params).reshape(-1,1)\n",
    "\n",
    "            # Step 2 IV: \n",
    "            ZX = np.hstack((EP, X.repeat(T, axis=0)))\n",
    "            #XX = XX[:,0:2]\n",
    "            resultsIV=OLS(index,ZX).fit()\n",
    "        \n",
    "            parameters[q,:] = resultsIV.params\n",
    "            \n",
    "        except np.linalg.LinAlgError: \n",
    "            continue\n",
    "    return parameters\n",
    "\n",
    "\n",
    "\n",
    "\n",
    "    "
   ]
  }
 ],
 "metadata": {
  "kernelspec": {
   "display_name": "Python 3 (ipykernel)",
   "language": "python",
   "name": "python3"
  },
  "language_info": {
   "codemirror_mode": {
    "name": "ipython",
    "version": 3
   },
   "file_extension": ".py",
   "mimetype": "text/x-python",
   "name": "python",
   "nbconvert_exporter": "python",
   "pygments_lexer": "ipython3",
   "version": "3.8.11"
  }
 },
 "nbformat": 4,
 "nbformat_minor": 5
}
