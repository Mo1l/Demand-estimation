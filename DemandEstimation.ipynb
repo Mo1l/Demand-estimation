{
 "cells": [
  {
   "cell_type": "code",
   "execution_count": 3,
   "id": "8bd01b3d-d610-469b-83a7-22446206e720",
   "metadata": {},
   "outputs": [],
   "source": [
    "\n",
    "\n",
    "%load_ext autoreload\n",
    "%autoreload 2\n",
    "%load_ext line_profiler\n",
    "\n",
    "\n",
    "import numpy as np\n",
    "import DemandEstimation_v2 as DE\n",
    "from tqdm.notebook import tqdm\n",
    "from statsmodels.regression.linear_model import OLS \n",
    "import seaborn as sns\n",
    "import pandas as pd\n",
    "import matplotlib.pyplot as plt\n",
    "\n"
   ]
  },
  {
   "cell_type": "markdown",
   "id": "6dda1149-41bf-43c7-bc20-a0394067d2f0",
   "metadata": {},
   "source": [
    "#### Setting true parameters and simulating one period market"
   ]
  },
  {
   "cell_type": "code",
   "execution_count": 4,
   "id": "06738d52-6124-42fd-89c9-9e0f246d5b8b",
   "metadata": {},
   "outputs": [
    {
     "ename": "TypeError",
     "evalue": "sim_data() missing 1 required positional argument: 'J'",
     "output_type": "error",
     "traceback": [
      "\u001b[1;31m---------------------------------------------------------------------------\u001b[0m",
      "\u001b[1;31mTypeError\u001b[0m                                 Traceback (most recent call last)",
      "\u001b[1;32m~\\AppData\\Local\\Temp/ipykernel_14864/195560355.py\u001b[0m in \u001b[0;36m<module>\u001b[1;34m\u001b[0m\n\u001b[0;32m     16\u001b[0m \u001b[1;31m# Simulating data:\u001b[0m\u001b[1;33m\u001b[0m\u001b[1;33m\u001b[0m\u001b[0m\n\u001b[0;32m     17\u001b[0m \u001b[0mP\u001b[0m \u001b[1;33m=\u001b[0m \u001b[0mnp\u001b[0m\u001b[1;33m.\u001b[0m\u001b[0mzeros\u001b[0m\u001b[1;33m(\u001b[0m\u001b[1;33m(\u001b[0m\u001b[0mf\u001b[0m\u001b[1;33m*\u001b[0m\u001b[0mj\u001b[0m\u001b[1;33m)\u001b[0m\u001b[1;33m)\u001b[0m \u001b[1;33m+\u001b[0m\u001b[1;36m1\u001b[0m               \u001b[1;31m#Initital price vector\u001b[0m\u001b[1;33m\u001b[0m\u001b[1;33m\u001b[0m\u001b[0m\n\u001b[1;32m---> 18\u001b[1;33m \u001b[0mdata\u001b[0m\u001b[1;33m.\u001b[0m\u001b[0msim_data\u001b[0m\u001b[1;33m(\u001b[0m\u001b[0mP\u001b[0m\u001b[1;33m,\u001b[0m \u001b[0mtheta\u001b[0m\u001b[1;33m,\u001b[0m \u001b[0mX\u001b[0m\u001b[1;33m,\u001b[0m \u001b[0mmc\u001b[0m\u001b[1;33m,\u001b[0m \u001b[0mprod\u001b[0m\u001b[1;33m,\u001b[0m \u001b[0mf\u001b[0m\u001b[1;33m,\u001b[0m \u001b[0mj\u001b[0m\u001b[1;33m)\u001b[0m\u001b[1;33m\u001b[0m\u001b[1;33m\u001b[0m\u001b[0m\n\u001b[0m",
      "\u001b[1;31mTypeError\u001b[0m: sim_data() missing 1 required positional argument: 'J'"
     ]
    }
   ],
   "source": [
    "# setting parameters \n",
    "\n",
    "f=2 # Firms\n",
    "j=2# Products\n",
    "k=2 # Traits (of each product) \n",
    "data = DE.endog_data()\n",
    "X, prod=data.simulate_product_traits(f,j,k, which_type = \"Identical\")\n",
    "X = X.reshape(j*f, -1)\n",
    "\n",
    "# True Parameters \n",
    "alpha = -0.02                # Price sensitivity\n",
    "beta= np.array([1,2])        # Preference for traits \n",
    "mc = np.array([60,60, 70 ,40])           # Marginal costs of producing each product\n",
    "theta = np.append(alpha,beta)  \n",
    "\n",
    "# Simulating data: \n",
    "P = np.zeros((f*j)) +1               #Initital price vector\n",
    "data.sim_data(P, theta, X, mc, prod, f, j)\n"
   ]
  },
  {
   "cell_type": "code",
   "execution_count": 5,
   "id": "42f509c1-12ee-496d-9edb-264adfbf28c8",
   "metadata": {},
   "outputs": [],
   "source": [
    "# I could add shocks to production costs over time (ar(1) + noise). That would induce variation over time in prices. \n",
    "# I think when MC is perfectly known we lose one dimension of noise. Hence what is left is noise wrt. to demand. But the distribution is known and hence create the logit demand system. "
   ]
  },
  {
   "cell_type": "markdown",
   "id": "6539aa56-5b80-43c8-8ab6-afba37f89398",
   "metadata": {},
   "source": [
    "#### Simulating multiple markets"
   ]
  },
  {
   "cell_type": "code",
   "execution_count": 1,
   "id": "dd1d813d-6873-48ef-b60b-d6cd6f5e4924",
   "metadata": {},
   "outputs": [
    {
     "ename": "NameError",
     "evalue": "name 'DE' is not defined",
     "output_type": "error",
     "traceback": [
      "\u001b[1;31m---------------------------------------------------------------------------\u001b[0m",
      "\u001b[1;31mNameError\u001b[0m                                 Traceback (most recent call last)",
      "\u001b[1;32m~\\AppData\\Local\\Temp/ipykernel_14864/2416737497.py\u001b[0m in \u001b[0;36m<module>\u001b[1;34m\u001b[0m\n\u001b[0;32m      5\u001b[0m \u001b[0mk\u001b[0m\u001b[1;33m=\u001b[0m\u001b[1;36m2\u001b[0m \u001b[1;31m# Traits (of each product)\u001b[0m\u001b[1;33m\u001b[0m\u001b[1;33m\u001b[0m\u001b[0m\n\u001b[0;32m      6\u001b[0m \u001b[1;33m\u001b[0m\u001b[0m\n\u001b[1;32m----> 7\u001b[1;33m \u001b[0mdata\u001b[0m \u001b[1;33m=\u001b[0m \u001b[0mDE\u001b[0m\u001b[1;33m.\u001b[0m\u001b[0mendog_data\u001b[0m\u001b[1;33m(\u001b[0m\u001b[1;33m)\u001b[0m\u001b[1;33m\u001b[0m\u001b[1;33m\u001b[0m\u001b[0m\n\u001b[0m\u001b[0;32m      8\u001b[0m \u001b[0mX\u001b[0m\u001b[1;33m,\u001b[0m \u001b[0mprod\u001b[0m\u001b[1;33m=\u001b[0m\u001b[0mdata\u001b[0m\u001b[1;33m.\u001b[0m\u001b[0msimulate_product_traits\u001b[0m\u001b[1;33m(\u001b[0m\u001b[0mf\u001b[0m\u001b[1;33m,\u001b[0m\u001b[0mj\u001b[0m\u001b[1;33m,\u001b[0m\u001b[0mk\u001b[0m\u001b[1;33m,\u001b[0m \u001b[0mwhich_type\u001b[0m \u001b[1;33m=\u001b[0m \u001b[1;34m\"Differentiated\"\u001b[0m\u001b[1;33m)\u001b[0m\u001b[1;33m\u001b[0m\u001b[1;33m\u001b[0m\u001b[0m\n\u001b[0;32m      9\u001b[0m \u001b[0mX\u001b[0m \u001b[1;33m=\u001b[0m \u001b[0mX\u001b[0m\u001b[1;33m.\u001b[0m\u001b[0mreshape\u001b[0m\u001b[1;33m(\u001b[0m\u001b[0mj\u001b[0m\u001b[1;33m*\u001b[0m\u001b[0mf\u001b[0m\u001b[1;33m,\u001b[0m \u001b[1;33m-\u001b[0m\u001b[1;36m1\u001b[0m\u001b[1;33m)\u001b[0m\u001b[1;33m\u001b[0m\u001b[1;33m\u001b[0m\u001b[0m\n",
      "\u001b[1;31mNameError\u001b[0m: name 'DE' is not defined"
     ]
    }
   ],
   "source": [
    "# setting parameters \n",
    "\n",
    "f=2 # Firms\n",
    "j=2# Products\n",
    "k=2 # Traits (of each product) \n",
    "\n",
    "data = DE.endog_data()\n",
    "X, prod=data.simulate_product_traits(f,j,k, which_type = \"Differentiated\")\n",
    "X = X.reshape(j*f, -1)\n",
    "\n",
    "# True Parameters \n",
    "alpha = -2                # Price sensitivity\n",
    "beta= np.array([2,2])        # Preference for traits \n",
    "theta = np.append(alpha,beta)  \n",
    "cov = np.array([[1,0.5],[0.5,1]])\n",
    "#cov = np.array([[1,0.0],[0.0,1]])\n",
    "gamma = np.array([1,1])\n",
    "T = 10\n",
    "P0 = np.zeros((f*j)) +1               #Initital price vector\n",
    "\n",
    "#mc=data.mc_sim(X, gamma,T=T, noise_type = \"Triangular\")"
   ]
  },
  {
   "cell_type": "code",
   "execution_count": 7,
   "id": "cacd5dbf-1301-40a0-b0b7-7fb5efb331da",
   "metadata": {
    "tags": []
   },
   "outputs": [
    {
     "ename": "TypeError",
     "evalue": "sim_data_T() missing 1 required positional argument: 'H'",
     "output_type": "error",
     "traceback": [
      "\u001b[1;31m---------------------------------------------------------------------------\u001b[0m",
      "\u001b[1;31mTypeError\u001b[0m                                 Traceback (most recent call last)",
      "\u001b[1;32m~\\AppData\\Local\\Temp/ipykernel_13756/3911275696.py\u001b[0m in \u001b[0;36m<module>\u001b[1;34m\u001b[0m\n\u001b[0;32m      3\u001b[0m \u001b[0mS\u001b[0m \u001b[1;33m=\u001b[0m \u001b[0mnp\u001b[0m\u001b[1;33m.\u001b[0m\u001b[0marray\u001b[0m\u001b[1;33m(\u001b[0m\u001b[1;36m0\u001b[0m\u001b[1;33m)\u001b[0m\u001b[1;33m\u001b[0m\u001b[1;33m\u001b[0m\u001b[0m\n\u001b[0;32m      4\u001b[0m \u001b[1;32mwhile\u001b[0m \u001b[0mS\u001b[0m\u001b[1;33m.\u001b[0m\u001b[0mmin\u001b[0m\u001b[1;33m(\u001b[0m\u001b[1;33m)\u001b[0m \u001b[1;33m==\u001b[0m \u001b[1;36m0.0\u001b[0m\u001b[1;33m:\u001b[0m\u001b[1;33m\u001b[0m\u001b[1;33m\u001b[0m\u001b[0m\n\u001b[1;32m----> 5\u001b[1;33m     \u001b[0mP\u001b[0m\u001b[1;33m,\u001b[0m \u001b[0mS\u001b[0m \u001b[1;33m=\u001b[0m \u001b[0mdata\u001b[0m\u001b[1;33m.\u001b[0m\u001b[0msim_data_T\u001b[0m\u001b[1;33m(\u001b[0m\u001b[0mX\u001b[0m\u001b[1;33m,\u001b[0m \u001b[0mf\u001b[0m\u001b[1;33m,\u001b[0m \u001b[0mj\u001b[0m\u001b[1;33m,\u001b[0m \u001b[0mT\u001b[0m\u001b[1;33m,\u001b[0m \u001b[0mtheta\u001b[0m\u001b[1;33m,\u001b[0m \u001b[0mgamma\u001b[0m\u001b[1;33m,\u001b[0m \u001b[0mcov\u001b[0m\u001b[1;33m,\u001b[0m \u001b[0mprod\u001b[0m\u001b[1;33m)\u001b[0m\u001b[1;33m\u001b[0m\u001b[1;33m\u001b[0m\u001b[0m\n\u001b[0m\u001b[0;32m      6\u001b[0m     \u001b[0mprint\u001b[0m\u001b[1;33m(\u001b[0m\u001b[0mS\u001b[0m\u001b[1;33m.\u001b[0m\u001b[0mmin\u001b[0m\u001b[1;33m(\u001b[0m\u001b[1;33m)\u001b[0m\u001b[1;33m==\u001b[0m\u001b[1;36m0.0\u001b[0m\u001b[1;33m)\u001b[0m\u001b[1;33m\u001b[0m\u001b[1;33m\u001b[0m\u001b[0m\n",
      "\u001b[1;31mTypeError\u001b[0m: sim_data_T() missing 1 required positional argument: 'H'"
     ]
    }
   ],
   "source": [
    "#P, S = data.sim_data_T(X, f, j, T, theta, gamma, cov, prod)\n",
    "#S.min()\n",
    "S = np.array(0) \n",
    "while S.min() == 0.0:\n",
    "    P, S = data.sim_data_T(X, f, j, T, theta, gamma, cov, prod)\n",
    "    print(S.min()==0.0)\n"
   ]
  },
  {
   "cell_type": "markdown",
   "id": "13414c68-129a-412d-ad9f-31de34370f9a",
   "metadata": {},
   "source": [
    "#### Using OLS to solve the system: \n",
    "1) Divide by outside option and Log transform the system. "
   ]
  },
  {
   "cell_type": "code",
   "execution_count": 8,
   "id": "ca392f28-99c5-41f1-a323-47282479ef9b",
   "metadata": {},
   "outputs": [
    {
     "ename": "IndexError",
     "evalue": "too many indices for array: array is 1-dimensional, but 2 were indexed",
     "output_type": "error",
     "traceback": [
      "\u001b[1;31m---------------------------------------------------------------------------\u001b[0m",
      "\u001b[1;31mIndexError\u001b[0m                                Traceback (most recent call last)",
      "\u001b[1;32m~\\AppData\\Local\\Temp/ipykernel_13756/3383340592.py\u001b[0m in \u001b[0;36m<module>\u001b[1;34m\u001b[0m\n\u001b[1;32m----> 1\u001b[1;33m \u001b[0mP\u001b[0m\u001b[1;33m[\u001b[0m\u001b[1;33m:\u001b[0m\u001b[1;33m,\u001b[0m\u001b[1;36m9\u001b[0m\u001b[1;33m]\u001b[0m\u001b[1;33m\u001b[0m\u001b[1;33m\u001b[0m\u001b[0m\n\u001b[0m",
      "\u001b[1;31mIndexError\u001b[0m: too many indices for array: array is 1-dimensional, but 2 were indexed"
     ]
    }
   ],
   "source": [
    "P[:,9]"
   ]
  },
  {
   "cell_type": "code",
   "execution_count": 9,
   "id": "b1d7ca4d-0b46-496b-9bd2-9722aa3e43e3",
   "metadata": {},
   "outputs": [
    {
     "name": "stderr",
     "output_type": "stream",
     "text": [
      "C:\\Users\\glh287\\AppData\\Local\\Temp/ipykernel_13756/3970718755.py:5: RuntimeWarning: divide by zero encountered in log\n",
      "  index=np.log(S/S0).reshape(-1,1)\n"
     ]
    },
    {
     "ename": "ValueError",
     "evalue": "all the input array dimensions for the concatenation axis must match exactly, but along dimension 0, the array at index 0 has size 4 and the array at index 1 has size 40",
     "output_type": "error",
     "traceback": [
      "\u001b[1;31m---------------------------------------------------------------------------\u001b[0m",
      "\u001b[1;31mValueError\u001b[0m                                Traceback (most recent call last)",
      "\u001b[1;32m~\\AppData\\Local\\Temp/ipykernel_13756/3970718755.py\u001b[0m in \u001b[0;36m<module>\u001b[1;34m\u001b[0m\n\u001b[0;32m      7\u001b[0m \u001b[1;31m# OLS with endogenous prices\u001b[0m\u001b[1;33m\u001b[0m\u001b[1;33m\u001b[0m\u001b[1;33m\u001b[0m\u001b[0m\n\u001b[0;32m      8\u001b[0m \u001b[0mP1\u001b[0m \u001b[1;33m=\u001b[0m \u001b[0mP\u001b[0m\u001b[1;33m.\u001b[0m\u001b[0mreshape\u001b[0m\u001b[1;33m(\u001b[0m\u001b[1;33m-\u001b[0m\u001b[1;36m1\u001b[0m\u001b[1;33m,\u001b[0m\u001b[1;36m1\u001b[0m\u001b[1;33m)\u001b[0m\u001b[1;33m\u001b[0m\u001b[1;33m\u001b[0m\u001b[0m\n\u001b[1;32m----> 9\u001b[1;33m \u001b[0mXX\u001b[0m \u001b[1;33m=\u001b[0m \u001b[0mnp\u001b[0m\u001b[1;33m.\u001b[0m\u001b[0mhstack\u001b[0m\u001b[1;33m(\u001b[0m\u001b[1;33m(\u001b[0m\u001b[0mP1\u001b[0m\u001b[1;33m,\u001b[0m \u001b[0mX\u001b[0m\u001b[1;33m.\u001b[0m\u001b[0mrepeat\u001b[0m\u001b[1;33m(\u001b[0m\u001b[0mT\u001b[0m\u001b[1;33m,\u001b[0m \u001b[0maxis\u001b[0m\u001b[1;33m=\u001b[0m\u001b[1;36m0\u001b[0m\u001b[1;33m)\u001b[0m\u001b[1;33m)\u001b[0m\u001b[1;33m)\u001b[0m\u001b[1;33m\u001b[0m\u001b[1;33m\u001b[0m\u001b[0m\n\u001b[0m\u001b[0;32m     10\u001b[0m \u001b[1;31m#XX = XX[:,0:2]\u001b[0m\u001b[1;33m\u001b[0m\u001b[1;33m\u001b[0m\u001b[1;33m\u001b[0m\u001b[0m\n\u001b[0;32m     11\u001b[0m \u001b[0mresultsp\u001b[0m\u001b[1;33m=\u001b[0m\u001b[0mOLS\u001b[0m\u001b[1;33m(\u001b[0m\u001b[0mindex\u001b[0m\u001b[1;33m,\u001b[0m\u001b[0mXX\u001b[0m\u001b[1;33m)\u001b[0m\u001b[1;33m.\u001b[0m\u001b[0mfit\u001b[0m\u001b[1;33m(\u001b[0m\u001b[1;33m)\u001b[0m\u001b[1;33m\u001b[0m\u001b[1;33m\u001b[0m\u001b[0m\n",
      "\u001b[1;32m<__array_function__ internals>\u001b[0m in \u001b[0;36mhstack\u001b[1;34m(*args, **kwargs)\u001b[0m\n",
      "\u001b[1;32m~\\Anaconda3\\lib\\site-packages\\numpy\\core\\shape_base.py\u001b[0m in \u001b[0;36mhstack\u001b[1;34m(tup)\u001b[0m\n\u001b[0;32m    344\u001b[0m         \u001b[1;32mreturn\u001b[0m \u001b[0m_nx\u001b[0m\u001b[1;33m.\u001b[0m\u001b[0mconcatenate\u001b[0m\u001b[1;33m(\u001b[0m\u001b[0marrs\u001b[0m\u001b[1;33m,\u001b[0m \u001b[1;36m0\u001b[0m\u001b[1;33m)\u001b[0m\u001b[1;33m\u001b[0m\u001b[1;33m\u001b[0m\u001b[0m\n\u001b[0;32m    345\u001b[0m     \u001b[1;32melse\u001b[0m\u001b[1;33m:\u001b[0m\u001b[1;33m\u001b[0m\u001b[1;33m\u001b[0m\u001b[0m\n\u001b[1;32m--> 346\u001b[1;33m         \u001b[1;32mreturn\u001b[0m \u001b[0m_nx\u001b[0m\u001b[1;33m.\u001b[0m\u001b[0mconcatenate\u001b[0m\u001b[1;33m(\u001b[0m\u001b[0marrs\u001b[0m\u001b[1;33m,\u001b[0m \u001b[1;36m1\u001b[0m\u001b[1;33m)\u001b[0m\u001b[1;33m\u001b[0m\u001b[1;33m\u001b[0m\u001b[0m\n\u001b[0m\u001b[0;32m    347\u001b[0m \u001b[1;33m\u001b[0m\u001b[0m\n\u001b[0;32m    348\u001b[0m \u001b[1;33m\u001b[0m\u001b[0m\n",
      "\u001b[1;32m<__array_function__ internals>\u001b[0m in \u001b[0;36mconcatenate\u001b[1;34m(*args, **kwargs)\u001b[0m\n",
      "\u001b[1;31mValueError\u001b[0m: all the input array dimensions for the concatenation axis must match exactly, but along dimension 0, the array at index 0 has size 4 and the array at index 1 has size 40"
     ]
    }
   ],
   "source": [
    "# OLS: \n",
    "# But I do not have the outside option in my data... I can construct it easily. \n",
    "S0=(1-np.sum(S,axis=0))\n",
    "\n",
    "index=np.log(S/S0).reshape(-1,1)\n",
    "\n",
    "# OLS with endogenous prices\n",
    "P1 = P.reshape(-1,1)\n",
    "XX = np.hstack((P1, X.repeat(T, axis=0)))\n",
    "#XX = XX[:,0:2]\n",
    "resultsp=OLS(index,XX).fit()\n",
    "resultsp.params\n",
    "\n",
    "# OLS with MC instead\n",
    "\n"
   ]
  },
  {
   "cell_type": "markdown",
   "id": "a0f6f715-6ce1-4a88-9a86-2683ed308566",
   "metadata": {},
   "source": [
    "#### Using 2-step IV: "
   ]
  },
  {
   "cell_type": "code",
   "execution_count": 10,
   "id": "448be06a-3b61-4e93-8a10-360b0e569751",
   "metadata": {},
   "outputs": [
    {
     "ename": "ValueError",
     "evalue": "endog and exog matrices are different sizes",
     "output_type": "error",
     "traceback": [
      "\u001b[1;31m---------------------------------------------------------------------------\u001b[0m",
      "\u001b[1;31mValueError\u001b[0m                                Traceback (most recent call last)",
      "\u001b[1;32m~\\AppData\\Local\\Temp/ipykernel_13756/702880816.py\u001b[0m in \u001b[0;36m<module>\u001b[1;34m\u001b[0m\n\u001b[0;32m     14\u001b[0m \u001b[1;33m\u001b[0m\u001b[0m\n\u001b[0;32m     15\u001b[0m \u001b[1;33m\u001b[0m\u001b[0m\n\u001b[1;32m---> 16\u001b[1;33m \u001b[0mresults1step\u001b[0m\u001b[1;33m=\u001b[0m\u001b[0mOLS\u001b[0m\u001b[1;33m(\u001b[0m\u001b[0mP1\u001b[0m\u001b[1;33m,\u001b[0m\u001b[0mZZ\u001b[0m\u001b[1;33m)\u001b[0m\u001b[1;33m.\u001b[0m\u001b[0mfit\u001b[0m\u001b[1;33m(\u001b[0m\u001b[1;33m)\u001b[0m\u001b[1;33m\u001b[0m\u001b[1;33m\u001b[0m\u001b[0m\n\u001b[0m\u001b[0;32m     17\u001b[0m \u001b[0mresults1step\u001b[0m\u001b[1;33m.\u001b[0m\u001b[0mparams\u001b[0m\u001b[1;33m\u001b[0m\u001b[1;33m\u001b[0m\u001b[0m\n\u001b[0;32m     18\u001b[0m \u001b[1;33m\u001b[0m\u001b[0m\n",
      "\u001b[1;32m~\\Anaconda3\\lib\\site-packages\\statsmodels\\regression\\linear_model.py\u001b[0m in \u001b[0;36m__init__\u001b[1;34m(self, endog, exog, missing, hasconst, **kwargs)\u001b[0m\n\u001b[0;32m    870\u001b[0m     def __init__(self, endog, exog=None, missing='none', hasconst=None,\n\u001b[0;32m    871\u001b[0m                  **kwargs):\n\u001b[1;32m--> 872\u001b[1;33m         super(OLS, self).__init__(endog, exog, missing=missing,\n\u001b[0m\u001b[0;32m    873\u001b[0m                                   hasconst=hasconst, **kwargs)\n\u001b[0;32m    874\u001b[0m         \u001b[1;32mif\u001b[0m \u001b[1;34m\"weights\"\u001b[0m \u001b[1;32min\u001b[0m \u001b[0mself\u001b[0m\u001b[1;33m.\u001b[0m\u001b[0m_init_keys\u001b[0m\u001b[1;33m:\u001b[0m\u001b[1;33m\u001b[0m\u001b[1;33m\u001b[0m\u001b[0m\n",
      "\u001b[1;32m~\\Anaconda3\\lib\\site-packages\\statsmodels\\regression\\linear_model.py\u001b[0m in \u001b[0;36m__init__\u001b[1;34m(self, endog, exog, weights, missing, hasconst, **kwargs)\u001b[0m\n\u001b[0;32m    701\u001b[0m         \u001b[1;32melse\u001b[0m\u001b[1;33m:\u001b[0m\u001b[1;33m\u001b[0m\u001b[1;33m\u001b[0m\u001b[0m\n\u001b[0;32m    702\u001b[0m             \u001b[0mweights\u001b[0m \u001b[1;33m=\u001b[0m \u001b[0mweights\u001b[0m\u001b[1;33m.\u001b[0m\u001b[0msqueeze\u001b[0m\u001b[1;33m(\u001b[0m\u001b[1;33m)\u001b[0m\u001b[1;33m\u001b[0m\u001b[1;33m\u001b[0m\u001b[0m\n\u001b[1;32m--> 703\u001b[1;33m         super(WLS, self).__init__(endog, exog, missing=missing,\n\u001b[0m\u001b[0;32m    704\u001b[0m                                   weights=weights, hasconst=hasconst, **kwargs)\n\u001b[0;32m    705\u001b[0m         \u001b[0mnobs\u001b[0m \u001b[1;33m=\u001b[0m \u001b[0mself\u001b[0m\u001b[1;33m.\u001b[0m\u001b[0mexog\u001b[0m\u001b[1;33m.\u001b[0m\u001b[0mshape\u001b[0m\u001b[1;33m[\u001b[0m\u001b[1;36m0\u001b[0m\u001b[1;33m]\u001b[0m\u001b[1;33m\u001b[0m\u001b[1;33m\u001b[0m\u001b[0m\n",
      "\u001b[1;32m~\\Anaconda3\\lib\\site-packages\\statsmodels\\regression\\linear_model.py\u001b[0m in \u001b[0;36m__init__\u001b[1;34m(self, endog, exog, **kwargs)\u001b[0m\n\u001b[0;32m    188\u001b[0m     \"\"\"\n\u001b[0;32m    189\u001b[0m     \u001b[1;32mdef\u001b[0m \u001b[0m__init__\u001b[0m\u001b[1;33m(\u001b[0m\u001b[0mself\u001b[0m\u001b[1;33m,\u001b[0m \u001b[0mendog\u001b[0m\u001b[1;33m,\u001b[0m \u001b[0mexog\u001b[0m\u001b[1;33m,\u001b[0m \u001b[1;33m**\u001b[0m\u001b[0mkwargs\u001b[0m\u001b[1;33m)\u001b[0m\u001b[1;33m:\u001b[0m\u001b[1;33m\u001b[0m\u001b[1;33m\u001b[0m\u001b[0m\n\u001b[1;32m--> 190\u001b[1;33m         \u001b[0msuper\u001b[0m\u001b[1;33m(\u001b[0m\u001b[0mRegressionModel\u001b[0m\u001b[1;33m,\u001b[0m \u001b[0mself\u001b[0m\u001b[1;33m)\u001b[0m\u001b[1;33m.\u001b[0m\u001b[0m__init__\u001b[0m\u001b[1;33m(\u001b[0m\u001b[0mendog\u001b[0m\u001b[1;33m,\u001b[0m \u001b[0mexog\u001b[0m\u001b[1;33m,\u001b[0m \u001b[1;33m**\u001b[0m\u001b[0mkwargs\u001b[0m\u001b[1;33m)\u001b[0m\u001b[1;33m\u001b[0m\u001b[1;33m\u001b[0m\u001b[0m\n\u001b[0m\u001b[0;32m    191\u001b[0m         \u001b[0mself\u001b[0m\u001b[1;33m.\u001b[0m\u001b[0m_data_attr\u001b[0m\u001b[1;33m.\u001b[0m\u001b[0mextend\u001b[0m\u001b[1;33m(\u001b[0m\u001b[1;33m[\u001b[0m\u001b[1;34m'pinv_wexog'\u001b[0m\u001b[1;33m,\u001b[0m \u001b[1;34m'weights'\u001b[0m\u001b[1;33m]\u001b[0m\u001b[1;33m)\u001b[0m\u001b[1;33m\u001b[0m\u001b[1;33m\u001b[0m\u001b[0m\n\u001b[0;32m    192\u001b[0m \u001b[1;33m\u001b[0m\u001b[0m\n",
      "\u001b[1;32m~\\Anaconda3\\lib\\site-packages\\statsmodels\\base\\model.py\u001b[0m in \u001b[0;36m__init__\u001b[1;34m(self, endog, exog, **kwargs)\u001b[0m\n\u001b[0;32m    235\u001b[0m \u001b[1;33m\u001b[0m\u001b[0m\n\u001b[0;32m    236\u001b[0m     \u001b[1;32mdef\u001b[0m \u001b[0m__init__\u001b[0m\u001b[1;33m(\u001b[0m\u001b[0mself\u001b[0m\u001b[1;33m,\u001b[0m \u001b[0mendog\u001b[0m\u001b[1;33m,\u001b[0m \u001b[0mexog\u001b[0m\u001b[1;33m=\u001b[0m\u001b[1;32mNone\u001b[0m\u001b[1;33m,\u001b[0m \u001b[1;33m**\u001b[0m\u001b[0mkwargs\u001b[0m\u001b[1;33m)\u001b[0m\u001b[1;33m:\u001b[0m\u001b[1;33m\u001b[0m\u001b[1;33m\u001b[0m\u001b[0m\n\u001b[1;32m--> 237\u001b[1;33m         \u001b[0msuper\u001b[0m\u001b[1;33m(\u001b[0m\u001b[0mLikelihoodModel\u001b[0m\u001b[1;33m,\u001b[0m \u001b[0mself\u001b[0m\u001b[1;33m)\u001b[0m\u001b[1;33m.\u001b[0m\u001b[0m__init__\u001b[0m\u001b[1;33m(\u001b[0m\u001b[0mendog\u001b[0m\u001b[1;33m,\u001b[0m \u001b[0mexog\u001b[0m\u001b[1;33m,\u001b[0m \u001b[1;33m**\u001b[0m\u001b[0mkwargs\u001b[0m\u001b[1;33m)\u001b[0m\u001b[1;33m\u001b[0m\u001b[1;33m\u001b[0m\u001b[0m\n\u001b[0m\u001b[0;32m    238\u001b[0m         \u001b[0mself\u001b[0m\u001b[1;33m.\u001b[0m\u001b[0minitialize\u001b[0m\u001b[1;33m(\u001b[0m\u001b[1;33m)\u001b[0m\u001b[1;33m\u001b[0m\u001b[1;33m\u001b[0m\u001b[0m\n\u001b[0;32m    239\u001b[0m \u001b[1;33m\u001b[0m\u001b[0m\n",
      "\u001b[1;32m~\\Anaconda3\\lib\\site-packages\\statsmodels\\base\\model.py\u001b[0m in \u001b[0;36m__init__\u001b[1;34m(self, endog, exog, **kwargs)\u001b[0m\n\u001b[0;32m     75\u001b[0m         \u001b[0mmissing\u001b[0m \u001b[1;33m=\u001b[0m \u001b[0mkwargs\u001b[0m\u001b[1;33m.\u001b[0m\u001b[0mpop\u001b[0m\u001b[1;33m(\u001b[0m\u001b[1;34m'missing'\u001b[0m\u001b[1;33m,\u001b[0m \u001b[1;34m'none'\u001b[0m\u001b[1;33m)\u001b[0m\u001b[1;33m\u001b[0m\u001b[1;33m\u001b[0m\u001b[0m\n\u001b[0;32m     76\u001b[0m         \u001b[0mhasconst\u001b[0m \u001b[1;33m=\u001b[0m \u001b[0mkwargs\u001b[0m\u001b[1;33m.\u001b[0m\u001b[0mpop\u001b[0m\u001b[1;33m(\u001b[0m\u001b[1;34m'hasconst'\u001b[0m\u001b[1;33m,\u001b[0m \u001b[1;32mNone\u001b[0m\u001b[1;33m)\u001b[0m\u001b[1;33m\u001b[0m\u001b[1;33m\u001b[0m\u001b[0m\n\u001b[1;32m---> 77\u001b[1;33m         self.data = self._handle_data(endog, exog, missing, hasconst,\n\u001b[0m\u001b[0;32m     78\u001b[0m                                       **kwargs)\n\u001b[0;32m     79\u001b[0m         \u001b[0mself\u001b[0m\u001b[1;33m.\u001b[0m\u001b[0mk_constant\u001b[0m \u001b[1;33m=\u001b[0m \u001b[0mself\u001b[0m\u001b[1;33m.\u001b[0m\u001b[0mdata\u001b[0m\u001b[1;33m.\u001b[0m\u001b[0mk_constant\u001b[0m\u001b[1;33m\u001b[0m\u001b[1;33m\u001b[0m\u001b[0m\n",
      "\u001b[1;32m~\\Anaconda3\\lib\\site-packages\\statsmodels\\base\\model.py\u001b[0m in \u001b[0;36m_handle_data\u001b[1;34m(self, endog, exog, missing, hasconst, **kwargs)\u001b[0m\n\u001b[0;32m     99\u001b[0m \u001b[1;33m\u001b[0m\u001b[0m\n\u001b[0;32m    100\u001b[0m     \u001b[1;32mdef\u001b[0m \u001b[0m_handle_data\u001b[0m\u001b[1;33m(\u001b[0m\u001b[0mself\u001b[0m\u001b[1;33m,\u001b[0m \u001b[0mendog\u001b[0m\u001b[1;33m,\u001b[0m \u001b[0mexog\u001b[0m\u001b[1;33m,\u001b[0m \u001b[0mmissing\u001b[0m\u001b[1;33m,\u001b[0m \u001b[0mhasconst\u001b[0m\u001b[1;33m,\u001b[0m \u001b[1;33m**\u001b[0m\u001b[0mkwargs\u001b[0m\u001b[1;33m)\u001b[0m\u001b[1;33m:\u001b[0m\u001b[1;33m\u001b[0m\u001b[1;33m\u001b[0m\u001b[0m\n\u001b[1;32m--> 101\u001b[1;33m         \u001b[0mdata\u001b[0m \u001b[1;33m=\u001b[0m \u001b[0mhandle_data\u001b[0m\u001b[1;33m(\u001b[0m\u001b[0mendog\u001b[0m\u001b[1;33m,\u001b[0m \u001b[0mexog\u001b[0m\u001b[1;33m,\u001b[0m \u001b[0mmissing\u001b[0m\u001b[1;33m,\u001b[0m \u001b[0mhasconst\u001b[0m\u001b[1;33m,\u001b[0m \u001b[1;33m**\u001b[0m\u001b[0mkwargs\u001b[0m\u001b[1;33m)\u001b[0m\u001b[1;33m\u001b[0m\u001b[1;33m\u001b[0m\u001b[0m\n\u001b[0m\u001b[0;32m    102\u001b[0m         \u001b[1;31m# kwargs arrays could have changed, easier to just attach here\u001b[0m\u001b[1;33m\u001b[0m\u001b[1;33m\u001b[0m\u001b[1;33m\u001b[0m\u001b[0m\n\u001b[0;32m    103\u001b[0m         \u001b[1;32mfor\u001b[0m \u001b[0mkey\u001b[0m \u001b[1;32min\u001b[0m \u001b[0mkwargs\u001b[0m\u001b[1;33m:\u001b[0m\u001b[1;33m\u001b[0m\u001b[1;33m\u001b[0m\u001b[0m\n",
      "\u001b[1;32m~\\Anaconda3\\lib\\site-packages\\statsmodels\\base\\data.py\u001b[0m in \u001b[0;36mhandle_data\u001b[1;34m(endog, exog, missing, hasconst, **kwargs)\u001b[0m\n\u001b[0;32m    670\u001b[0m \u001b[1;33m\u001b[0m\u001b[0m\n\u001b[0;32m    671\u001b[0m     \u001b[0mklass\u001b[0m \u001b[1;33m=\u001b[0m \u001b[0mhandle_data_class_factory\u001b[0m\u001b[1;33m(\u001b[0m\u001b[0mendog\u001b[0m\u001b[1;33m,\u001b[0m \u001b[0mexog\u001b[0m\u001b[1;33m)\u001b[0m\u001b[1;33m\u001b[0m\u001b[1;33m\u001b[0m\u001b[0m\n\u001b[1;32m--> 672\u001b[1;33m     return klass(endog, exog=exog, missing=missing, hasconst=hasconst,\n\u001b[0m\u001b[0;32m    673\u001b[0m                  **kwargs)\n",
      "\u001b[1;32m~\\Anaconda3\\lib\\site-packages\\statsmodels\\base\\data.py\u001b[0m in \u001b[0;36m__init__\u001b[1;34m(self, endog, exog, missing, hasconst, **kwargs)\u001b[0m\n\u001b[0;32m     86\u001b[0m         \u001b[0mself\u001b[0m\u001b[1;33m.\u001b[0m\u001b[0mk_constant\u001b[0m \u001b[1;33m=\u001b[0m \u001b[1;36m0\u001b[0m\u001b[1;33m\u001b[0m\u001b[1;33m\u001b[0m\u001b[0m\n\u001b[0;32m     87\u001b[0m         \u001b[0mself\u001b[0m\u001b[1;33m.\u001b[0m\u001b[0m_handle_constant\u001b[0m\u001b[1;33m(\u001b[0m\u001b[0mhasconst\u001b[0m\u001b[1;33m)\u001b[0m\u001b[1;33m\u001b[0m\u001b[1;33m\u001b[0m\u001b[0m\n\u001b[1;32m---> 88\u001b[1;33m         \u001b[0mself\u001b[0m\u001b[1;33m.\u001b[0m\u001b[0m_check_integrity\u001b[0m\u001b[1;33m(\u001b[0m\u001b[1;33m)\u001b[0m\u001b[1;33m\u001b[0m\u001b[1;33m\u001b[0m\u001b[0m\n\u001b[0m\u001b[0;32m     89\u001b[0m         \u001b[0mself\u001b[0m\u001b[1;33m.\u001b[0m\u001b[0m_cache\u001b[0m \u001b[1;33m=\u001b[0m \u001b[1;33m{\u001b[0m\u001b[1;33m}\u001b[0m\u001b[1;33m\u001b[0m\u001b[1;33m\u001b[0m\u001b[0m\n\u001b[0;32m     90\u001b[0m \u001b[1;33m\u001b[0m\u001b[0m\n",
      "\u001b[1;32m~\\Anaconda3\\lib\\site-packages\\statsmodels\\base\\data.py\u001b[0m in \u001b[0;36m_check_integrity\u001b[1;34m(self)\u001b[0m\n\u001b[0;32m    433\u001b[0m         \u001b[1;32mif\u001b[0m \u001b[0mself\u001b[0m\u001b[1;33m.\u001b[0m\u001b[0mexog\u001b[0m \u001b[1;32mis\u001b[0m \u001b[1;32mnot\u001b[0m \u001b[1;32mNone\u001b[0m\u001b[1;33m:\u001b[0m\u001b[1;33m\u001b[0m\u001b[1;33m\u001b[0m\u001b[0m\n\u001b[0;32m    434\u001b[0m             \u001b[1;32mif\u001b[0m \u001b[0mlen\u001b[0m\u001b[1;33m(\u001b[0m\u001b[0mself\u001b[0m\u001b[1;33m.\u001b[0m\u001b[0mexog\u001b[0m\u001b[1;33m)\u001b[0m \u001b[1;33m!=\u001b[0m \u001b[0mlen\u001b[0m\u001b[1;33m(\u001b[0m\u001b[0mself\u001b[0m\u001b[1;33m.\u001b[0m\u001b[0mendog\u001b[0m\u001b[1;33m)\u001b[0m\u001b[1;33m:\u001b[0m\u001b[1;33m\u001b[0m\u001b[1;33m\u001b[0m\u001b[0m\n\u001b[1;32m--> 435\u001b[1;33m                 \u001b[1;32mraise\u001b[0m \u001b[0mValueError\u001b[0m\u001b[1;33m(\u001b[0m\u001b[1;34m\"endog and exog matrices are different sizes\"\u001b[0m\u001b[1;33m)\u001b[0m\u001b[1;33m\u001b[0m\u001b[1;33m\u001b[0m\u001b[0m\n\u001b[0m\u001b[0;32m    436\u001b[0m \u001b[1;33m\u001b[0m\u001b[0m\n\u001b[0;32m    437\u001b[0m     \u001b[1;32mdef\u001b[0m \u001b[0mwrap_output\u001b[0m\u001b[1;33m(\u001b[0m\u001b[0mself\u001b[0m\u001b[1;33m,\u001b[0m \u001b[0mobj\u001b[0m\u001b[1;33m,\u001b[0m \u001b[0mhow\u001b[0m\u001b[1;33m=\u001b[0m\u001b[1;34m'columns'\u001b[0m\u001b[1;33m,\u001b[0m \u001b[0mnames\u001b[0m\u001b[1;33m=\u001b[0m\u001b[1;32mNone\u001b[0m\u001b[1;33m)\u001b[0m\u001b[1;33m:\u001b[0m\u001b[1;33m\u001b[0m\u001b[1;33m\u001b[0m\u001b[0m\n",
      "\u001b[1;31mValueError\u001b[0m: endog and exog matrices are different sizes"
     ]
    }
   ],
   "source": [
    "check = np.array(np.arange(j*f))\n",
    "Z = []\n",
    "for firm, js in prod.items():\n",
    "    not_f_prods=[j for j in check if j not in js ]\n",
    "    \n",
    "    Z_i = X[not_f_prods,:].mean(axis=0)\n",
    "    \n",
    "    Z.append(Z_i)\n",
    "    \n",
    "Z = np.array(Z) \n",
    "\n",
    "ZZ = Z.repeat(T, axis=0)\n",
    "Piv1 = P.reshape(-1)\n",
    "\n",
    "\n",
    "results1step=OLS(P1,ZZ).fit()\n",
    "results1step.params\n",
    "\n",
    "EP = (ZZ @ results1step.params).reshape(-1,1)\n",
    "\n",
    "# Step 2 IV: \n",
    "ZX = np.hstack((EP, X.repeat(T, axis=0)))\n",
    "#XX = XX[:,0:2]\n",
    "resultsIV=OLS(index,ZX).fit()\n",
    "resultsIV.params\n",
    "\n"
   ]
  },
  {
   "cell_type": "markdown",
   "id": "6ac0eada-e5ab-497f-9a10-b2a2dbf78702",
   "metadata": {},
   "source": [
    "### Doing a simulation study: "
   ]
  },
  {
   "cell_type": "code",
   "execution_count": 9,
   "id": "8a66c8e4-37f2-4448-85b1-fc9e3cee729c",
   "metadata": {},
   "outputs": [],
   "source": [
    "def sim_study(Q,cov, Type = \"OLS\", Consts = False):\n",
    "    \"\"\"\n",
    "    Type - options \"OLS\", \"IV\"\n",
    "    \"\"\"\n",
    "\n",
    "    # No. of Firms, products and traits: \n",
    "    f=2 # Firms\n",
    "    j=2 # Products\n",
    "    k=3 # Traits (of each product) \n",
    "    \n",
    "    # True Parameters \n",
    "    alpha = -5                      # Price sensitivity\n",
    "    beta= np.array([2,2,4])         # Preference for traits \n",
    "    theta = np.append(alpha,beta)   \n",
    "    gamma = np.array([1,1,4])       # Production costs of traits \n",
    "\n",
    "    #cov = np.array([[1,0.5],[0.5,1]])\n",
    "    T = 50\n",
    "\n",
    "    if Type == \"OLS\":\n",
    "        if Consts == True: \n",
    "            parameters = np.zeros((Q,1 + k*2 + f*j*2)) + np.nan\n",
    "        else:\n",
    "            parameters = np.zeros((Q,k + 1)) + np.nan\n",
    "\n",
    "    elif Type == \"IV\":\n",
    "        parameters = np.zeros((Q, k+1))\n",
    "\n",
    "    for q in tqdm(range(Q)): \n",
    "        try:\n",
    "            \n",
    "            data = DE.endog_data()\n",
    "            X, prod=data.simulate_product_traits(f,j,k, which_type = \"Differentiated\")\n",
    "            H = data.hadamard(f*j,prod)\n",
    "            X = X.reshape(j*f, -1)\n",
    "\n",
    "            # Simulate data \n",
    "            S = np.array(0) \n",
    "            while S.min() == 0.0:\n",
    "                P, S = data.sim_data_T(X, f, j, T, theta, gamma, cov, prod, H, disable = True)\n",
    "            S.min()\n",
    "\n",
    "            S0=(1-np.sum(S,axis=0))\n",
    "\n",
    "            index=np.log(S/S0).reshape(-1,1)\n",
    "\n",
    "            #Estimation: \n",
    "            if Type == \"OLS\": \n",
    "\n",
    "                # OLS with endogenous prices\n",
    "                P1 = P.reshape(-1,1)\n",
    "\n",
    "                if Consts == True: \n",
    "                    j_const = np.identity(f*j).repeat(T, axis=0)\n",
    "                    XX = np.hstack((P1, X.repeat(T, axis=0),j_const))\n",
    "                else: \n",
    "                    XX = np.hstack((P1, X.repeat(T, axis=0)))\n",
    "\n",
    "                resultsp=OLS(index,XX).fit()\n",
    "                results = resultsp.params\n",
    "            \n",
    "                parameters[q,:] = results\n",
    "            \n",
    "            elif Type == \"IV\":\n",
    "                parameters[q,:] = data.blp_regression(index, P, X, prod, [f,j,T])\n",
    "                \n",
    "        except np.linalg.LinAlgError: \n",
    "            break\n",
    "    return parameters\n",
    "\n",
    "\n",
    "\n",
    "\n",
    "    "
   ]
  },
  {
   "cell_type": "code",
   "execution_count": 10,
   "id": "c1b52927",
   "metadata": {},
   "outputs": [],
   "source": [
    "#DE.first_step_IV(y,[j,T])\n",
    "\n",
    "# No. of Firms, products and traits: \n",
    "f=2 # Firms\n",
    "j=2 # Products\n",
    "k=3 # Traits (of each product) \n",
    "    \n",
    "# True Parameters \n",
    "alpha = -5                      # Price sensitivity\n",
    "beta= np.array([2,2,4])         # Preference for traits \n",
    "theta = np.append(alpha,beta)   \n",
    "gamma = np.array([1,1,4])       # Production costs of traits \n",
    "\n",
    "cov = np.array([[1,0.5],[0.5,1]])\n",
    "T = 50\n",
    "\n",
    "\n",
    "data = DE.endog_data()\n",
    "\n",
    "X, prod=data.simulate_product_traits(f,j,k, which_type = \"Differentiated\")\n",
    "H = data.hadamard(f*j,prod)\n",
    "X = X.reshape(j*f, -1)\n",
    "\n",
    "P, S = data.sim_data_T(X, f, j, T, theta, gamma, cov, prod, H, disable = True)\n",
    "\n",
    "S0=(1-np.sum(S,axis=0))\n",
    "\n",
    "y=np.log(S/S0).reshape(-1,1)\n",
    "\n",
    "\n",
    "params, _ = data.first_step_IV(y,[f,j,T])\n",
    "\n",
    "\n",
    "\n",
    "\n"
   ]
  },
  {
   "cell_type": "markdown",
   "id": "adeea2d7",
   "metadata": {},
   "source": [
    "### BLP-approach in a simple logit model"
   ]
  },
  {
   "cell_type": "code",
   "execution_count": 11,
   "id": "5d7765c6",
   "metadata": {},
   "outputs": [
    {
     "name": "stdout",
     "output_type": "stream",
     "text": [
      "(200, 6)\n"
     ]
    },
    {
     "data": {
      "text/plain": [
       "array([-3.53872953,  1.62009731,  0.40206723, -2.99016996])"
      ]
     },
     "execution_count": 11,
     "metadata": {},
     "output_type": "execute_result"
    }
   ],
   "source": [
    "y_const, _=data.first_step_IV(y,[f,j,T])\n",
    "\n",
    "ZS = data.blp_instruments(X,prod, [f,j,T])\n",
    "\n",
    "step2=OLS(P.reshape(-1,1), ZS).fit()\n",
    "preds=ZS @step2.params \n",
    "\n",
    "step3vars = np.hstack((preds.reshape(-1,1), X.repeat(T, axis=0)))\n",
    "\n",
    "OLS(y_const, step3vars).fit().params\n"
   ]
  },
  {
   "cell_type": "markdown",
   "id": "d5ad6aa3",
   "metadata": {},
   "source": [
    "\n",
    "#### BLP approach. Do the following regression:\n",
    "$\\delta_{jm} =\\beta V(X, p_{jm} ) + \\psi_{jm}$ \n",
    "\n",
    "This regression is intractable so instead estimate by IV. "
   ]
  },
  {
   "cell_type": "code",
   "execution_count": 12,
   "id": "d17168c1-e37c-42a0-ac69-2be08db15f68",
   "metadata": {},
   "outputs": [
    {
     "data": {
      "application/vnd.jupyter.widget-view+json": {
       "model_id": "8b6633421f1b4d909425cf79f7383cc6",
       "version_major": 2,
       "version_minor": 0
      },
      "text/plain": [
       "  0%|          | 0/10 [00:00<?, ?it/s]"
      ]
     },
     "metadata": {},
     "output_type": "display_data"
    },
    {
     "name": "stdout",
     "output_type": "stream",
     "text": [
      "P is smaller than 0, drawing new starting values\r"
     ]
    },
    {
     "data": {
      "application/vnd.jupyter.widget-view+json": {
       "model_id": "f82614394861475b832efda20251db32",
       "version_major": 2,
       "version_minor": 0
      },
      "text/plain": [
       "  0%|          | 0/10 [00:00<?, ?it/s]"
      ]
     },
     "metadata": {},
     "output_type": "display_data"
    },
    {
     "name": "stdout",
     "output_type": "stream",
     "text": [
      "(200, 6)ller than 0, drawing new starting values\n"
     ]
    },
    {
     "ename": "NameError",
     "evalue": "name 'P' is not defined",
     "output_type": "error",
     "traceback": [
      "\u001b[1;31m---------------------------------------------------------------------------\u001b[0m",
      "\u001b[1;31mNameError\u001b[0m                                 Traceback (most recent call last)",
      "\u001b[1;32m~\\AppData\\Local\\Temp/ipykernel_4336/2685996132.py\u001b[0m in \u001b[0;36m<module>\u001b[1;34m\u001b[0m\n\u001b[0;32m      2\u001b[0m \u001b[0mcov\u001b[0m \u001b[1;33m=\u001b[0m \u001b[0mnp\u001b[0m\u001b[1;33m.\u001b[0m\u001b[0marray\u001b[0m\u001b[1;33m(\u001b[0m\u001b[1;33m[\u001b[0m\u001b[1;33m[\u001b[0m\u001b[1;36m1\u001b[0m\u001b[1;33m,\u001b[0m\u001b[1;36m0.8\u001b[0m\u001b[1;33m]\u001b[0m\u001b[1;33m,\u001b[0m\u001b[1;33m[\u001b[0m\u001b[1;36m0.8\u001b[0m\u001b[1;33m,\u001b[0m\u001b[1;36m1\u001b[0m\u001b[1;33m]\u001b[0m\u001b[1;33m]\u001b[0m\u001b[1;33m)\u001b[0m\u001b[1;33m\u001b[0m\u001b[1;33m\u001b[0m\u001b[0m\n\u001b[0;32m      3\u001b[0m \u001b[0mcorr\u001b[0m\u001b[1;33m=\u001b[0m\u001b[0msim_study\u001b[0m\u001b[1;33m(\u001b[0m\u001b[0mP\u001b[0m\u001b[1;33m,\u001b[0m\u001b[0mcov\u001b[0m\u001b[1;33m,\u001b[0m \u001b[0mType\u001b[0m \u001b[1;33m=\u001b[0m \u001b[1;34m\"OLS\"\u001b[0m\u001b[1;33m,\u001b[0m \u001b[0mConsts\u001b[0m \u001b[1;33m=\u001b[0m \u001b[1;32mFalse\u001b[0m\u001b[1;33m)\u001b[0m\u001b[1;33m\u001b[0m\u001b[1;33m\u001b[0m\u001b[0m\n\u001b[1;32m----> 4\u001b[1;33m \u001b[0mcorr_IV\u001b[0m \u001b[1;33m=\u001b[0m \u001b[0msim_study\u001b[0m\u001b[1;33m(\u001b[0m\u001b[0mP\u001b[0m\u001b[1;33m,\u001b[0m \u001b[0mcov\u001b[0m\u001b[1;33m,\u001b[0m \u001b[0mType\u001b[0m \u001b[1;33m=\u001b[0m \u001b[1;34m\"IV\"\u001b[0m\u001b[1;33m)\u001b[0m\u001b[1;33m\u001b[0m\u001b[1;33m\u001b[0m\u001b[0m\n\u001b[0m",
      "\u001b[1;32m~\\AppData\\Local\\Temp/ipykernel_4336/1052788858.py\u001b[0m in \u001b[0;36msim_study\u001b[1;34m(Q, cov, Type, Consts)\u001b[0m\n\u001b[0;32m     63\u001b[0m \u001b[1;33m\u001b[0m\u001b[0m\n\u001b[0;32m     64\u001b[0m             \u001b[1;32melif\u001b[0m \u001b[0mType\u001b[0m \u001b[1;33m==\u001b[0m \u001b[1;34m\"IV\"\u001b[0m\u001b[1;33m:\u001b[0m\u001b[1;33m\u001b[0m\u001b[1;33m\u001b[0m\u001b[0m\n\u001b[1;32m---> 65\u001b[1;33m                 \u001b[0mparameters\u001b[0m\u001b[1;33m[\u001b[0m\u001b[0mq\u001b[0m\u001b[1;33m,\u001b[0m\u001b[1;33m:\u001b[0m\u001b[1;33m]\u001b[0m \u001b[1;33m=\u001b[0m \u001b[0mdata\u001b[0m\u001b[1;33m.\u001b[0m\u001b[0mblp_regression\u001b[0m\u001b[1;33m(\u001b[0m\u001b[0mindex\u001b[0m\u001b[1;33m,\u001b[0m \u001b[0mX\u001b[0m\u001b[1;33m,\u001b[0m \u001b[0mprod\u001b[0m\u001b[1;33m,\u001b[0m \u001b[1;33m[\u001b[0m\u001b[0mf\u001b[0m\u001b[1;33m,\u001b[0m\u001b[0mj\u001b[0m\u001b[1;33m,\u001b[0m\u001b[0mT\u001b[0m\u001b[1;33m]\u001b[0m\u001b[1;33m)\u001b[0m\u001b[1;33m\u001b[0m\u001b[1;33m\u001b[0m\u001b[0m\n\u001b[0m\u001b[0;32m     66\u001b[0m \u001b[1;33m\u001b[0m\u001b[0m\n\u001b[0;32m     67\u001b[0m         \u001b[1;32mexcept\u001b[0m \u001b[0mnp\u001b[0m\u001b[1;33m.\u001b[0m\u001b[0mlinalg\u001b[0m\u001b[1;33m.\u001b[0m\u001b[0mLinAlgError\u001b[0m\u001b[1;33m:\u001b[0m\u001b[1;33m\u001b[0m\u001b[1;33m\u001b[0m\u001b[0m\n",
      "\u001b[1;32mc:\\Users\\glh287\\Demand estimation\\DemandEstimation_v2.py\u001b[0m in \u001b[0;36mblp_regression\u001b[1;34m(self, y, X, product_map, dims)\u001b[0m\n\u001b[0;32m    282\u001b[0m \u001b[1;33m\u001b[0m\u001b[0m\n\u001b[0;32m    283\u001b[0m         \u001b[1;31m# Using instruments to get E[P] of prices\u001b[0m\u001b[1;33m\u001b[0m\u001b[1;33m\u001b[0m\u001b[1;33m\u001b[0m\u001b[0m\n\u001b[1;32m--> 284\u001b[1;33m         \u001b[0mstep2\u001b[0m\u001b[1;33m=\u001b[0m\u001b[0mOLS\u001b[0m\u001b[1;33m(\u001b[0m\u001b[0mP\u001b[0m\u001b[1;33m.\u001b[0m\u001b[0mreshape\u001b[0m\u001b[1;33m(\u001b[0m\u001b[1;33m-\u001b[0m\u001b[1;36m1\u001b[0m\u001b[1;33m,\u001b[0m\u001b[1;36m1\u001b[0m\u001b[1;33m)\u001b[0m\u001b[1;33m,\u001b[0m \u001b[0mZS\u001b[0m\u001b[1;33m)\u001b[0m\u001b[1;33m.\u001b[0m\u001b[0mfit\u001b[0m\u001b[1;33m(\u001b[0m\u001b[1;33m)\u001b[0m\u001b[1;33m\u001b[0m\u001b[1;33m\u001b[0m\u001b[0m\n\u001b[0m\u001b[0;32m    285\u001b[0m         \u001b[0mpreds\u001b[0m\u001b[1;33m=\u001b[0m\u001b[0mZS\u001b[0m \u001b[1;33m@\u001b[0m\u001b[0mstep2\u001b[0m\u001b[1;33m.\u001b[0m\u001b[0mparams\u001b[0m\u001b[1;33m\u001b[0m\u001b[1;33m\u001b[0m\u001b[0m\n\u001b[0;32m    286\u001b[0m \u001b[1;33m\u001b[0m\u001b[0m\n",
      "\u001b[1;31mNameError\u001b[0m: name 'P' is not defined"
     ]
    }
   ],
   "source": [
    "\n",
    "P=10\n",
    "cov = np.array([[1,0.8],[0.8,1]])\n",
    "corr=sim_study(P,cov, Type = \"OLS\", Consts = False)\n",
    "corr_IV = sim_study(P, cov, Type = \"IV\")\n"
   ]
  },
  {
   "cell_type": "code",
   "execution_count": null,
   "id": "671e5bae-9d0d-4b63-b81a-0ffde931d7de",
   "metadata": {},
   "outputs": [
    {
     "data": {
      "application/vnd.jupyter.widget-view+json": {
       "model_id": "e230c235ae87451eb0cd60e74e98233a",
       "version_major": 2,
       "version_minor": 0
      },
      "text/plain": [
       "  0%|          | 0/300 [00:00<?, ?it/s]"
      ]
     },
     "metadata": {},
     "output_type": "display_data"
    },
    {
     "name": "stdout",
     "output_type": "stream",
     "text": [
      "P is smaller than 0, drawing new starting values\r"
     ]
    },
    {
     "data": {
      "application/vnd.jupyter.widget-view+json": {
       "model_id": "68d2d724f100477cba40bb618c42f0bb",
       "version_major": 2,
       "version_minor": 0
      },
      "text/plain": [
       "  0%|          | 0/300 [00:00<?, ?it/s]"
      ]
     },
     "metadata": {},
     "output_type": "display_data"
    },
    {
     "name": "stdout",
     "output_type": "stream",
     "text": [
      "P is smaller than 0, drawing new starting values\r"
     ]
    }
   ],
   "source": [
    "\n",
    "cov = np.array([[1,0.0],[0.0,1]])\n",
    "wo_corr = sim_study(P,cov, Type = \"OLS\", Consts = False)\n",
    "wo_corr_IV = sim_study(P,cov, Type = \"IV\")\n"
   ]
  },
  {
   "cell_type": "code",
   "execution_count": null,
   "id": "ef3912f6",
   "metadata": {},
   "outputs": [],
   "source": [
    "wo_corr_pd = pd.DataFrame(wo_corr)\n",
    "wo_corr_pd_IV = pd.DataFrame(wo_corr_IV)\n",
    "corr_pd = pd.DataFrame(corr)\n",
    "corr_pd_IV = pd.DataFrame(corr_IV)\n"
   ]
  },
  {
   "cell_type": "code",
   "execution_count": null,
   "id": "4241fec9",
   "metadata": {},
   "outputs": [
    {
     "data": {
      "text/html": [
       "<div>\n",
       "<style scoped>\n",
       "    .dataframe tbody tr th:only-of-type {\n",
       "        vertical-align: middle;\n",
       "    }\n",
       "\n",
       "    .dataframe tbody tr th {\n",
       "        vertical-align: top;\n",
       "    }\n",
       "\n",
       "    .dataframe thead th {\n",
       "        text-align: right;\n",
       "    }\n",
       "</style>\n",
       "<table border=\"1\" class=\"dataframe\">\n",
       "  <thead>\n",
       "    <tr style=\"text-align: right;\">\n",
       "      <th></th>\n",
       "      <th>0</th>\n",
       "      <th>1</th>\n",
       "      <th>2</th>\n",
       "      <th>3</th>\n",
       "    </tr>\n",
       "  </thead>\n",
       "  <tbody>\n",
       "    <tr>\n",
       "      <th>0</th>\n",
       "      <td>-5.007221</td>\n",
       "      <td>1.987306</td>\n",
       "      <td>2.079505</td>\n",
       "      <td>3.909356</td>\n",
       "    </tr>\n",
       "    <tr>\n",
       "      <th>1</th>\n",
       "      <td>-26.142018</td>\n",
       "      <td>69.461854</td>\n",
       "      <td>1.375415</td>\n",
       "      <td>89.817969</td>\n",
       "    </tr>\n",
       "    <tr>\n",
       "      <th>2</th>\n",
       "      <td>-4.523302</td>\n",
       "      <td>1.445777</td>\n",
       "      <td>1.390927</td>\n",
       "      <td>2.040298</td>\n",
       "    </tr>\n",
       "    <tr>\n",
       "      <th>3</th>\n",
       "      <td>-1.143408</td>\n",
       "      <td>4.636491</td>\n",
       "      <td>-10.330437</td>\n",
       "      <td>-10.931088</td>\n",
       "    </tr>\n",
       "  </tbody>\n",
       "</table>\n",
       "</div>"
      ],
      "text/plain": [
       "           0          1          2          3\n",
       "0  -5.007221   1.987306   2.079505   3.909356\n",
       "1 -26.142018  69.461854   1.375415  89.817969\n",
       "2  -4.523302   1.445777   1.390927   2.040298\n",
       "3  -1.143408   4.636491 -10.330437 -10.931088"
      ]
     },
     "execution_count": 10,
     "metadata": {},
     "output_type": "execute_result"
    }
   ],
   "source": [
    "pd.DataFrame([wo_corr_pd.mean(axis=0),wo_corr_pd_IV.mean(axis=0), corr_pd.mean(axis=0), corr_pd_IV.mean(axis=0)])"
   ]
  },
  {
   "cell_type": "code",
   "execution_count": 11,
   "id": "de4079e2-3538-4959-9952-6e37b21d3559",
   "metadata": {},
   "outputs": [
    {
     "name": "stderr",
     "output_type": "stream",
     "text": [
      "C:\\Users\\nikol\\AppData\\Local\\Temp/ipykernel_14864/2011577078.py:10: UserWarning: Matplotlib is currently using module://matplotlib_inline.backend_inline, which is a non-GUI backend, so cannot show the figure.\n",
      "  fig.show()\n"
     ]
    },
    {
     "data": {
      "image/png": "[encoded data removed]",
      "text/plain": [
       "<Figure size 432x288 with 3 Axes>"
      ]
     },
     "metadata": {
      "needs_background": "light"
     },
     "output_type": "display_data"
    }
   ],
   "source": [
    "#corr_pd = corr_pd.loc[~(corr_pd==0).all(axis=1)]\n",
    "\n",
    "\n",
    "fig, ax =plt.subplots(1,3)\n",
    "sns.histplot(wo_corr_pd[0], ax=ax[0])\n",
    "sns.histplot(wo_corr_pd[1], ax=ax[1]).set(title='OLS without Correlation')\n",
    "sns.histplot(wo_corr_pd[2], ax=ax[2])\n",
    "\n",
    "\n",
    "fig.show()"
   ]
  },
  {
   "cell_type": "code",
   "execution_count": 12,
   "id": "05baa90a",
   "metadata": {},
   "outputs": [
    {
     "name": "stderr",
     "output_type": "stream",
     "text": [
      "C:\\Users\\nikol\\AppData\\Local\\Temp/ipykernel_14864/2755507471.py:10: UserWarning: Matplotlib is currently using module://matplotlib_inline.backend_inline, which is a non-GUI backend, so cannot show the figure.\n",
      "  fig.show()\n"
     ]
    },
    {
     "data": {
      "image/png": "[encoded data removed]",
      "text/plain": [
       "<Figure size 432x288 with 3 Axes>"
      ]
     },
     "metadata": {
      "needs_background": "light"
     },
     "output_type": "display_data"
    }
   ],
   "source": [
    "#corr_pd = corr_pd.loc[~(corr_pd==0).all(axis=1)]\n",
    "\n",
    "\n",
    "fig, ax =plt.subplots(1,3)\n",
    "sns.histplot(corr_pd_IV[0], ax=ax[0])\n",
    "sns.histplot(corr_pd_IV[1], ax=ax[1]).set(title='IV without Correlation')\n",
    "sns.histplot(corr_pd_IV[2], ax=ax[2])\n",
    "\n",
    "\n",
    "fig.show()"
   ]
  },
  {
   "cell_type": "code",
   "execution_count": 13,
   "id": "3bf4e904-428c-4ca4-85eb-b5794b30eaab",
   "metadata": {},
   "outputs": [
    {
     "name": "stderr",
     "output_type": "stream",
     "text": [
      "C:\\Users\\nikol\\AppData\\Local\\Temp/ipykernel_14864/373389710.py:8: UserWarning: Matplotlib is currently using module://matplotlib_inline.backend_inline, which is a non-GUI backend, so cannot show the figure.\n",
      "  fig.show()\n"
     ]
    },
    {
     "data": {
      "image/png": "[encoded data removed]",
      "text/plain": [
       "<Figure size 432x288 with 3 Axes>"
      ]
     },
     "metadata": {
      "needs_background": "light"
     },
     "output_type": "display_data"
    }
   ],
   "source": [
    "#corr_pd = corr_pd.loc[~(corr_pd==0).all(axis=1)]\n",
    "\n",
    "fig, ax =plt.subplots(1,3)\n",
    "sns.histplot(corr_pd[0], ax=ax[0])\n",
    "sns.histplot(corr_pd[1], ax=ax[1]).set(title='OLS with Correlation')\n",
    "sns.histplot(corr_pd[2], ax=ax[2])\n",
    "\n",
    "fig.show()"
   ]
  },
  {
   "cell_type": "code",
   "execution_count": 14,
   "id": "5dffa8f4",
   "metadata": {},
   "outputs": [
    {
     "data": {
      "text/plain": [
       "0   -5.007221\n",
       "1    1.987306\n",
       "2    2.079505\n",
       "3    3.909356\n",
       "dtype: float64"
      ]
     },
     "execution_count": 14,
     "metadata": {},
     "output_type": "execute_result"
    }
   ],
   "source": [
    "wo_corr_pd.mean()"
   ]
  },
  {
   "cell_type": "code",
   "execution_count": 15,
   "id": "40e7acdf",
   "metadata": {},
   "outputs": [
    {
     "name": "stderr",
     "output_type": "stream",
     "text": [
      "C:\\Users\\nikol\\AppData\\Local\\Temp/ipykernel_14864/1024738073.py:8: UserWarning: Matplotlib is currently using module://matplotlib_inline.backend_inline, which is a non-GUI backend, so cannot show the figure.\n",
      "  fig.show()\n"
     ]
    },
    {
     "data": {
      "image/png": "[encoded data removed]",
      "text/plain": [
       "<Figure size 432x288 with 3 Axes>"
      ]
     },
     "metadata": {
      "needs_background": "light"
     },
     "output_type": "display_data"
    }
   ],
   "source": [
    "#corr_pd = corr_pd.loc[~(corr_pd==0).all(axis=1)]\n",
    "\n",
    "fig, ax =plt.subplots(1,3)\n",
    "sns.histplot(corr_pd_IV[0], ax=ax[0])\n",
    "sns.histplot(corr_pd_IV[1], ax=ax[1]).set(title='IV with Correlation')\n",
    "sns.histplot(corr_pd_IV[2], ax=ax[2])\n",
    "\n",
    "fig.show()"
   ]
  },
  {
   "cell_type": "code",
   "execution_count": 16,
   "id": "d265ef07-65b3-493d-b655-54a27141dd7f",
   "metadata": {},
   "outputs": [
    {
     "data": {
      "text/plain": [
       "0    -1.143408\n",
       "1     4.636491\n",
       "2   -10.330437\n",
       "3   -10.931088\n",
       "dtype: float64"
      ]
     },
     "execution_count": 16,
     "metadata": {},
     "output_type": "execute_result"
    }
   ],
   "source": [
    "corr_pd_IV.mean()"
   ]
  },
  {
   "cell_type": "code",
   "execution_count": 17,
   "id": "f5e3cfcc-f74e-46b9-bc8c-8b321aaf2862",
   "metadata": {
    "tags": []
   },
   "outputs": [
    {
     "name": "stderr",
     "output_type": "stream",
     "text": [
      "C:\\Users\\nikol\\AppData\\Local\\Temp/ipykernel_14864/1170351877.py:9: UserWarning: Matplotlib is currently using module://matplotlib_inline.backend_inline, which is a non-GUI backend, so cannot show the figure.\n",
      "  fig.show()\n"
     ]
    },
    {
     "data": {
      "image/png": "[encoded data removed]",
      "text/plain": [
       "<Figure size 432x288 with 3 Axes>"
      ]
     },
     "metadata": {
      "needs_background": "light"
     },
     "output_type": "display_data"
    }
   ],
   "source": [
    "corr_pd = pd.DataFrame(corr_IV)\n",
    "corr_pd = corr_pd.loc[~(corr_pd==0).all(axis=1)]\n",
    "\n",
    "fig, ax =plt.subplots(1,3)\n",
    "sns.histplot(corr_pd[0], ax=ax[0])\n",
    "sns.histplot(corr_pd[1], ax=ax[1])\n",
    "sns.histplot(corr_pd[2], ax=ax[2])\n",
    "\n",
    "fig.show()"
   ]
  },
  {
   "cell_type": "code",
   "execution_count": 18,
   "id": "6f4391f8-95b9-4f9f-a829-7751d9a0a5bc",
   "metadata": {},
   "outputs": [
    {
     "data": {
      "text/plain": [
       "0    -1.143408\n",
       "1     4.636491\n",
       "2   -10.330437\n",
       "3   -10.931088\n",
       "dtype: float64"
      ]
     },
     "execution_count": 18,
     "metadata": {},
     "output_type": "execute_result"
    }
   ],
   "source": [
    "corr_pd.mean()"
   ]
  },
  {
   "cell_type": "markdown",
   "id": "9054e570-aaf0-4d56-8140-d854a1268348",
   "metadata": {},
   "source": [
    "### Adding Instruments: \n",
    "BLP Instruments consist of: \n",
    " - average attributes of own firm other products characteristics (if j = 1, then this instrument is invalid)\n",
    " - average attributes of other firm product characteristics.     \n"
   ]
  },
  {
   "cell_type": "code",
   "execution_count": 29,
   "id": "6f13bf63-1aff-4133-8039-26272c55ebe0",
   "metadata": {},
   "outputs": [
    {
     "ename": "NameError",
     "evalue": "name 'X' is not defined",
     "output_type": "error",
     "traceback": [
      "\u001b[1;31m---------------------------------------------------------------------------\u001b[0m",
      "\u001b[1;31mNameError\u001b[0m                                 Traceback (most recent call last)",
      "\u001b[1;32m~\\AppData\\Local\\Temp/ipykernel_11192/3777217377.py\u001b[0m in \u001b[0;36m<module>\u001b[1;34m\u001b[0m\n\u001b[1;32m----> 1\u001b[1;33m \u001b[0mX\u001b[0m\u001b[1;33m\u001b[0m\u001b[1;33m\u001b[0m\u001b[0m\n\u001b[0m",
      "\u001b[1;31mNameError\u001b[0m: name 'X' is not defined"
     ]
    }
   ],
   "source": []
  },
  {
   "cell_type": "code",
   "execution_count": null,
   "id": "de5d0c69",
   "metadata": {},
   "outputs": [],
   "source": [
    "# I need to first estimate a model consisting only of constants. \n",
    "# Then I need to regress these constants on instruments. "
   ]
  },
  {
   "cell_type": "code",
   "execution_count": null,
   "id": "c89adef1-8f13-4607-b85a-7f1c028a0ccc",
   "metadata": {},
   "outputs": [],
   "source": []
  },
  {
   "cell_type": "markdown",
   "id": "056c880d-6b87-46b7-bf54-ed21e3bb3643",
   "metadata": {
    "tags": []
   },
   "source": [
    "### Results\n",
    "Unexpected result since OLS is able to recover the parameters of the model exactly. Right now the model is estimated Must be because pr"
   ]
  },
  {
   "cell_type": "code",
   "execution_count": null,
   "id": "b3bf96eb-c7e7-46c5-9068-44e65b794c27",
   "metadata": {},
   "outputs": [],
   "source": []
  },
  {
   "cell_type": "code",
   "execution_count": 242,
   "id": "b290d12c-94fb-4b45-b803-9da680dad332",
   "metadata": {},
   "outputs": [
    {
     "data": {
      "text/plain": [
       "(1600, 2)"
      ]
     },
     "execution_count": 242,
     "metadata": {},
     "output_type": "execute_result"
    }
   ],
   "source": [
    "X.repeat(200, axis=0).shape"
   ]
  },
  {
   "cell_type": "code",
   "execution_count": 106,
   "id": "5a4b4152-f454-411b-9a51-8a5caf6db222",
   "metadata": {},
   "outputs": [
    {
     "data": {
      "text/plain": [
       "(800, 2)"
      ]
     },
     "execution_count": 106,
     "metadata": {},
     "output_type": "execute_result"
    }
   ],
   "source": [
    "X.repeat(200, axis=0).shape\n"
   ]
  },
  {
   "cell_type": "code",
   "execution_count": 26,
   "id": "5eec7111-2035-4c33-940a-cee66015dd53",
   "metadata": {},
   "outputs": [
    {
     "data": {
      "text/plain": [
       "(5, 5, 2)"
      ]
     },
     "execution_count": 26,
     "metadata": {},
     "output_type": "execute_result"
    }
   ],
   "source": [
    "mean = [0,0]\n",
    "cov  = np.array([[1,0.1],[0.1,1]])\n",
    "test=np.random.multivariate_normal(mean,cov,size = (f,j) )\n",
    "test.shape"
   ]
  },
  {
   "cell_type": "code",
   "execution_count": 27,
   "id": "81290509-74a9-40cb-9c70-e8e2d6265adf",
   "metadata": {},
   "outputs": [
    {
     "data": {
      "text/plain": [
       "array([[1. , 0.1],\n",
       "       [0.1, 1. ]])"
      ]
     },
     "execution_count": 27,
     "metadata": {},
     "output_type": "execute_result"
    }
   ],
   "source": [
    "cov"
   ]
  },
  {
   "cell_type": "code",
   "execution_count": 154,
   "id": "3b5f8a7f-6f70-402d-9c4b-28aef5f9b133",
   "metadata": {},
   "outputs": [
    {
     "data": {
      "text/plain": [
       "(50, 2)"
      ]
     },
     "execution_count": 154,
     "metadata": {},
     "output_type": "execute_result"
    }
   ],
   "source": [
    "np.random.multivariate_normal([0,0],cov, size = (f*j)).shape"
   ]
  },
  {
   "cell_type": "code",
   "execution_count": 24,
   "id": "4ff872b1-0bd4-4ae0-871c-b254799a0898",
   "metadata": {},
   "outputs": [
    {
     "data": {
      "text/plain": [
       "array([1. , 1. , 1. , 0.5])"
      ]
     },
     "execution_count": 24,
     "metadata": {},
     "output_type": "execute_result"
    }
   ],
   "source": [
    "x = np.array([1,1,1,0])\n",
    "np.maximum(x, 0.5)"
   ]
  },
  {
   "cell_type": "code",
   "execution_count": null,
   "id": "129306df",
   "metadata": {},
   "outputs": [],
   "source": [
    "\n",
    "\n",
    "\n",
    "def sim_study_IV(Q,cov):\n",
    "    parameters = np.zeros((Q,3))#+4*2))\n",
    "    for q in tqdm(range(Q)): \n",
    "        try:\n",
    "            f=2 # Firms\n",
    "            j=3 # Products\n",
    "            k=2 # Traits (of each product) \n",
    "\n",
    "            data = DE.endog_data()\n",
    "            X, prod=data.simulate_product_traits(f,j,k, which_type = \"Differentiated\")\n",
    "            X = X.reshape(j*f, -1)\n",
    "            H = data.hadamard(f*j,prod)\n",
    "\n",
    "            # True Parameters \n",
    "            alpha = -1                # Price sensitivity\n",
    "            beta= np.array([1,1])        # Preference for traits \n",
    "            theta = np.append(alpha,beta)  \n",
    "            #cov = np.array([[1,0.5],[0.5,1]])\n",
    "\n",
    "            gamma = -np.array([1,1,1])\n",
    "            T = 20\n",
    "            P0 = np.zeros((f*j)) +1               #Initital price vector\n",
    "\n",
    "            # Simulate data \n",
    "            S = np.array(0) \n",
    "            while S.min() == 0.0:\n",
    "                P, S = data.sim_data_T(X, f, j, T, theta, gamma, cov, prod, H, disable = True)\n",
    "            S.min()\n",
    "            \n",
    "            # constructing instruments: \n",
    "            # Not implemented\n",
    "\n",
    "            #Estimation: \n",
    "            S0=(1-np.sum(S,axis=0))\n",
    "\n",
    "            index=np.log(S/S0).reshape(-1,1)\n",
    "            \n",
    "\n",
    "            check = np.array(np.arange(j*f))\n",
    "            Z = []\n",
    "            for firm, js in prod.items():\n",
    "                not_f_prods=[j for j in check if j not in js ]\n",
    "\n",
    "                Z_i = X[not_f_prods,:].mean(axis=0)\n",
    "\n",
    "                Z.append(Z_i)\n",
    "\n",
    "            Z = np.array(Z) \n",
    "\n",
    "            ZZ = Z.repeat(T, axis=0)\n",
    "            Piv1 = P.reshape(-1)\n",
    "\n",
    "\n",
    "            results1step=OLS(Piv1,ZZ).fit()\n",
    "            results1step.params\n",
    "\n",
    "            EP = (ZZ @ results1step.params).reshape(-1,1)\n",
    "\n",
    "            # Step 2 IV: \n",
    "            ZX = np.hstack((EP, X.repeat(T, axis=0)))\n",
    "            #XX = XX[:,0:2]\n",
    "            resultsIV=OLS(index,ZX).fit()\n",
    "        \n",
    "            parameters[q,:] = resultsIV.params\n",
    "            \n",
    "        except np.linalg.LinAlgError: \n",
    "            continue\n",
    "    return parameters\n",
    "\n",
    "\n",
    "\n",
    "\n",
    "    "
   ]
  }
 ],
 "metadata": {
  "kernelspec": {
   "display_name": "Python 3 (ipykernel)",
   "language": "python",
   "name": "python3"
  },
  "language_info": {
   "codemirror_mode": {
    "name": "ipython",
    "version": 3
   },
   "file_extension": ".py",
   "mimetype": "text/x-python",
   "name": "python",
   "nbconvert_exporter": "python",
   "pygments_lexer": "ipython3",
   "version": "3.8.11"
  }
 },
 "nbformat": 4,
 "nbformat_minor": 5
}
