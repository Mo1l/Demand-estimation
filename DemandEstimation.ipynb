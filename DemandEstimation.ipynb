{
 "cells": [
  {
   "cell_type": "code",
   "execution_count": 1,
   "id": "8bd01b3d-d610-469b-83a7-22446206e720",
   "metadata": {},
   "outputs": [],
   "source": [
    "\n",
    "\n",
    "%load_ext autoreload\n",
    "%autoreload 2\n",
    "%load_ext line_profiler\n",
    "\n",
    "\n",
    "import numpy as np\n",
    "import DemandEstimation_v2 as DE\n",
    "from tqdm.notebook import tqdm\n",
    "from statsmodels.regression.linear_model import OLS \n",
    "import seaborn as sns\n",
    "import pandas as pd\n",
    "import matplotlib.pyplot as plt\n",
    "\n"
   ]
  },
  {
   "cell_type": "markdown",
   "id": "6dda1149-41bf-43c7-bc20-a0394067d2f0",
   "metadata": {},
   "source": [
    "#### Setting true parameters and simulating one period market"
   ]
  },
  {
   "cell_type": "code",
   "execution_count": 2,
   "id": "06738d52-6124-42fd-89c9-9e0f246d5b8b",
   "metadata": {},
   "outputs": [
    {
     "ename": "TypeError",
     "evalue": "sim_data() missing 1 required positional argument: 'J'",
     "output_type": "error",
     "traceback": [
      "\u001b[1;31m---------------------------------------------------------------------------\u001b[0m",
      "\u001b[1;31mTypeError\u001b[0m                                 Traceback (most recent call last)",
      "\u001b[1;32mc:\\Users\\glh287\\Demand estimation\\DemandEstimation.ipynb Cell 3\u001b[0m in \u001b[0;36m<cell line: 18>\u001b[1;34m()\u001b[0m\n\u001b[0;32m     <a href='vscode-notebook-cell:/c%3A/Users/glh287/Demand%20estimation/DemandEstimation.ipynb#W2sZmlsZQ%3D%3D?line=15'>16</a>\u001b[0m \u001b[39m# Simulating data: \u001b[39;00m\n\u001b[0;32m     <a href='vscode-notebook-cell:/c%3A/Users/glh287/Demand%20estimation/DemandEstimation.ipynb#W2sZmlsZQ%3D%3D?line=16'>17</a>\u001b[0m P \u001b[39m=\u001b[39m np\u001b[39m.\u001b[39mzeros((f\u001b[39m*\u001b[39mj)) \u001b[39m+\u001b[39m\u001b[39m1\u001b[39m               \u001b[39m#Initital price vector\u001b[39;00m\n\u001b[1;32m---> <a href='vscode-notebook-cell:/c%3A/Users/glh287/Demand%20estimation/DemandEstimation.ipynb#W2sZmlsZQ%3D%3D?line=17'>18</a>\u001b[0m data\u001b[39m.\u001b[39;49msim_data(P, theta, X, mc, prod, f, j)\n",
      "\u001b[1;31mTypeError\u001b[0m: sim_data() missing 1 required positional argument: 'J'"
     ]
    }
   ],
   "source": [
    "# setting parameters \n",
    "\n",
    "f=2 # Firms\n",
    "j=2# Products\n",
    "k=2 # Traits (of each product) \n",
    "data = DE.endog_data()\n",
    "X, prod=data.simulate_product_traits(f,j,k, which_type = \"Identical\")\n",
    "X = X.reshape(j*f, -1)\n",
    "\n",
    "# True Parameters \n",
    "alpha = -0.02                # Price sensitivity\n",
    "beta= np.array([1,2])        # Preference for traits \n",
    "mc = np.array([60,60, 70 ,40])           # Marginal costs of producing each product\n",
    "theta = np.append(alpha,beta)  \n",
    "\n",
    "# Simulating data: \n",
    "P = np.zeros((f*j)) +1               #Initital price vector\n",
    "data.sim_data(P, theta, X, mc, prod, f, j)\n"
   ]
  },
  {
   "cell_type": "code",
   "execution_count": null,
   "id": "42f509c1-12ee-496d-9edb-264adfbf28c8",
   "metadata": {},
   "outputs": [],
   "source": [
    "# I could add shocks to production costs over time (ar(1) + noise). That would induce variation over time in prices. \n",
    "# I think when MC is perfectly known we lose one dimension of noise. Hence what is left is noise wrt. to demand. But the distribution is known and hence create the logit demand system. "
   ]
  },
  {
   "cell_type": "markdown",
   "id": "6539aa56-5b80-43c8-8ab6-afba37f89398",
   "metadata": {},
   "source": [
    "#### Simulating multiple markets"
   ]
  },
  {
   "cell_type": "code",
   "execution_count": 5,
   "id": "dd1d813d-6873-48ef-b60b-d6cd6f5e4924",
   "metadata": {},
   "outputs": [],
   "source": [
    "# setting parameters \n",
    "\n",
    "f=2 # Firms\n",
    "j=2# Products\n",
    "k=2 # Traits (of each product) \n",
    "\n",
    "data = DE.endog_data()\n",
    "X, prod=data.simulate_product_traits(f,j,k, which_type = \"Differentiated\")\n",
    "X = X.reshape(j*f, -1)\n",
    "\n",
    "# True Parameters \n",
    "alpha = -2                # Price sensitivity\n",
    "beta= np.array([2,2])        # Preference for traits \n",
    "theta = np.append(alpha,beta)  \n",
    "cov = np.array([[1,0.5],[0.5,1]])\n",
    "#cov = np.array([[1,0.0],[0.0,1]])\n",
    "gamma = np.array([1,1])\n",
    "T = 10\n",
    "P0 = np.zeros((f*j)) +1               #Initital price vector\n",
    "\n",
    "#mc=data.mc_sim(X, gamma,T=T, noise_type = \"Triangular\")"
   ]
  },
  {
   "cell_type": "code",
   "execution_count": 6,
   "id": "cacd5dbf-1301-40a0-b0b7-7fb5efb331da",
   "metadata": {
    "tags": []
   },
   "outputs": [
    {
     "ename": "TypeError",
     "evalue": "sim_data_T() missing 1 required positional argument: 'H'",
     "output_type": "error",
     "traceback": [
      "\u001b[1;31m---------------------------------------------------------------------------\u001b[0m",
      "\u001b[1;31mTypeError\u001b[0m                                 Traceback (most recent call last)",
      "\u001b[1;32mc:\\Users\\glh287\\Demand estimation\\DemandEstimation.ipynb Cell 7\u001b[0m in \u001b[0;36m<cell line: 4>\u001b[1;34m()\u001b[0m\n\u001b[0;32m      <a href='vscode-notebook-cell:/c%3A/Users/glh287/Demand%20estimation/DemandEstimation.ipynb#W6sZmlsZQ%3D%3D?line=2'>3</a>\u001b[0m S \u001b[39m=\u001b[39m np\u001b[39m.\u001b[39marray(\u001b[39m0\u001b[39m) \n\u001b[0;32m      <a href='vscode-notebook-cell:/c%3A/Users/glh287/Demand%20estimation/DemandEstimation.ipynb#W6sZmlsZQ%3D%3D?line=3'>4</a>\u001b[0m \u001b[39mwhile\u001b[39;00m S\u001b[39m.\u001b[39mmin() \u001b[39m==\u001b[39m \u001b[39m0.0\u001b[39m:\n\u001b[1;32m----> <a href='vscode-notebook-cell:/c%3A/Users/glh287/Demand%20estimation/DemandEstimation.ipynb#W6sZmlsZQ%3D%3D?line=4'>5</a>\u001b[0m     P, S \u001b[39m=\u001b[39m data\u001b[39m.\u001b[39;49msim_data_T(X, f, j, T, theta, gamma, cov, prod)\n\u001b[0;32m      <a href='vscode-notebook-cell:/c%3A/Users/glh287/Demand%20estimation/DemandEstimation.ipynb#W6sZmlsZQ%3D%3D?line=5'>6</a>\u001b[0m     \u001b[39mprint\u001b[39m(S\u001b[39m.\u001b[39mmin()\u001b[39m==\u001b[39m\u001b[39m0.0\u001b[39m)\n",
      "\u001b[1;31mTypeError\u001b[0m: sim_data_T() missing 1 required positional argument: 'H'"
     ]
    }
   ],
   "source": [
    "#P, S = data.sim_data_T(X, f, j, T, theta, gamma, cov, prod)\n",
    "#S.min()\n",
    "S = np.array(0) \n",
    "while S.min() == 0.0:\n",
    "    P, S = data.sim_data_T(X, f, j, T, theta, gamma, cov, prod)\n",
    "    print(S.min()==0.0)\n"
   ]
  },
  {
   "cell_type": "markdown",
   "id": "13414c68-129a-412d-ad9f-31de34370f9a",
   "metadata": {},
   "source": [
    "#### Using OLS to solve the system: \n",
    "1) Divide by outside option and Log transform the system. "
   ]
  },
  {
   "cell_type": "code",
   "execution_count": null,
   "id": "ca392f28-99c5-41f1-a323-47282479ef9b",
   "metadata": {},
   "outputs": [],
   "source": [
    "P[:,9]"
   ]
  },
  {
   "cell_type": "code",
   "execution_count": null,
   "id": "b1d7ca4d-0b46-496b-9bd2-9722aa3e43e3",
   "metadata": {},
   "outputs": [],
   "source": [
    "# OLS: \n",
    "# But I do not have the outside option in my data... I can construct it easily. \n",
    "S0=(1-np.sum(S,axis=0))\n",
    "\n",
    "index=np.log(S/S0).reshape(-1,1)\n",
    "\n",
    "# OLS with endogenous prices\n",
    "P1 = P.reshape(-1,1)\n",
    "XX = np.hstack((P1, X.repeat(T, axis=0)))\n",
    "#XX = XX[:,0:2]\n",
    "resultsp=OLS(index,XX).fit()\n",
    "resultsp.params\n",
    "\n",
    "# OLS with MC instead\n",
    "\n"
   ]
  },
  {
   "cell_type": "markdown",
   "id": "a0f6f715-6ce1-4a88-9a86-2683ed308566",
   "metadata": {},
   "source": [
    "#### Using 2-step IV: "
   ]
  },
  {
   "cell_type": "code",
   "execution_count": null,
   "id": "448be06a-3b61-4e93-8a10-360b0e569751",
   "metadata": {},
   "outputs": [],
   "source": [
    "check = np.array(np.arange(j*f))\n",
    "Z = []\n",
    "for firm, js in prod.items():\n",
    "    not_f_prods=[j for j in check if j not in js ]\n",
    "    \n",
    "    Z_i = X[not_f_prods,:].mean(axis=0)\n",
    "    \n",
    "    Z.append(Z_i)\n",
    "    \n",
    "Z = np.array(Z) \n",
    "\n",
    "ZZ = Z.repeat(T, axis=0)\n",
    "Piv1 = P.reshape(-1)\n",
    "\n",
    "\n",
    "results1step=OLS(P1,ZZ).fit()\n",
    "results1step.params\n",
    "\n",
    "EP = (ZZ @ results1step.params).reshape(-1,1)\n",
    "\n",
    "# Step 2 IV: \n",
    "ZX = np.hstack((EP, X.repeat(T, axis=0)))\n",
    "#XX = XX[:,0:2]\n",
    "resultsIV=OLS(index,ZX).fit()\n",
    "resultsIV.params\n",
    "\n"
   ]
  },
  {
   "cell_type": "markdown",
   "id": "6ac0eada-e5ab-497f-9a10-b2a2dbf78702",
   "metadata": {},
   "source": [
    "### Doing a simulation study: "
   ]
  },
  {
   "cell_type": "code",
   "execution_count": 350,
   "id": "8a66c8e4-37f2-4448-85b1-fc9e3cee729c",
   "metadata": {},
   "outputs": [],
   "source": [
    "def sim_study(Q,cov, Type = \"OLS\", Consts = False):\n",
    "    \"\"\"\n",
    "    Type - options \"OLS\", \"IV\"\n",
    "    \"\"\"\n",
    "\n",
    "    # No. of Firms, products and traits: \n",
    "    f=2 # Firms\n",
    "    j=3 # Products\n",
    "    k=3 # Traits (of each product) \n",
    "    \n",
    "    # True Parameters \n",
    "    alpha = -5                      # Price sensitivity\n",
    "    beta= np.array([3,2,1])         # Preference for traits \n",
    "    theta = np.append(alpha,beta)   \n",
    "    gamma = np.array([1,2,3])       # Production costs of traits \n",
    "\n",
    "    #cov = np.array([[1,0.5],[0.5,1]])\n",
    "    T = 100\n",
    "\n",
    "    if Type == \"OLS\":\n",
    "        if Consts == True: \n",
    "            parameters = np.zeros((Q,1 + k*2 + f*j*2)) + np.nan\n",
    "        else:\n",
    "            parameters = np.zeros((Q,k + 1)) + np.nan\n",
    "\n",
    "    elif Type == \"IV\":\n",
    "        parameters = np.zeros((Q, k+1))\n",
    "\n",
    "    for q in tqdm(range(Q)): \n",
    "        try:\n",
    "            \n",
    "            data = DE.endog_data()\n",
    "            X, prod=data.simulate_product_traits(f,j,k, which_type = \"Differentiated\")\n",
    "            H = data.hadamard(f*j,prod)\n",
    "            X = X.reshape(j*f, -1)\n",
    "\n",
    "            # Simulate data \n",
    "            S = np.array(0) \n",
    "            while S.min() == 0.0:\n",
    "                P, S = data.sim_data_T(X, f, j, T, theta, gamma, cov, prod, H, disable = True)\n",
    "            S.min()\n",
    "\n",
    "            S0=(1-np.sum(S,axis=0))\n",
    "\n",
    "            index=np.log(S/S0).reshape(-1,1)\n",
    "\n",
    "            #Estimation: \n",
    "            if Type == \"OLS\": \n",
    "\n",
    "                # OLS with endogenous prices\n",
    "                P1 = P.reshape(-1,1)\n",
    "\n",
    "                if Consts == True: \n",
    "                    j_const = np.identity(f*j).repeat(T, axis=0)\n",
    "                    XX = np.hstack((P1, X.repeat(T, axis=0),j_const))\n",
    "                else: \n",
    "                    XX = np.hstack((P1, X.repeat(T, axis=0)))\n",
    "\n",
    "                resultsp=OLS(index,XX).fit()\n",
    "                results = resultsp.params\n",
    "            \n",
    "                parameters[q,:] = results\n",
    "            \n",
    "            elif Type == \"IV\":\n",
    "                parameters[q,:] = data.blp_regression(index, P, X, prod, [f,j,T])\n",
    "\n",
    "                if np.abs(parameters[q,0]) > 20: \n",
    "                    print(parameters[q,0])\n",
    "                    print(\"P\", P.max(), P.min())\n",
    "                    print(\"S\", S.max(), S.min())\n",
    "                \n",
    "        except np.linalg.LinAlgError: \n",
    "            print(\"linalg error\")\n",
    "            break\n",
    "    return parameters\n",
    "\n",
    "\n",
    "\n",
    "\n",
    "    "
   ]
  },
  {
   "cell_type": "code",
   "execution_count": 343,
   "id": "c1b52927",
   "metadata": {},
   "outputs": [],
   "source": [
    "#DE.first_step_IV(y,[j,T])\n",
    "\n",
    "# No. of Firms, products and traits: \n",
    "f=2 # Firms\n",
    "j=3 # Products\n",
    "k=3 # Traits (of each product) \n",
    "    \n",
    "# True Parameters \n",
    "alpha = -5                      # Price sensitivity\n",
    "beta= np.array([2,1,1])         # Preference for traits \n",
    "theta = np.append(alpha,beta)   \n",
    "gamma = np.array([1,1,1])       # Production costs of traits \n",
    "\n",
    "cov = np.array([[1,0.5],[0.5,1]])\n",
    "T = 150\n",
    "\n",
    "\n",
    "data = DE.endog_data()\n",
    "\n",
    "X, prod=data.simulate_product_traits(f,j,k, which_type = \"Differentiated\")\n",
    "H = data.hadamard(f*j,prod)\n",
    "X = X.reshape(j*f, -1)\n",
    "\n",
    "P, S = data.sim_data_T(X, f, j, T, theta, gamma, cov, prod, H, disable = True)\n",
    "\n",
    "S0=(1-np.sum(S,axis=0))\n",
    "\n",
    "y=np.log(S/S0).reshape(-1,1)\n",
    "\n",
    "\n",
    "params, _ = data.first_step_IV(y,[f,j,T])\n",
    "\n",
    "\n",
    "\n",
    "\n"
   ]
  },
  {
   "cell_type": "markdown",
   "id": "adeea2d7",
   "metadata": {},
   "source": [
    "### BLP-approach in a simple logit model"
   ]
  },
  {
   "cell_type": "code",
   "execution_count": 344,
   "id": "5d7765c6",
   "metadata": {},
   "outputs": [
    {
     "data": {
      "text/plain": [
       "array([-4.97136395,  1.69766141,  0.74424737,  1.23831832])"
      ]
     },
     "execution_count": 344,
     "metadata": {},
     "output_type": "execute_result"
    }
   ],
   "source": [
    "y_const, _=data.first_step_IV(y,[f,j,T])\n",
    "\n",
    "ZS = data.blp_instruments(X,prod, [f,j,T])\n",
    "\n",
    "step2=OLS(P.reshape(-1,1), ZS).fit()\n",
    "preds=ZS @step2.params \n",
    "\n",
    "step3vars = np.hstack((preds.reshape(-1,1), X.repeat(T, axis=0)))\n",
    "\n",
    "OLS(y_const, step3vars).fit().params\n"
   ]
  },
  {
   "cell_type": "code",
   "execution_count": null,
   "id": "8bb14fcc",
   "metadata": {},
   "outputs": [],
   "source": [
    "S[:,S.argmax(axis=1)].max(axis=0)"
   ]
  },
  {
   "cell_type": "markdown",
   "id": "d5ad6aa3",
   "metadata": {},
   "source": [
    "\n",
    "#### BLP approach. Do the following regression:\n",
    "$\\delta_{jm} =\\beta V(X, p_{jm} ) + \\psi_{jm}$ \n",
    "\n",
    "This regression is intractable so instead estimate by IV. "
   ]
  },
  {
   "cell_type": "markdown",
   "id": "1e49a315",
   "metadata": {},
   "source": [
    "##### Comment: I do not need to simulate new data. I can just run the two approaches on the same data"
   ]
  },
  {
   "cell_type": "code",
   "execution_count": 355,
   "id": "d17168c1-e37c-42a0-ac69-2be08db15f68",
   "metadata": {},
   "outputs": [
    {
     "data": {
      "application/vnd.jupyter.widget-view+json": {
       "model_id": "d088080cbb014bbf9bfd580226aaefbf",
       "version_major": 2,
       "version_minor": 0
      },
      "text/plain": [
       "  0%|          | 0/2000 [00:00<?, ?it/s]"
      ]
     },
     "metadata": {},
     "output_type": "display_data"
    },
    {
     "data": {
      "application/vnd.jupyter.widget-view+json": {
       "model_id": "3c5723024a2a42efb4bb4e0637c55d79",
       "version_major": 2,
       "version_minor": 0
      },
      "text/plain": [
       "  0%|          | 0/2000 [00:00<?, ?it/s]"
      ]
     },
     "metadata": {},
     "output_type": "display_data"
    },
    {
     "name": "stdout",
     "output_type": "stream",
     "text": [
      "-22.054093599040627\n",
      "P 7.999307595136476 0.016215530041058468\n",
      "S 0.9086246815970481 2.6013819153943486e-17\n",
      "-20.605716829592083\n",
      "P 9.408532750549599 0.046304423160617114\n",
      "S 0.7835080809547473 2.079278218593298e-20\n"
     ]
    }
   ],
   "source": [
    "\n",
    "Q=2000\n",
    "cov = np.array([[1,0.50],[0.50,1]])\n",
    "corr=sim_study(Q, cov, Type = \"OLS\", Consts = False)\n",
    "corr_IV = sim_study(Q, cov, Type = \"IV\")\n"
   ]
  },
  {
   "cell_type": "code",
   "execution_count": 356,
   "id": "671e5bae-9d0d-4b63-b81a-0ffde931d7de",
   "metadata": {},
   "outputs": [
    {
     "data": {
      "application/vnd.jupyter.widget-view+json": {
       "model_id": "f2e9e22c86124d06a2748dbfe81efca2",
       "version_major": 2,
       "version_minor": 0
      },
      "text/plain": [
       "  0%|          | 0/2000 [00:00<?, ?it/s]"
      ]
     },
     "metadata": {},
     "output_type": "display_data"
    },
    {
     "data": {
      "application/vnd.jupyter.widget-view+json": {
       "model_id": "03711d9854d44cf6aac0fe5117f66f1c",
       "version_major": 2,
       "version_minor": 0
      },
      "text/plain": [
       "  0%|          | 0/2000 [00:00<?, ?it/s]"
      ]
     },
     "metadata": {},
     "output_type": "display_data"
    }
   ],
   "source": [
    "\n",
    "cov = np.array([[1,0.0],[0.0,1]])\n",
    "wo_corr = sim_study(Q,cov, Type = \"OLS\", Consts = False)\n",
    "wo_corr_IV = sim_study(Q,cov, Type = \"IV\")\n"
   ]
  },
  {
   "cell_type": "code",
   "execution_count": 357,
   "id": "ef3912f6",
   "metadata": {},
   "outputs": [],
   "source": [
    "wo_corr_pd = pd.DataFrame(wo_corr)\n",
    "wo_corr_pd_IV = pd.DataFrame(wo_corr_IV)\n",
    "corr_pd = pd.DataFrame(corr)\n",
    "corr_pd_IV = pd.DataFrame(corr_IV)\n"
   ]
  },
  {
   "cell_type": "code",
   "execution_count": 358,
   "id": "4241fec9",
   "metadata": {},
   "outputs": [
    {
     "data": {
      "text/html": [
       "<div>\n",
       "<style scoped>\n",
       "    .dataframe tbody tr th:only-of-type {\n",
       "        vertical-align: middle;\n",
       "    }\n",
       "\n",
       "    .dataframe tbody tr th {\n",
       "        vertical-align: top;\n",
       "    }\n",
       "\n",
       "    .dataframe thead th {\n",
       "        text-align: right;\n",
       "    }\n",
       "</style>\n",
       "<table border=\"1\" class=\"dataframe\">\n",
       "  <thead>\n",
       "    <tr style=\"text-align: right;\">\n",
       "      <th></th>\n",
       "      <th>0</th>\n",
       "      <th>1</th>\n",
       "      <th>2</th>\n",
       "      <th>3</th>\n",
       "    </tr>\n",
       "  </thead>\n",
       "  <tbody>\n",
       "    <tr>\n",
       "      <th>0</th>\n",
       "      <td>-5.001121</td>\n",
       "      <td>3.002007</td>\n",
       "      <td>1.996707</td>\n",
       "      <td>1.008017</td>\n",
       "    </tr>\n",
       "    <tr>\n",
       "      <th>1</th>\n",
       "      <td>-4.958159</td>\n",
       "      <td>2.955566</td>\n",
       "      <td>1.904352</td>\n",
       "      <td>0.865639</td>\n",
       "    </tr>\n",
       "    <tr>\n",
       "      <th>2</th>\n",
       "      <td>-4.714164</td>\n",
       "      <td>2.644749</td>\n",
       "      <td>1.377273</td>\n",
       "      <td>0.105250</td>\n",
       "    </tr>\n",
       "    <tr>\n",
       "      <th>3</th>\n",
       "      <td>-4.927514</td>\n",
       "      <td>2.914395</td>\n",
       "      <td>1.854408</td>\n",
       "      <td>0.765774</td>\n",
       "    </tr>\n",
       "  </tbody>\n",
       "</table>\n",
       "</div>"
      ],
      "text/plain": [
       "          0         1         2         3\n",
       "0 -5.001121  3.002007  1.996707  1.008017\n",
       "1 -4.958159  2.955566  1.904352  0.865639\n",
       "2 -4.714164  2.644749  1.377273  0.105250\n",
       "3 -4.927514  2.914395  1.854408  0.765774"
      ]
     },
     "execution_count": 358,
     "metadata": {},
     "output_type": "execute_result"
    }
   ],
   "source": [
    "pd.DataFrame([wo_corr_pd.mean(axis=0),wo_corr_pd_IV.mean(axis=0), corr_pd.mean(axis=0), corr_pd_IV.mean(axis=0)])"
   ]
  },
  {
   "cell_type": "code",
   "execution_count": 359,
   "id": "f8f3ec13",
   "metadata": {},
   "outputs": [
    {
     "data": {
      "text/html": [
       "<div>\n",
       "<style scoped>\n",
       "    .dataframe tbody tr th:only-of-type {\n",
       "        vertical-align: middle;\n",
       "    }\n",
       "\n",
       "    .dataframe tbody tr th {\n",
       "        vertical-align: top;\n",
       "    }\n",
       "\n",
       "    .dataframe thead th {\n",
       "        text-align: right;\n",
       "    }\n",
       "</style>\n",
       "<table border=\"1\" class=\"dataframe\">\n",
       "  <thead>\n",
       "    <tr style=\"text-align: right;\">\n",
       "      <th></th>\n",
       "      <th>0</th>\n",
       "      <th>1</th>\n",
       "      <th>2</th>\n",
       "      <th>3</th>\n",
       "    </tr>\n",
       "  </thead>\n",
       "  <tbody>\n",
       "    <tr>\n",
       "      <th>0</th>\n",
       "      <td>-5.000317</td>\n",
       "      <td>3.000446</td>\n",
       "      <td>1.992738</td>\n",
       "      <td>1.002896</td>\n",
       "    </tr>\n",
       "    <tr>\n",
       "      <th>1</th>\n",
       "      <td>-4.989477</td>\n",
       "      <td>2.981321</td>\n",
       "      <td>1.980974</td>\n",
       "      <td>0.977704</td>\n",
       "    </tr>\n",
       "    <tr>\n",
       "      <th>2</th>\n",
       "      <td>-4.715478</td>\n",
       "      <td>2.634855</td>\n",
       "      <td>1.370012</td>\n",
       "      <td>0.094551</td>\n",
       "    </tr>\n",
       "    <tr>\n",
       "      <th>3</th>\n",
       "      <td>-4.950295</td>\n",
       "      <td>2.903842</td>\n",
       "      <td>1.875029</td>\n",
       "      <td>0.827262</td>\n",
       "    </tr>\n",
       "  </tbody>\n",
       "</table>\n",
       "</div>"
      ],
      "text/plain": [
       "          0         1         2         3\n",
       "0 -5.000317  3.000446  1.992738  1.002896\n",
       "1 -4.989477  2.981321  1.980974  0.977704\n",
       "2 -4.715478  2.634855  1.370012  0.094551\n",
       "3 -4.950295  2.903842  1.875029  0.827262"
      ]
     },
     "execution_count": 359,
     "metadata": {},
     "output_type": "execute_result"
    }
   ],
   "source": [
    "pd.DataFrame([wo_corr_pd.median(axis=0),wo_corr_pd_IV.median(axis=0), corr_pd.median(axis=0), corr_pd_IV.median(axis=0)])"
   ]
  },
  {
   "cell_type": "markdown",
   "id": "538a0251",
   "metadata": {},
   "source": [
    "Results so far: \n",
    "\n",
    "With parameters \n",
    "\n",
    "0\t1\t2\t3\n",
    "0\t-3.000049\t1.004966\t0.994198\t1.995436\n",
    "1\t-2.992413\t0.999941\t0.978292\t1.976096\n",
    "2\t-2.994373\t0.978406\t0.996163\t2.002496\n",
    "3\t-3.002868\t1.007717\t0.992143\t2.007656\n",
    "\n",
    "\n"
   ]
  },
  {
   "cell_type": "code",
   "execution_count": null,
   "id": "de4079e2-3538-4959-9952-6e37b21d3559",
   "metadata": {},
   "outputs": [],
   "source": [
    "#corr_pd = corr_pd.loc[~(corr_pd==0).all(axis=1)]\n",
    "\n",
    "\n",
    "fig, ax =plt.subplots(1,3)\n",
    "sns.histplot(wo_corr_pd[0], ax=ax[0])\n",
    "sns.histplot(wo_corr_pd[1], ax=ax[1]).set(title='OLS without Correlation')\n",
    "sns.histplot(wo_corr_pd[2], ax=ax[2])\n",
    "\n",
    "\n",
    "fig.show()"
   ]
  },
  {
   "cell_type": "code",
   "execution_count": null,
   "id": "05baa90a",
   "metadata": {},
   "outputs": [],
   "source": [
    "#corr_pd = corr_pd.loc[~(corr_pd==0).all(axis=1)]\n",
    "\n",
    "\n",
    "fig, ax =plt.subplots(1,3)\n",
    "sns.histplot(corr_pd_IV[0], ax=ax[0])\n",
    "sns.histplot(corr_pd_IV[1], ax=ax[1]).set(title='IV without Correlation')\n",
    "sns.histplot(corr_pd_IV[2], ax=ax[2])\n",
    "\n",
    "\n",
    "fig.show()"
   ]
  },
  {
   "cell_type": "code",
   "execution_count": null,
   "id": "3bf4e904-428c-4ca4-85eb-b5794b30eaab",
   "metadata": {},
   "outputs": [],
   "source": [
    "#corr_pd = corr_pd.loc[~(corr_pd==0).all(axis=1)]\n",
    "\n",
    "fig, ax =plt.subplots(1,3)\n",
    "sns.histplot(corr_pd[0], ax=ax[0])\n",
    "sns.histplot(corr_pd[1], ax=ax[1]).set(title='OLS with Correlation')\n",
    "sns.histplot(corr_pd[2], ax=ax[2])\n",
    "\n",
    "fig.show()"
   ]
  },
  {
   "cell_type": "code",
   "execution_count": null,
   "id": "5dffa8f4",
   "metadata": {},
   "outputs": [],
   "source": [
    "wo_corr_pd.mean()"
   ]
  },
  {
   "cell_type": "code",
   "execution_count": null,
   "id": "40e7acdf",
   "metadata": {},
   "outputs": [],
   "source": [
    "#corr_pd = corr_pd.loc[~(corr_pd==0).all(axis=1)]\n",
    "\n",
    "fig, ax =plt.subplots(1,3)\n",
    "sns.histplot(corr_pd_IV[0], ax=ax[0])\n",
    "sns.histplot(corr_pd_IV[1], ax=ax[1]).set(title='IV with Correlation')\n",
    "sns.histplot(corr_pd_IV[2], ax=ax[2])\n",
    "\n",
    "fig.show()"
   ]
  },
  {
   "cell_type": "code",
   "execution_count": null,
   "id": "d265ef07-65b3-493d-b655-54a27141dd7f",
   "metadata": {},
   "outputs": [],
   "source": [
    "corr_pd_IV.mean()"
   ]
  },
  {
   "cell_type": "code",
   "execution_count": null,
   "id": "f5e3cfcc-f74e-46b9-bc8c-8b321aaf2862",
   "metadata": {
    "tags": []
   },
   "outputs": [],
   "source": [
    "corr_pd = pd.DataFrame(corr_IV)\n",
    "corr_pd = corr_pd.loc[~(corr_pd==0).all(axis=1)]\n",
    "\n",
    "fig, ax =plt.subplots(1,3)\n",
    "sns.histplot(corr_pd[0], ax=ax[0])\n",
    "sns.histplot(corr_pd[1], ax=ax[1])\n",
    "sns.histplot(corr_pd[2], ax=ax[2])\n",
    "\n",
    "fig.show()"
   ]
  },
  {
   "cell_type": "code",
   "execution_count": null,
   "id": "6f4391f8-95b9-4f9f-a829-7751d9a0a5bc",
   "metadata": {},
   "outputs": [],
   "source": [
    "corr_pd.mean()"
   ]
  },
  {
   "cell_type": "markdown",
   "id": "9054e570-aaf0-4d56-8140-d854a1268348",
   "metadata": {},
   "source": [
    "### Adding Instruments: \n",
    "BLP Instruments consist of: \n",
    " - average attributes of own firm other products characteristics (if j = 1, then this instrument is invalid)\n",
    " - average attributes of other firm product characteristics.     \n"
   ]
  },
  {
   "cell_type": "code",
   "execution_count": null,
   "id": "6f13bf63-1aff-4133-8039-26272c55ebe0",
   "metadata": {},
   "outputs": [],
   "source": []
  },
  {
   "cell_type": "code",
   "execution_count": null,
   "id": "de5d0c69",
   "metadata": {},
   "outputs": [],
   "source": [
    "# I need to first estimate a model consisting only of constants. \n",
    "# Then I need to regress these constants on instruments. "
   ]
  },
  {
   "cell_type": "code",
   "execution_count": null,
   "id": "c89adef1-8f13-4607-b85a-7f1c028a0ccc",
   "metadata": {},
   "outputs": [],
   "source": []
  },
  {
   "cell_type": "markdown",
   "id": "056c880d-6b87-46b7-bf54-ed21e3bb3643",
   "metadata": {
    "tags": []
   },
   "source": [
    "### Results\n",
    "Unexpected result since OLS is able to recover the parameters of the model exactly. Right now the model is estimated Must be because pr"
   ]
  },
  {
   "cell_type": "code",
   "execution_count": null,
   "id": "b3bf96eb-c7e7-46c5-9068-44e65b794c27",
   "metadata": {},
   "outputs": [],
   "source": []
  },
  {
   "cell_type": "code",
   "execution_count": null,
   "id": "b290d12c-94fb-4b45-b803-9da680dad332",
   "metadata": {},
   "outputs": [],
   "source": [
    "X.repeat(200, axis=0).shape"
   ]
  },
  {
   "cell_type": "code",
   "execution_count": null,
   "id": "5a4b4152-f454-411b-9a51-8a5caf6db222",
   "metadata": {},
   "outputs": [],
   "source": [
    "X.repeat(200, axis=0).shape\n"
   ]
  },
  {
   "cell_type": "code",
   "execution_count": null,
   "id": "5eec7111-2035-4c33-940a-cee66015dd53",
   "metadata": {},
   "outputs": [],
   "source": [
    "mean = [0,0]\n",
    "cov  = np.array([[1,0.1],[0.1,1]])\n",
    "test=np.random.multivariate_normal(mean,cov,size = (f,j) )\n",
    "test.shape"
   ]
  },
  {
   "cell_type": "code",
   "execution_count": null,
   "id": "81290509-74a9-40cb-9c70-e8e2d6265adf",
   "metadata": {},
   "outputs": [],
   "source": [
    "cov"
   ]
  },
  {
   "cell_type": "code",
   "execution_count": null,
   "id": "3b5f8a7f-6f70-402d-9c4b-28aef5f9b133",
   "metadata": {},
   "outputs": [],
   "source": [
    "np.random.multivariate_normal([0,0],cov, size = (f*j)).shape"
   ]
  },
  {
   "cell_type": "code",
   "execution_count": null,
   "id": "4ff872b1-0bd4-4ae0-871c-b254799a0898",
   "metadata": {},
   "outputs": [],
   "source": [
    "x = np.array([1,1,1,0])\n",
    "np.maximum(x, 0.5)"
   ]
  },
  {
   "cell_type": "code",
   "execution_count": null,
   "id": "129306df",
   "metadata": {},
   "outputs": [],
   "source": [
    "\n",
    "\n",
    "\n",
    "def sim_study_IV(Q,cov):\n",
    "    parameters = np.zeros((Q,3))#+4*2))\n",
    "    for q in tqdm(range(Q)): \n",
    "        try:\n",
    "            f=2 # Firms\n",
    "            j=3 # Products\n",
    "            k=2 # Traits (of each product) \n",
    "\n",
    "            data = DE.endog_data()\n",
    "            X, prod=data.simulate_product_traits(f,j,k, which_type = \"Differentiated\")\n",
    "            X = X.reshape(j*f, -1)\n",
    "            H = data.hadamard(f*j,prod)\n",
    "\n",
    "            # True Parameters \n",
    "            alpha = -1                # Price sensitivity\n",
    "            beta= np.array([1,1])        # Preference for traits \n",
    "            theta = np.append(alpha,beta)  \n",
    "            #cov = np.array([[1,0.5],[0.5,1]])\n",
    "\n",
    "            gamma = -np.array([1,1,1])\n",
    "            T = 20\n",
    "            P0 = np.zeros((f*j)) +1               #Initital price vector\n",
    "\n",
    "            # Simulate data \n",
    "            S = np.array(0) \n",
    "            while S.min() == 0.0:\n",
    "                P, S = data.sim_data_T(X, f, j, T, theta, gamma, cov, prod, H, disable = True)\n",
    "            S.min()\n",
    "            \n",
    "            # constructing instruments: \n",
    "            # Not implemented\n",
    "\n",
    "            #Estimation: \n",
    "            S0=(1-np.sum(S,axis=0))\n",
    "\n",
    "            index=np.log(S/S0).reshape(-1,1)\n",
    "            \n",
    "\n",
    "            check = np.array(np.arange(j*f))\n",
    "            Z = []\n",
    "            for firm, js in prod.items():\n",
    "                not_f_prods=[j for j in check if j not in js ]\n",
    "\n",
    "                Z_i = X[not_f_prods,:].mean(axis=0)\n",
    "\n",
    "                Z.append(Z_i)\n",
    "\n",
    "            Z = np.array(Z) \n",
    "\n",
    "            ZZ = Z.repeat(T, axis=0)\n",
    "            Piv1 = P.reshape(-1)\n",
    "\n",
    "\n",
    "            results1step=OLS(Piv1,ZZ).fit()\n",
    "            results1step.params\n",
    "\n",
    "            EP = (ZZ @ results1step.params).reshape(-1,1)\n",
    "\n",
    "            # Step 2 IV: \n",
    "            ZX = np.hstack((EP, X.repeat(T, axis=0)))\n",
    "            #XX = XX[:,0:2]\n",
    "            resultsIV=OLS(index,ZX).fit()\n",
    "        \n",
    "            parameters[q,:] = resultsIV.params\n",
    "            \n",
    "        except np.linalg.LinAlgError: \n",
    "            continue\n",
    "    return parameters\n",
    "\n",
    "\n",
    "\n",
    "\n",
    "    "
   ]
  }
 ],
 "metadata": {
  "kernelspec": {
   "display_name": "Python 3.8.11 ('base')",
   "language": "python",
   "name": "python3"
  },
  "language_info": {
   "codemirror_mode": {
    "name": "ipython",
    "version": 3
   },
   "file_extension": ".py",
   "mimetype": "text/x-python",
   "name": "python",
   "nbconvert_exporter": "python",
   "pygments_lexer": "ipython3",
   "version": "3.8.11 (default, Aug  6 2021, 09:57:55) [MSC v.1916 64 bit (AMD64)]"
  },
  "vscode": {
   "interpreter": {
    "hash": "d5a0c3e419fda15d4b76bf2f3bfd572c6805e0c6b62bc5e5173f36b9952700c2"
   }
  }
 },
 "nbformat": 4,
 "nbformat_minor": 5
}
